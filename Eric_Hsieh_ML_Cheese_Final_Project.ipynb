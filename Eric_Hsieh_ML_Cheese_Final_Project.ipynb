{
 "cells": [
  {
   "cell_type": "markdown",
   "metadata": {},
   "source": [
    "# Decoding The Dairy Cheese Code: A Machine Learning Final Project\n",
    "### Author: Eric Hsieh"
   ]
  },
  {
   "cell_type": "markdown",
   "metadata": {},
   "source": [
    "## Introduction\n",
    "Cheese is one of the world's most cherished foods, enjoyed by many on a regular basis. However, not all cheeses are created equal. They vary significantly in characteristics and how they can be consumed such as in a creamy fondue, on a vibrant charcuterie board, or layered in a delicious sandwich. As consumers become increasingly conscious of fat content in their diets, it is essential for producers to provide accurate labeling for their cheeses. This project aims to simplify this process by developing a machine learning model that predicts whether a cheese is lower-fat or higher-fat based on two key factors: milk type and moisture content.\n",
    "\n",
    "### Goal\n",
    "The goal of this project is to develop and apply machine learning models to analyze a dataset of Canadian cheese. The objective is to classify cheeses as lower-fat or higher-fat based on their milk type and moisture content. \n",
    "\n",
    "\n",
    "### Question\n",
    "Can we accurately classify Canadian cheeses as lower-fat or higher-fat using only their milk type and moisture content?\n",
    "\n",
    "\n",
    "### Expected Outcome\n",
    "The project will result in a classification model capable of assigning the appropriate category to each cheese based on the given cheese characteristics.\n",
    "\n",
    "### Machine Learning Framework\n",
    "This project is a classification problem within a supervised machine learning framework where the target variable is the cheese fat level, represented by the FatLevel column.\n",
    "\n",
    "\n",
    "### Significance\n",
    "This question is relevant because people care about the fat content in their food, especially when choosing cheese. Producers can use this model to label their cheeses more accurately, making it easier for shoppers to pick what’s right for them. It also helps producers and stores market their products better to meet different diet needs.\n"
   ]
  },
  {
   "cell_type": "markdown",
   "metadata": {},
   "source": [
    "## Exploratory Data Analysis (EDA)\n",
    "\n",
    "### Reading the data"
   ]
  },
  {
   "cell_type": "markdown",
   "metadata": {},
   "source": [
    "I will begin by importing the libraries required to perform analysis, and the the cheese_data.csv file."
   ]
  },
  {
   "cell_type": "code",
   "execution_count": 1,
   "metadata": {},
   "outputs": [],
   "source": [
    "# import necesesary libraries\n",
    "import pandas as pd\n",
    "import altair as alt\n",
    "import matplotlib.pyplot as plt\n",
    "from sklearn.model_selection import train_test_split, cross_validate, GridSearchCV, RandomizedSearchCV\n",
    "from sklearn.dummy import DummyClassifier\n",
    "from sklearn.pipeline import make_pipeline\n",
    "from sklearn.impute import SimpleImputer\n",
    "from sklearn.ensemble import RandomForestClassifier\n",
    "from sklearn.neighbors import KNeighborsClassifier\n",
    "from sklearn.linear_model import Ridge, LogisticRegression\n",
    "from sklearn.compose import make_column_transformer\n",
    "from sklearn.svm import SVC\n",
    "from sklearn.metrics import ConfusionMatrixDisplay, classification_report, f1_score\n",
    "from sklearn.preprocessing import OneHotEncoder, StandardScaler\n",
    "from sklearn.metrics import confusion_matrix, plot_confusion_matrix"
   ]
  },
  {
   "cell_type": "code",
   "execution_count": 2,
   "metadata": {},
   "outputs": [
    {
     "data": {
      "text/html": [
       "<div>\n",
       "<style scoped>\n",
       "    .dataframe tbody tr th:only-of-type {\n",
       "        vertical-align: middle;\n",
       "    }\n",
       "\n",
       "    .dataframe tbody tr th {\n",
       "        vertical-align: top;\n",
       "    }\n",
       "\n",
       "    .dataframe thead th {\n",
       "        text-align: right;\n",
       "    }\n",
       "</style>\n",
       "<table border=\"1\" class=\"dataframe\">\n",
       "  <thead>\n",
       "    <tr style=\"text-align: right;\">\n",
       "      <th></th>\n",
       "      <th>CheeseId</th>\n",
       "      <th>ManufacturerProvCode</th>\n",
       "      <th>ManufacturingTypeEn</th>\n",
       "      <th>MoisturePercent</th>\n",
       "      <th>FlavourEn</th>\n",
       "      <th>CharacteristicsEn</th>\n",
       "      <th>Organic</th>\n",
       "      <th>CategoryTypeEn</th>\n",
       "      <th>MilkTypeEn</th>\n",
       "      <th>MilkTreatmentTypeEn</th>\n",
       "      <th>RindTypeEn</th>\n",
       "      <th>CheeseName</th>\n",
       "      <th>FatLevel</th>\n",
       "    </tr>\n",
       "  </thead>\n",
       "  <tbody>\n",
       "    <tr>\n",
       "      <th>0</th>\n",
       "      <td>228</td>\n",
       "      <td>NB</td>\n",
       "      <td>Farmstead</td>\n",
       "      <td>47.0</td>\n",
       "      <td>Sharp, lactic</td>\n",
       "      <td>Uncooked</td>\n",
       "      <td>0</td>\n",
       "      <td>Firm Cheese</td>\n",
       "      <td>Ewe</td>\n",
       "      <td>Raw Milk</td>\n",
       "      <td>Washed Rind</td>\n",
       "      <td>Sieur de Duplessis (Le)</td>\n",
       "      <td>lower fat</td>\n",
       "    </tr>\n",
       "    <tr>\n",
       "      <th>1</th>\n",
       "      <td>242</td>\n",
       "      <td>NB</td>\n",
       "      <td>Farmstead</td>\n",
       "      <td>47.9</td>\n",
       "      <td>Sharp, lactic, lightly caramelized</td>\n",
       "      <td>Uncooked</td>\n",
       "      <td>0</td>\n",
       "      <td>Semi-soft Cheese</td>\n",
       "      <td>Cow</td>\n",
       "      <td>Raw Milk</td>\n",
       "      <td>Washed Rind</td>\n",
       "      <td>Tomme Le Champ Doré</td>\n",
       "      <td>lower fat</td>\n",
       "    </tr>\n",
       "    <tr>\n",
       "      <th>2</th>\n",
       "      <td>301</td>\n",
       "      <td>ON</td>\n",
       "      <td>Industrial</td>\n",
       "      <td>54.0</td>\n",
       "      <td>Mild, tangy, and fruity</td>\n",
       "      <td>Pressed and cooked cheese, pasta filata, inter...</td>\n",
       "      <td>0</td>\n",
       "      <td>Firm Cheese</td>\n",
       "      <td>Cow</td>\n",
       "      <td>Pasteurized</td>\n",
       "      <td>NaN</td>\n",
       "      <td>Provolone Sette Fette (Tre-Stelle)</td>\n",
       "      <td>lower fat</td>\n",
       "    </tr>\n",
       "    <tr>\n",
       "      <th>3</th>\n",
       "      <td>303</td>\n",
       "      <td>NB</td>\n",
       "      <td>Farmstead</td>\n",
       "      <td>47.0</td>\n",
       "      <td>Sharp with fruity notes and a hint of wild honey</td>\n",
       "      <td>NaN</td>\n",
       "      <td>0</td>\n",
       "      <td>Veined Cheeses</td>\n",
       "      <td>Cow</td>\n",
       "      <td>Raw Milk</td>\n",
       "      <td>NaN</td>\n",
       "      <td>Geai Bleu (Le)</td>\n",
       "      <td>lower fat</td>\n",
       "    </tr>\n",
       "    <tr>\n",
       "      <th>4</th>\n",
       "      <td>319</td>\n",
       "      <td>NB</td>\n",
       "      <td>Farmstead</td>\n",
       "      <td>49.4</td>\n",
       "      <td>Softer taste</td>\n",
       "      <td>NaN</td>\n",
       "      <td>1</td>\n",
       "      <td>Semi-soft Cheese</td>\n",
       "      <td>Cow</td>\n",
       "      <td>Raw Milk</td>\n",
       "      <td>Washed Rind</td>\n",
       "      <td>Gamin (Le)</td>\n",
       "      <td>lower fat</td>\n",
       "    </tr>\n",
       "  </tbody>\n",
       "</table>\n",
       "</div>"
      ],
      "text/plain": [
       "   CheeseId ManufacturerProvCode ManufacturingTypeEn  MoisturePercent  \\\n",
       "0       228                   NB           Farmstead             47.0   \n",
       "1       242                   NB           Farmstead             47.9   \n",
       "2       301                   ON          Industrial             54.0   \n",
       "3       303                   NB           Farmstead             47.0   \n",
       "4       319                   NB           Farmstead             49.4   \n",
       "\n",
       "                                          FlavourEn  \\\n",
       "0                                     Sharp, lactic   \n",
       "1                Sharp, lactic, lightly caramelized   \n",
       "2                           Mild, tangy, and fruity   \n",
       "3  Sharp with fruity notes and a hint of wild honey   \n",
       "4                                      Softer taste   \n",
       "\n",
       "                                   CharacteristicsEn  Organic  \\\n",
       "0                                           Uncooked        0   \n",
       "1                                           Uncooked        0   \n",
       "2  Pressed and cooked cheese, pasta filata, inter...        0   \n",
       "3                                                NaN        0   \n",
       "4                                                NaN        1   \n",
       "\n",
       "     CategoryTypeEn MilkTypeEn MilkTreatmentTypeEn   RindTypeEn  \\\n",
       "0       Firm Cheese        Ewe            Raw Milk  Washed Rind   \n",
       "1  Semi-soft Cheese        Cow            Raw Milk  Washed Rind   \n",
       "2       Firm Cheese        Cow         Pasteurized          NaN   \n",
       "3    Veined Cheeses        Cow            Raw Milk          NaN   \n",
       "4  Semi-soft Cheese        Cow            Raw Milk  Washed Rind   \n",
       "\n",
       "                           CheeseName   FatLevel  \n",
       "0             Sieur de Duplessis (Le)  lower fat  \n",
       "1                 Tomme Le Champ Doré  lower fat  \n",
       "2  Provolone Sette Fette (Tre-Stelle)  lower fat  \n",
       "3                      Geai Bleu (Le)  lower fat  \n",
       "4                          Gamin (Le)  lower fat  "
      ]
     },
     "execution_count": 2,
     "metadata": {},
     "output_type": "execute_result"
    }
   ],
   "source": [
    "import pandas as pd\n",
    "import numpy as np\n",
    "\n",
    "# Load the dataset cheese_data.csv\n",
    "cheese_df = pd.read_csv('data/cheese_data.csv')\n",
    "cheese_df.head()"
   ]
  },
  {
   "cell_type": "markdown",
   "metadata": {},
   "source": [
    "**Table 1:** Cheese dataset showing the first 5 rows of data."
   ]
  },
  {
   "cell_type": "markdown",
   "metadata": {},
   "source": [
    "Then, I will filter out the dataframe with the interested columns."
   ]
  },
  {
   "cell_type": "code",
   "execution_count": 3,
   "metadata": {},
   "outputs": [
    {
     "name": "stdout",
     "output_type": "stream",
     "text": [
      "<class 'pandas.core.frame.DataFrame'>\n",
      "RangeIndex: 1042 entries, 0 to 1041\n",
      "Data columns (total 3 columns):\n",
      " #   Column           Non-Null Count  Dtype  \n",
      "---  ------           --------------  -----  \n",
      " 0   MoisturePercent  1028 non-null   float64\n",
      " 1   MilkTypeEn       1041 non-null   object \n",
      " 2   FatLevel         1042 non-null   object \n",
      "dtypes: float64(1), object(2)\n",
      "memory usage: 24.5+ KB\n"
     ]
    },
    {
     "data": {
      "text/html": [
       "<div>\n",
       "<style scoped>\n",
       "    .dataframe tbody tr th:only-of-type {\n",
       "        vertical-align: middle;\n",
       "    }\n",
       "\n",
       "    .dataframe tbody tr th {\n",
       "        vertical-align: top;\n",
       "    }\n",
       "\n",
       "    .dataframe thead th {\n",
       "        text-align: right;\n",
       "    }\n",
       "</style>\n",
       "<table border=\"1\" class=\"dataframe\">\n",
       "  <thead>\n",
       "    <tr style=\"text-align: right;\">\n",
       "      <th></th>\n",
       "      <th>MoisturePercent</th>\n",
       "      <th>MilkTypeEn</th>\n",
       "      <th>FatLevel</th>\n",
       "    </tr>\n",
       "  </thead>\n",
       "  <tbody>\n",
       "    <tr>\n",
       "      <th>0</th>\n",
       "      <td>47.0</td>\n",
       "      <td>Ewe</td>\n",
       "      <td>lower fat</td>\n",
       "    </tr>\n",
       "    <tr>\n",
       "      <th>1</th>\n",
       "      <td>47.9</td>\n",
       "      <td>Cow</td>\n",
       "      <td>lower fat</td>\n",
       "    </tr>\n",
       "    <tr>\n",
       "      <th>2</th>\n",
       "      <td>54.0</td>\n",
       "      <td>Cow</td>\n",
       "      <td>lower fat</td>\n",
       "    </tr>\n",
       "    <tr>\n",
       "      <th>3</th>\n",
       "      <td>47.0</td>\n",
       "      <td>Cow</td>\n",
       "      <td>lower fat</td>\n",
       "    </tr>\n",
       "    <tr>\n",
       "      <th>4</th>\n",
       "      <td>49.4</td>\n",
       "      <td>Cow</td>\n",
       "      <td>lower fat</td>\n",
       "    </tr>\n",
       "  </tbody>\n",
       "</table>\n",
       "</div>"
      ],
      "text/plain": [
       "   MoisturePercent MilkTypeEn   FatLevel\n",
       "0             47.0        Ewe  lower fat\n",
       "1             47.9        Cow  lower fat\n",
       "2             54.0        Cow  lower fat\n",
       "3             47.0        Cow  lower fat\n",
       "4             49.4        Cow  lower fat"
      ]
     },
     "execution_count": 3,
     "metadata": {},
     "output_type": "execute_result"
    }
   ],
   "source": [
    "# Filter feature and target columns\n",
    "cheese_df = cheese_df.loc[:, ['MoisturePercent', 'MilkTypeEn', 'FatLevel']]\n",
    "cheese_df.info()\n",
    "cheese_df.head()"
   ]
  },
  {
   "cell_type": "markdown",
   "metadata": {},
   "source": [
    "**Table 2:** Filtered Cheese data with desired feature and target variables showing the first 5 rows of data."
   ]
  },
  {
   "cell_type": "markdown",
   "metadata": {},
   "source": [
    "#### Splitting the data\n",
    "Before we do any Data Exploration, pre-processin, or imputing, we want to immediately split the data into two main parts: training and testing. Splitting the data early on helps us assess how well our model generalizes in the future.\n",
    "\n",
    "We don't separate them into targets yet because we want to perform EDA on the training portion."
   ]
  },
  {
   "cell_type": "code",
   "execution_count": 4,
   "metadata": {},
   "outputs": [
    {
     "name": "stdout",
     "output_type": "stream",
     "text": [
      "<class 'pandas.core.frame.DataFrame'>\n",
      "Int64Index: 833 entries, 431 to 457\n",
      "Data columns (total 3 columns):\n",
      " #   Column           Non-Null Count  Dtype  \n",
      "---  ------           --------------  -----  \n",
      " 0   MoisturePercent  825 non-null    float64\n",
      " 1   MilkTypeEn       832 non-null    object \n",
      " 2   FatLevel         833 non-null    object \n",
      "dtypes: float64(1), object(2)\n",
      "memory usage: 26.0+ KB\n"
     ]
    },
    {
     "data": {
      "text/html": [
       "<div>\n",
       "<style scoped>\n",
       "    .dataframe tbody tr th:only-of-type {\n",
       "        vertical-align: middle;\n",
       "    }\n",
       "\n",
       "    .dataframe tbody tr th {\n",
       "        vertical-align: top;\n",
       "    }\n",
       "\n",
       "    .dataframe thead th {\n",
       "        text-align: right;\n",
       "    }\n",
       "</style>\n",
       "<table border=\"1\" class=\"dataframe\">\n",
       "  <thead>\n",
       "    <tr style=\"text-align: right;\">\n",
       "      <th></th>\n",
       "      <th>MoisturePercent</th>\n",
       "    </tr>\n",
       "  </thead>\n",
       "  <tbody>\n",
       "    <tr>\n",
       "      <th>count</th>\n",
       "      <td>825.000000</td>\n",
       "    </tr>\n",
       "    <tr>\n",
       "      <th>mean</th>\n",
       "      <td>46.988121</td>\n",
       "    </tr>\n",
       "    <tr>\n",
       "      <th>std</th>\n",
       "      <td>9.760793</td>\n",
       "    </tr>\n",
       "    <tr>\n",
       "      <th>min</th>\n",
       "      <td>12.000000</td>\n",
       "    </tr>\n",
       "    <tr>\n",
       "      <th>25%</th>\n",
       "      <td>40.000000</td>\n",
       "    </tr>\n",
       "    <tr>\n",
       "      <th>50%</th>\n",
       "      <td>45.000000</td>\n",
       "    </tr>\n",
       "    <tr>\n",
       "      <th>75%</th>\n",
       "      <td>52.000000</td>\n",
       "    </tr>\n",
       "    <tr>\n",
       "      <th>max</th>\n",
       "      <td>92.000000</td>\n",
       "    </tr>\n",
       "  </tbody>\n",
       "</table>\n",
       "</div>"
      ],
      "text/plain": [
       "       MoisturePercent\n",
       "count       825.000000\n",
       "mean         46.988121\n",
       "std           9.760793\n",
       "min          12.000000\n",
       "25%          40.000000\n",
       "50%          45.000000\n",
       "75%          52.000000\n",
       "max          92.000000"
      ]
     },
     "execution_count": 4,
     "metadata": {},
     "output_type": "execute_result"
    }
   ],
   "source": [
    "# Split the data into training and testing sets using an 80/20 split\n",
    "cheese_train, cheese_test = train_test_split(cheese_df, train_size=0.80)\n",
    "cheese_train.info()\n",
    "cheese_train.describe()"
   ]
  },
  {
   "cell_type": "markdown",
   "metadata": {},
   "source": [
    "**Table 3**: MoisturePercent column's summary statictics."
   ]
  },
  {
   "cell_type": "code",
   "execution_count": 5,
   "metadata": {},
   "outputs": [
    {
     "name": "stdout",
     "output_type": "stream",
     "text": [
      "Milk Type\n",
      " Cow             601\n",
      "Goat            166\n",
      "Ewe              49\n",
      "Cow and Goat     10\n",
      "Ewe and Cow       3\n",
      "Buffalo Cow       2\n",
      "Ewe and Goat      1\n",
      "Name: MilkTypeEn, dtype: int64 \n",
      "\n",
      "Fat Level\n",
      " lower fat     538\n",
      "higher fat    295\n",
      "Name: FatLevel, dtype: int64\n"
     ]
    }
   ],
   "source": [
    "# Unique values for 'MilkTypeEn' and 'FatLevel'\n",
    "print(\n",
    "    'Milk Type\\n',\n",
    "    cheese_train['MilkTypeEn'].value_counts(),\n",
    "    '\\n\\nFat Level\\n',\n",
    "    cheese_train['FatLevel'].value_counts(),\n",
    ")"
   ]
  },
  {
   "cell_type": "markdown",
   "metadata": {},
   "source": [
    "#### Missing Data"
   ]
  },
  {
   "cell_type": "code",
   "execution_count": 6,
   "metadata": {},
   "outputs": [
    {
     "name": "stdout",
     "output_type": "stream",
     "text": [
      "Count of Missing Data for MoisturePercent: 8 missing values\n",
      "Count of Missing Data for MilkTypeEn: 1 missing values\n"
     ]
    },
    {
     "data": {
      "text/plain": [
       "MoisturePercent    8\n",
       "MilkTypeEn         1\n",
       "FatLevel           0\n",
       "dtype: int64"
      ]
     },
     "execution_count": 6,
     "metadata": {},
     "output_type": "execute_result"
    }
   ],
   "source": [
    "# Count of missing data\n",
    "missing_counts = cheese_train.isna().sum()\n",
    "\n",
    "missing_moisture_percent = missing_counts['MoisturePercent']\n",
    "missing_milk_type = missing_counts['MilkTypeEn']\n",
    "print(f\"Count of Missing Data for MoisturePercent: {missing_moisture_percent} missing values\")\n",
    "print(f\"Count of Missing Data for MilkTypeEn: {missing_milk_type} missing values\")\n",
    "cheese_train.isna().sum()"
   ]
  },
  {
   "cell_type": "code",
   "execution_count": 7,
   "metadata": {},
   "outputs": [
    {
     "data": {
      "text/html": [
       "<div>\n",
       "<style scoped>\n",
       "    .dataframe tbody tr th:only-of-type {\n",
       "        vertical-align: middle;\n",
       "    }\n",
       "\n",
       "    .dataframe tbody tr th {\n",
       "        vertical-align: top;\n",
       "    }\n",
       "\n",
       "    .dataframe thead th {\n",
       "        text-align: right;\n",
       "    }\n",
       "</style>\n",
       "<table border=\"1\" class=\"dataframe\">\n",
       "  <thead>\n",
       "    <tr style=\"text-align: right;\">\n",
       "      <th></th>\n",
       "      <th>MoisturePercent</th>\n",
       "      <th>MilkTypeEn</th>\n",
       "      <th>FatLevel</th>\n",
       "    </tr>\n",
       "  </thead>\n",
       "  <tbody>\n",
       "    <tr>\n",
       "      <th>704</th>\n",
       "      <td>NaN</td>\n",
       "      <td>Cow</td>\n",
       "      <td>lower fat</td>\n",
       "    </tr>\n",
       "    <tr>\n",
       "      <th>605</th>\n",
       "      <td>NaN</td>\n",
       "      <td>Cow</td>\n",
       "      <td>lower fat</td>\n",
       "    </tr>\n",
       "    <tr>\n",
       "      <th>468</th>\n",
       "      <td>NaN</td>\n",
       "      <td>Cow</td>\n",
       "      <td>lower fat</td>\n",
       "    </tr>\n",
       "    <tr>\n",
       "      <th>1029</th>\n",
       "      <td>42.0</td>\n",
       "      <td>NaN</td>\n",
       "      <td>higher fat</td>\n",
       "    </tr>\n",
       "    <tr>\n",
       "      <th>85</th>\n",
       "      <td>NaN</td>\n",
       "      <td>Ewe</td>\n",
       "      <td>lower fat</td>\n",
       "    </tr>\n",
       "    <tr>\n",
       "      <th>141</th>\n",
       "      <td>NaN</td>\n",
       "      <td>Cow</td>\n",
       "      <td>lower fat</td>\n",
       "    </tr>\n",
       "    <tr>\n",
       "      <th>142</th>\n",
       "      <td>NaN</td>\n",
       "      <td>Cow</td>\n",
       "      <td>lower fat</td>\n",
       "    </tr>\n",
       "    <tr>\n",
       "      <th>61</th>\n",
       "      <td>NaN</td>\n",
       "      <td>Cow</td>\n",
       "      <td>higher fat</td>\n",
       "    </tr>\n",
       "    <tr>\n",
       "      <th>118</th>\n",
       "      <td>NaN</td>\n",
       "      <td>Cow</td>\n",
       "      <td>lower fat</td>\n",
       "    </tr>\n",
       "  </tbody>\n",
       "</table>\n",
       "</div>"
      ],
      "text/plain": [
       "      MoisturePercent MilkTypeEn    FatLevel\n",
       "704               NaN        Cow   lower fat\n",
       "605               NaN        Cow   lower fat\n",
       "468               NaN        Cow   lower fat\n",
       "1029             42.0        NaN  higher fat\n",
       "85                NaN        Ewe   lower fat\n",
       "141               NaN        Cow   lower fat\n",
       "142               NaN        Cow   lower fat\n",
       "61                NaN        Cow  higher fat\n",
       "118               NaN        Cow   lower fat"
      ]
     },
     "execution_count": 7,
     "metadata": {},
     "output_type": "execute_result"
    }
   ],
   "source": [
    "# View the rows with missing data in any column\n",
    "missing_data_rows = cheese_train[cheese_train.isnull().any(axis=1)]\n",
    "missing_data_rows"
   ]
  },
  {
   "cell_type": "markdown",
   "metadata": {},
   "source": [
    "**Table 4**: Missing data rows with at least one NaN value."
   ]
  },
  {
   "cell_type": "markdown",
   "metadata": {},
   "source": [
    "### Data Visualization\n",
    "We will now perform data visualization on the selected features and target variable."
   ]
  },
  {
   "cell_type": "code",
   "execution_count": 8,
   "metadata": {},
   "outputs": [],
   "source": [
    "# Figure 1: Distribution of Milk Types Plot\n",
    "milk_types_distribution = alt.Chart(cheese_df).mark_bar().encode(\n",
    "    x=alt.X('count()', title='Count'),\n",
    "    y=alt.Y('MilkTypeEn', sort=alt.SortField(field='count()', order='descending'), title='Milk Type'),\n",
    "    color=alt.Color('MilkTypeEn', legend=alt.Legend(title=\"Milk Type\"))\n",
    ").properties(\n",
    "    title='Distribution of Milk Types',\n",
    "    width=400,\n",
    "    height=180\n",
    ")\n",
    "\n",
    "# footer as a separate text layer\n",
    "milk_types_footer = alt.Chart(pd.DataFrame({'text': ['Figure 1: This chart shows the count of cheeses by milk type.']})).mark_text(\n",
    "    align='center',\n",
    "    baseline='middle',\n",
    "    fontSize=12\n",
    ").encode(\n",
    "    x=alt.value(200),\n",
    "    y=alt.value(225),\n",
    "    text='text:N'\n",
    ")\n",
    "milk_types_distribution_chart = milk_types_distribution + milk_types_footer\n",
    "#milk_types_distribution"
   ]
  },
  {
   "cell_type": "code",
   "execution_count": 9,
   "metadata": {},
   "outputs": [],
   "source": [
    "# Figure 2: Distribution of Moisture Percentage Plot\n",
    "moisture_distribution = alt.Chart(cheese_df).mark_bar().encode(\n",
    "    alt.X('MoisturePercent:Q', bin=alt.Bin(maxbins=50), title='Moisture Percentage'),\n",
    "    alt.Y('count():Q', title='Count')\n",
    ").properties(\n",
    "    title='Distribution of Moisture Percentage in Canadian Cheeses',\n",
    "    width=500,\n",
    "    height=300\n",
    ")\n",
    "\n",
    "# footer as a separate text layer\n",
    "moisture_footer = alt.Chart(pd.DataFrame({'text': ['Figure 2: This chart shows the distribution of moisture percentages in Canadian cheeses.']})).mark_text(\n",
    "    align='center',\n",
    "    baseline='middle',\n",
    "    fontSize=12\n",
    ").encode(\n",
    "    x=alt.value(250),\n",
    "    y=alt.value(345),\n",
    "    text='text:N'\n",
    ")\n",
    "moisture_distribution_chart = moisture_distribution + moisture_footer\n",
    "#moisture_distribution_chart"
   ]
  },
  {
   "cell_type": "code",
   "execution_count": 10,
   "metadata": {},
   "outputs": [],
   "source": [
    "# Figure 3: Distribution of Fat Level Plot\n",
    "fat_level_distribution = alt.Chart(cheese_df).mark_bar().encode(\n",
    "    alt.X('FatLevel:N', title='Fat Level'),  # Categorical variable\n",
    "    alt.Y('count():Q', title='Count'),  # Count of occurrences\n",
    "    color=alt.Color('FatLevel:N', legend=alt.Legend(title=\"Fat Level\"))  # Color by fat level\n",
    ").properties(\n",
    "    title='Distribution of Fat Levels in Canadian Cheeses (Figure 3.)',\n",
    "    width=400,\n",
    "    height=300\n",
    ")\n",
    "\n",
    "# footer as a separate text layer\n",
    "fat_level_footer = alt.Chart(pd.DataFrame({'text': ['Figure 3: This chart shows the distribution of fat levels in Canadian cheeses.']})).mark_text(\n",
    "    align='center',\n",
    "    baseline='middle',\n",
    "    fontSize=12\n",
    ").encode(\n",
    "    x=alt.value(200),\n",
    "    y=alt.value(380),\n",
    "    text='text:N'\n",
    ")\n",
    "fat_level_distribution_chart = fat_level_distribution + fat_level_footer\n",
    "#fat_level_distribution_chart"
   ]
  },
  {
   "cell_type": "code",
   "execution_count": 11,
   "metadata": {},
   "outputs": [],
   "source": [
    "# Figure 4: Box plot for Moisture Percentage by Fat Level\n",
    "moisture_vs_fat = alt.Chart(cheese_df).mark_boxplot().encode(\n",
    "    x='FatLevel:N',\n",
    "    y='MoisturePercent:Q',\n",
    "    color='FatLevel:N'\n",
    ").properties(\n",
    "    title='Moisture Percentage by Fat Level (Figure 4.)',\n",
    "    width=400,\n",
    "    height=300\n",
    ")\n",
    "\n",
    "# Create a footer as a separate text layer\n",
    "moisture_vs_fat_footer = alt.Chart(pd.DataFrame({'text': ['Figure 4: This chart shows the moisture percentage distribution by fat level.']})).mark_text(\n",
    "    align='center',\n",
    "    baseline='middle',\n",
    "    fontSize=12\n",
    ").encode(\n",
    "    x=alt.value(200),\n",
    "    y=alt.value(350)\n",
    ")\n",
    "moisture_vs_fat_chart = moisture_vs_fat + moisture_vs_fat_footer\n",
    "#moisture_vs_fat_chart"
   ]
  },
  {
   "cell_type": "markdown",
   "metadata": {},
   "source": [
    "#### EDA Dashboard"
   ]
  },
  {
   "cell_type": "code",
   "execution_count": 12,
   "metadata": {},
   "outputs": [
    {
     "data": {
      "text/html": [
       "\n",
       "<div id=\"altair-viz-d5f8ba3c22d74b4f9de10675aa838e73\"></div>\n",
       "<script type=\"text/javascript\">\n",
       "  (function(spec, embedOpt){\n",
       "    let outputDiv = document.currentScript.previousElementSibling;\n",
       "    if (outputDiv.id !== \"altair-viz-d5f8ba3c22d74b4f9de10675aa838e73\") {\n",
       "      outputDiv = document.getElementById(\"altair-viz-d5f8ba3c22d74b4f9de10675aa838e73\");\n",
       "    }\n",
       "    const paths = {\n",
       "      \"vega\": \"https://cdn.jsdelivr.net/npm//vega@5?noext\",\n",
       "      \"vega-lib\": \"https://cdn.jsdelivr.net/npm//vega-lib?noext\",\n",
       "      \"vega-lite\": \"https://cdn.jsdelivr.net/npm//vega-lite@4.8.1?noext\",\n",
       "      \"vega-embed\": \"https://cdn.jsdelivr.net/npm//vega-embed@6?noext\",\n",
       "    };\n",
       "\n",
       "    function loadScript(lib) {\n",
       "      return new Promise(function(resolve, reject) {\n",
       "        var s = document.createElement('script');\n",
       "        s.src = paths[lib];\n",
       "        s.async = true;\n",
       "        s.onload = () => resolve(paths[lib]);\n",
       "        s.onerror = () => reject(`Error loading script: ${paths[lib]}`);\n",
       "        document.getElementsByTagName(\"head\")[0].appendChild(s);\n",
       "      });\n",
       "    }\n",
       "\n",
       "    function showError(err) {\n",
       "      outputDiv.innerHTML = `<div class=\"error\" style=\"color:red;\">${err}</div>`;\n",
       "      throw err;\n",
       "    }\n",
       "\n",
       "    function displayChart(vegaEmbed) {\n",
       "      vegaEmbed(outputDiv, spec, embedOpt)\n",
       "        .catch(err => showError(`Javascript Error: ${err.message}<br>This usually means there's a typo in your chart specification. See the javascript console for the full traceback.`));\n",
       "    }\n",
       "\n",
       "    if(typeof define === \"function\" && define.amd) {\n",
       "      requirejs.config({paths});\n",
       "      require([\"vega-embed\"], displayChart, err => showError(`Error loading script: ${err.message}`));\n",
       "    } else if (typeof vegaEmbed === \"function\") {\n",
       "      displayChart(vegaEmbed);\n",
       "    } else {\n",
       "      loadScript(\"vega\")\n",
       "        .then(() => loadScript(\"vega-lite\"))\n",
       "        .then(() => loadScript(\"vega-embed\"))\n",
       "        .catch(showError)\n",
       "        .then(() => displayChart(vegaEmbed));\n",
       "    }\n",
       "  })({\"config\": {\"view\": {\"continuousWidth\": 400, \"continuousHeight\": 300}, \"title\": {\"anchor\": \"middle\", \"fontWeight\": \"bold\"}}, \"vconcat\": [{\"hconcat\": [{\"layer\": [{\"data\": {\"name\": \"data-4b69f0df64770a7871c83681da8a443d\"}, \"mark\": \"bar\", \"encoding\": {\"x\": {\"type\": \"quantitative\", \"bin\": {\"maxbins\": 50}, \"field\": \"MoisturePercent\", \"title\": \"Moisture Percentage\"}, \"y\": {\"type\": \"quantitative\", \"aggregate\": \"count\", \"title\": \"Count\"}}, \"height\": 300, \"title\": \"Distribution of Moisture Percentage in Canadian Cheeses\", \"width\": 500}, {\"data\": {\"name\": \"data-dccfaccee657b7106d467063939d4c07\"}, \"mark\": {\"type\": \"text\", \"align\": \"center\", \"baseline\": \"middle\", \"fontSize\": 12}, \"encoding\": {\"text\": {\"type\": \"nominal\", \"field\": \"text\"}, \"x\": {\"value\": 250}, \"y\": {\"value\": 345}}}]}, {\"layer\": [{\"data\": {\"name\": \"data-4b69f0df64770a7871c83681da8a443d\"}, \"mark\": \"bar\", \"encoding\": {\"color\": {\"type\": \"nominal\", \"field\": \"MilkTypeEn\", \"legend\": {\"title\": \"Milk Type\"}}, \"x\": {\"type\": \"quantitative\", \"aggregate\": \"count\", \"title\": \"Count\"}, \"y\": {\"type\": \"nominal\", \"field\": \"MilkTypeEn\", \"sort\": {\"field\": \"count()\", \"order\": \"descending\"}, \"title\": \"Milk Type\"}}, \"height\": 180, \"title\": \"Distribution of Milk Types\", \"width\": 400}, {\"data\": {\"name\": \"data-7b004f8769b3931440487b8e23fbb683\"}, \"mark\": {\"type\": \"text\", \"align\": \"center\", \"baseline\": \"middle\", \"fontSize\": 12}, \"encoding\": {\"text\": {\"type\": \"nominal\", \"field\": \"text\"}, \"x\": {\"value\": 200}, \"y\": {\"value\": 225}}}]}], \"resolve\": {\"scale\": {\"color\": \"independent\"}}}, {\"hconcat\": [{\"data\": {\"name\": \"data-4b69f0df64770a7871c83681da8a443d\"}, \"mark\": \"bar\", \"encoding\": {\"color\": {\"type\": \"nominal\", \"field\": \"FatLevel\", \"legend\": {\"title\": \"Fat Level\"}}, \"x\": {\"type\": \"nominal\", \"field\": \"FatLevel\", \"title\": \"Fat Level\"}, \"y\": {\"type\": \"quantitative\", \"aggregate\": \"count\", \"title\": \"Count\"}}, \"height\": 300, \"title\": \"Distribution of Fat Levels in Canadian Cheeses (Figure 3.)\", \"width\": 400}, {\"layer\": [{\"data\": {\"name\": \"data-4b69f0df64770a7871c83681da8a443d\"}, \"mark\": \"boxplot\", \"encoding\": {\"color\": {\"type\": \"nominal\", \"field\": \"FatLevel\"}, \"x\": {\"type\": \"nominal\", \"field\": \"FatLevel\"}, \"y\": {\"type\": \"quantitative\", \"field\": \"MoisturePercent\"}}, \"height\": 300, \"title\": \"Moisture Percentage by Fat Level (Figure 4.)\", \"width\": 400}, {\"data\": {\"name\": \"data-2295bef09bc7f3174f35dec0c4ac38b5\"}, \"mark\": {\"type\": \"text\", \"align\": \"center\", \"baseline\": \"middle\", \"fontSize\": 12}, \"encoding\": {\"x\": {\"value\": 200}, \"y\": {\"value\": 350}}}]}], \"resolve\": {\"scale\": {\"color\": \"independent\"}}}], \"title\": \"Visualizing Features and Target Distributions\", \"$schema\": \"https://vega.github.io/schema/vega-lite/v4.8.1.json\", \"datasets\": {\"data-4b69f0df64770a7871c83681da8a443d\": [{\"MoisturePercent\": 47.0, \"MilkTypeEn\": \"Ewe\", \"FatLevel\": \"lower fat\"}, {\"MoisturePercent\": 47.9, \"MilkTypeEn\": \"Cow\", \"FatLevel\": \"lower fat\"}, {\"MoisturePercent\": 54.0, \"MilkTypeEn\": \"Cow\", \"FatLevel\": \"lower fat\"}, {\"MoisturePercent\": 47.0, \"MilkTypeEn\": \"Cow\", \"FatLevel\": \"lower fat\"}, {\"MoisturePercent\": 49.4, \"MilkTypeEn\": \"Cow\", \"FatLevel\": \"lower fat\"}, {\"MoisturePercent\": 48.0, \"MilkTypeEn\": \"Cow\", \"FatLevel\": \"lower fat\"}, {\"MoisturePercent\": 52.0, \"MilkTypeEn\": \"Goat\", \"FatLevel\": \"lower fat\"}, {\"MoisturePercent\": 41.0, \"MilkTypeEn\": \"Goat\", \"FatLevel\": \"lower fat\"}, {\"MoisturePercent\": 50.0, \"MilkTypeEn\": \"Goat\", \"FatLevel\": \"lower fat\"}, {\"MoisturePercent\": 55.0, \"MilkTypeEn\": \"Goat\", \"FatLevel\": \"lower fat\"}, {\"MoisturePercent\": 57.0, \"MilkTypeEn\": \"Goat\", \"FatLevel\": \"lower fat\"}, {\"MoisturePercent\": 34.0, \"MilkTypeEn\": \"Cow\", \"FatLevel\": \"higher fat\"}, {\"MoisturePercent\": 34.0, \"MilkTypeEn\": \"Cow\", \"FatLevel\": \"higher fat\"}, {\"MoisturePercent\": 33.0, \"MilkTypeEn\": \"Cow\", \"FatLevel\": \"higher fat\"}, {\"MoisturePercent\": 43.0, \"MilkTypeEn\": \"Cow\", \"FatLevel\": \"higher fat\"}, {\"MoisturePercent\": 34.0, \"MilkTypeEn\": \"Goat\", \"FatLevel\": \"higher fat\"}, {\"MoisturePercent\": 43.0, \"MilkTypeEn\": \"Goat\", \"FatLevel\": \"higher fat\"}, {\"MoisturePercent\": 41.0, \"MilkTypeEn\": \"Cow\", \"FatLevel\": \"higher fat\"}, {\"MoisturePercent\": 41.0, \"MilkTypeEn\": \"Cow\", \"FatLevel\": \"higher fat\"}, {\"MoisturePercent\": 41.0, \"MilkTypeEn\": \"Cow\", \"FatLevel\": \"higher fat\"}, {\"MoisturePercent\": 41.0, \"MilkTypeEn\": \"Cow\", \"FatLevel\": \"higher fat\"}, {\"MoisturePercent\": 48.0, \"MilkTypeEn\": \"Cow\", \"FatLevel\": \"lower fat\"}, {\"MoisturePercent\": 45.0, \"MilkTypeEn\": \"Cow\", \"FatLevel\": \"lower fat\"}, {\"MoisturePercent\": 80.0, \"MilkTypeEn\": \"Cow\", \"FatLevel\": \"lower fat\"}, {\"MoisturePercent\": 43.0, \"MilkTypeEn\": \"Cow\", \"FatLevel\": \"lower fat\"}, {\"MoisturePercent\": 39.0, \"MilkTypeEn\": \"Cow\", \"FatLevel\": \"higher fat\"}, {\"MoisturePercent\": 39.0, \"MilkTypeEn\": \"Cow\", \"FatLevel\": \"higher fat\"}, {\"MoisturePercent\": 39.0, \"MilkTypeEn\": \"Cow\", \"FatLevel\": \"higher fat\"}, {\"MoisturePercent\": 42.0, \"MilkTypeEn\": \"Cow\", \"FatLevel\": \"lower fat\"}, {\"MoisturePercent\": 42.0, \"MilkTypeEn\": \"Cow\", \"FatLevel\": \"lower fat\"}, {\"MoisturePercent\": 55.0, \"MilkTypeEn\": \"Cow\", \"FatLevel\": \"lower fat\"}, {\"MoisturePercent\": 60.0, \"MilkTypeEn\": \"Ewe\", \"FatLevel\": \"lower fat\"}, {\"MoisturePercent\": 42.0, \"MilkTypeEn\": \"Ewe\", \"FatLevel\": \"higher fat\"}, {\"MoisturePercent\": 55.0, \"MilkTypeEn\": \"Ewe\", \"FatLevel\": \"lower fat\"}, {\"MoisturePercent\": null, \"MilkTypeEn\": \"Ewe\", \"FatLevel\": \"lower fat\"}, {\"MoisturePercent\": 34.0, \"MilkTypeEn\": \"Cow\", \"FatLevel\": \"higher fat\"}, {\"MoisturePercent\": 47.0, \"MilkTypeEn\": \"Ewe\", \"FatLevel\": \"higher fat\"}, {\"MoisturePercent\": 48.0, \"MilkTypeEn\": \"Ewe\", \"FatLevel\": \"higher fat\"}, {\"MoisturePercent\": 58.0, \"MilkTypeEn\": \"Ewe\", \"FatLevel\": \"lower fat\"}, {\"MoisturePercent\": 44.0, \"MilkTypeEn\": \"Cow\", \"FatLevel\": \"lower fat\"}, {\"MoisturePercent\": 48.0, \"MilkTypeEn\": \"Cow\", \"FatLevel\": \"higher fat\"}, {\"MoisturePercent\": 47.0, \"MilkTypeEn\": \"Cow\", \"FatLevel\": \"lower fat\"}, {\"MoisturePercent\": 54.0, \"MilkTypeEn\": \"Cow\", \"FatLevel\": \"lower fat\"}, {\"MoisturePercent\": 54.0, \"MilkTypeEn\": \"Cow\", \"FatLevel\": \"lower fat\"}, {\"MoisturePercent\": 40.0, \"MilkTypeEn\": \"Goat\", \"FatLevel\": \"higher fat\"}, {\"MoisturePercent\": 41.0, \"MilkTypeEn\": \"Goat\", \"FatLevel\": \"higher fat\"}, {\"MoisturePercent\": 40.0, \"MilkTypeEn\": \"Goat\", \"FatLevel\": \"higher fat\"}, {\"MoisturePercent\": 32.0, \"MilkTypeEn\": \"Cow\", \"FatLevel\": \"lower fat\"}, {\"MoisturePercent\": 40.0, \"MilkTypeEn\": \"Goat\", \"FatLevel\": \"lower fat\"}, {\"MoisturePercent\": 40.0, \"MilkTypeEn\": \"Goat\", \"FatLevel\": \"higher fat\"}, {\"MoisturePercent\": 38.0, \"MilkTypeEn\": \"Goat\", \"FatLevel\": \"higher fat\"}, {\"MoisturePercent\": 40.0, \"MilkTypeEn\": \"Goat\", \"FatLevel\": \"lower fat\"}, {\"MoisturePercent\": 41.0, \"MilkTypeEn\": \"Goat\", \"FatLevel\": \"higher fat\"}, {\"MoisturePercent\": 39.0, \"MilkTypeEn\": \"Cow\", \"FatLevel\": \"higher fat\"}, {\"MoisturePercent\": 50.0, \"MilkTypeEn\": \"Cow\", \"FatLevel\": \"lower fat\"}, {\"MoisturePercent\": 37.0, \"MilkTypeEn\": \"Cow\", \"FatLevel\": \"higher fat\"}, {\"MoisturePercent\": 40.0, \"MilkTypeEn\": \"Cow\", \"FatLevel\": \"lower fat\"}, {\"MoisturePercent\": 42.0, \"MilkTypeEn\": \"Cow\", \"FatLevel\": \"lower fat\"}, {\"MoisturePercent\": 42.0, \"MilkTypeEn\": \"Cow\", \"FatLevel\": \"lower fat\"}, {\"MoisturePercent\": 39.0, \"MilkTypeEn\": \"Cow\", \"FatLevel\": \"higher fat\"}, {\"MoisturePercent\": 68.0, \"MilkTypeEn\": \"Cow\", \"FatLevel\": \"lower fat\"}, {\"MoisturePercent\": null, \"MilkTypeEn\": \"Cow\", \"FatLevel\": \"higher fat\"}, {\"MoisturePercent\": 40.0, \"MilkTypeEn\": \"Cow\", \"FatLevel\": \"higher fat\"}, {\"MoisturePercent\": 38.0, \"MilkTypeEn\": \"Cow\", \"FatLevel\": \"higher fat\"}, {\"MoisturePercent\": 44.0, \"MilkTypeEn\": \"Cow\", \"FatLevel\": \"lower fat\"}, {\"MoisturePercent\": 38.0, \"MilkTypeEn\": \"Cow\", \"FatLevel\": \"higher fat\"}, {\"MoisturePercent\": 36.0, \"MilkTypeEn\": \"Cow\", \"FatLevel\": \"higher fat\"}, {\"MoisturePercent\": 47.0, \"MilkTypeEn\": \"Cow\", \"FatLevel\": \"lower fat\"}, {\"MoisturePercent\": 48.0, \"MilkTypeEn\": \"Cow\", \"FatLevel\": \"higher fat\"}, {\"MoisturePercent\": 41.0, \"MilkTypeEn\": \"Cow\", \"FatLevel\": \"higher fat\"}, {\"MoisturePercent\": 43.0, \"MilkTypeEn\": \"Cow\", \"FatLevel\": \"higher fat\"}, {\"MoisturePercent\": 39.0, \"MilkTypeEn\": \"Cow\", \"FatLevel\": \"higher fat\"}, {\"MoisturePercent\": 41.0, \"MilkTypeEn\": \"Cow\", \"FatLevel\": \"higher fat\"}, {\"MoisturePercent\": 41.0, \"MilkTypeEn\": \"Cow\", \"FatLevel\": \"higher fat\"}, {\"MoisturePercent\": 68.0, \"MilkTypeEn\": \"Cow\", \"FatLevel\": \"lower fat\"}, {\"MoisturePercent\": null, \"MilkTypeEn\": \"Cow\", \"FatLevel\": \"higher fat\"}, {\"MoisturePercent\": 55.0, \"MilkTypeEn\": \"Cow\", \"FatLevel\": \"lower fat\"}, {\"MoisturePercent\": 48.0, \"MilkTypeEn\": \"Cow\", \"FatLevel\": \"lower fat\"}, {\"MoisturePercent\": 40.0, \"MilkTypeEn\": \"Cow\", \"FatLevel\": \"higher fat\"}, {\"MoisturePercent\": 42.0, \"MilkTypeEn\": \"Cow\", \"FatLevel\": \"lower fat\"}, {\"MoisturePercent\": 55.0, \"MilkTypeEn\": \"Cow\", \"FatLevel\": \"lower fat\"}, {\"MoisturePercent\": 46.0, \"MilkTypeEn\": \"Cow\", \"FatLevel\": \"higher fat\"}, {\"MoisturePercent\": 54.0, \"MilkTypeEn\": \"Cow\", \"FatLevel\": \"higher fat\"}, {\"MoisturePercent\": 48.0, \"MilkTypeEn\": \"Cow\", \"FatLevel\": \"lower fat\"}, {\"MoisturePercent\": 22.0, \"MilkTypeEn\": \"Cow\", \"FatLevel\": \"higher fat\"}, {\"MoisturePercent\": null, \"MilkTypeEn\": \"Ewe\", \"FatLevel\": \"lower fat\"}, {\"MoisturePercent\": 38.0, \"MilkTypeEn\": \"Cow\", \"FatLevel\": \"higher fat\"}, {\"MoisturePercent\": 38.0, \"MilkTypeEn\": \"Cow\", \"FatLevel\": \"higher fat\"}, {\"MoisturePercent\": null, \"MilkTypeEn\": \"Cow\", \"FatLevel\": \"lower fat\"}, {\"MoisturePercent\": 56.0, \"MilkTypeEn\": \"Cow\", \"FatLevel\": \"lower fat\"}, {\"MoisturePercent\": 55.0, \"MilkTypeEn\": \"Cow and Goat\", \"FatLevel\": \"lower fat\"}, {\"MoisturePercent\": 26.0, \"MilkTypeEn\": \"Ewe and Cow\", \"FatLevel\": \"higher fat\"}, {\"MoisturePercent\": 20.0, \"MilkTypeEn\": \"Cow\", \"FatLevel\": \"lower fat\"}, {\"MoisturePercent\": 92.0, \"MilkTypeEn\": \"Cow\", \"FatLevel\": \"lower fat\"}, {\"MoisturePercent\": 52.0, \"MilkTypeEn\": \"Cow\", \"FatLevel\": \"lower fat\"}, {\"MoisturePercent\": 45.0, \"MilkTypeEn\": \"Cow\", \"FatLevel\": \"lower fat\"}, {\"MoisturePercent\": 74.0, \"MilkTypeEn\": \"Cow\", \"FatLevel\": \"lower fat\"}, {\"MoisturePercent\": 60.0, \"MilkTypeEn\": \"Goat\", \"FatLevel\": \"lower fat\"}, {\"MoisturePercent\": 55.0, \"MilkTypeEn\": \"Cow\", \"FatLevel\": \"lower fat\"}, {\"MoisturePercent\": 31.0, \"MilkTypeEn\": \"Cow\", \"FatLevel\": \"higher fat\"}, {\"MoisturePercent\": 52.0, \"MilkTypeEn\": \"Cow\", \"FatLevel\": \"lower fat\"}, {\"MoisturePercent\": 45.0, \"MilkTypeEn\": \"Cow\", \"FatLevel\": \"lower fat\"}, {\"MoisturePercent\": 62.0, \"MilkTypeEn\": \"Cow\", \"FatLevel\": \"lower fat\"}, {\"MoisturePercent\": 45.0, \"MilkTypeEn\": \"Cow\", \"FatLevel\": \"lower fat\"}, {\"MoisturePercent\": 52.0, \"MilkTypeEn\": \"Cow\", \"FatLevel\": \"lower fat\"}, {\"MoisturePercent\": 70.0, \"MilkTypeEn\": \"Goat\", \"FatLevel\": \"lower fat\"}, {\"MoisturePercent\": 40.0, \"MilkTypeEn\": \"Cow\", \"FatLevel\": \"higher fat\"}, {\"MoisturePercent\": 40.0, \"MilkTypeEn\": \"Cow\", \"FatLevel\": \"lower fat\"}, {\"MoisturePercent\": 40.0, \"MilkTypeEn\": \"Goat\", \"FatLevel\": \"higher fat\"}, {\"MoisturePercent\": 50.0, \"MilkTypeEn\": \"Cow\", \"FatLevel\": \"lower fat\"}, {\"MoisturePercent\": 52.0, \"MilkTypeEn\": \"Cow\", \"FatLevel\": \"lower fat\"}, {\"MoisturePercent\": 27.0, \"MilkTypeEn\": \"Cow\", \"FatLevel\": \"higher fat\"}, {\"MoisturePercent\": 41.0, \"MilkTypeEn\": \"Cow\", \"FatLevel\": \"higher fat\"}, {\"MoisturePercent\": 52.0, \"MilkTypeEn\": \"Cow\", \"FatLevel\": \"lower fat\"}, {\"MoisturePercent\": 45.0, \"MilkTypeEn\": \"Cow\", \"FatLevel\": \"lower fat\"}, {\"MoisturePercent\": 39.0, \"MilkTypeEn\": \"Cow\", \"FatLevel\": \"lower fat\"}, {\"MoisturePercent\": 57.0, \"MilkTypeEn\": \"Cow\", \"FatLevel\": \"lower fat\"}, {\"MoisturePercent\": 62.0, \"MilkTypeEn\": \"Cow\", \"FatLevel\": \"lower fat\"}, {\"MoisturePercent\": null, \"MilkTypeEn\": \"Cow\", \"FatLevel\": \"lower fat\"}, {\"MoisturePercent\": 42.0, \"MilkTypeEn\": \"Cow\", \"FatLevel\": \"lower fat\"}, {\"MoisturePercent\": 52.0, \"MilkTypeEn\": \"Cow\", \"FatLevel\": \"lower fat\"}, {\"MoisturePercent\": 34.0, \"MilkTypeEn\": \"Cow\", \"FatLevel\": \"lower fat\"}, {\"MoisturePercent\": 38.0, \"MilkTypeEn\": \"Cow and Goat\", \"FatLevel\": \"lower fat\"}, {\"MoisturePercent\": 80.0, \"MilkTypeEn\": \"Ewe\", \"FatLevel\": \"lower fat\"}, {\"MoisturePercent\": 55.0, \"MilkTypeEn\": \"Ewe\", \"FatLevel\": \"lower fat\"}, {\"MoisturePercent\": 68.0, \"MilkTypeEn\": \"Goat\", \"FatLevel\": \"lower fat\"}, {\"MoisturePercent\": 57.0, \"MilkTypeEn\": \"Goat\", \"FatLevel\": \"lower fat\"}, {\"MoisturePercent\": 55.0, \"MilkTypeEn\": \"Cow\", \"FatLevel\": \"lower fat\"}, {\"MoisturePercent\": 40.0, \"MilkTypeEn\": \"Cow\", \"FatLevel\": \"higher fat\"}, {\"MoisturePercent\": 32.0, \"MilkTypeEn\": \"Cow\", \"FatLevel\": \"lower fat\"}, {\"MoisturePercent\": 34.0, \"MilkTypeEn\": \"Cow\", \"FatLevel\": \"lower fat\"}, {\"MoisturePercent\": 43.0, \"MilkTypeEn\": \"Cow\", \"FatLevel\": \"lower fat\"}, {\"MoisturePercent\": 55.0, \"MilkTypeEn\": \"Cow\", \"FatLevel\": \"lower fat\"}, {\"MoisturePercent\": 43.0, \"MilkTypeEn\": \"Cow\", \"FatLevel\": \"lower fat\"}, {\"MoisturePercent\": 39.0, \"MilkTypeEn\": \"Cow\", \"FatLevel\": \"higher fat\"}, {\"MoisturePercent\": 37.0, \"MilkTypeEn\": \"Goat\", \"FatLevel\": \"higher fat\"}, {\"MoisturePercent\": 37.0, \"MilkTypeEn\": \"Goat\", \"FatLevel\": \"higher fat\"}, {\"MoisturePercent\": 37.0, \"MilkTypeEn\": \"Goat\", \"FatLevel\": \"higher fat\"}, {\"MoisturePercent\": 34.0, \"MilkTypeEn\": \"Ewe\", \"FatLevel\": \"higher fat\"}, {\"MoisturePercent\": 37.0, \"MilkTypeEn\": \"Cow\", \"FatLevel\": \"higher fat\"}, {\"MoisturePercent\": 44.0, \"MilkTypeEn\": \"Cow\", \"FatLevel\": \"lower fat\"}, {\"MoisturePercent\": null, \"MilkTypeEn\": \"Cow\", \"FatLevel\": \"lower fat\"}, {\"MoisturePercent\": null, \"MilkTypeEn\": \"Cow\", \"FatLevel\": \"lower fat\"}, {\"MoisturePercent\": 27.0, \"MilkTypeEn\": \"Cow\", \"FatLevel\": \"higher fat\"}, {\"MoisturePercent\": 40.0, \"MilkTypeEn\": \"Cow\", \"FatLevel\": \"lower fat\"}, {\"MoisturePercent\": 35.0, \"MilkTypeEn\": \"Cow\", \"FatLevel\": \"higher fat\"}, {\"MoisturePercent\": 40.3, \"MilkTypeEn\": \"Cow\", \"FatLevel\": \"lower fat\"}, {\"MoisturePercent\": 27.0, \"MilkTypeEn\": \"Cow\", \"FatLevel\": \"higher fat\"}, {\"MoisturePercent\": 40.3, \"MilkTypeEn\": \"Cow\", \"FatLevel\": \"lower fat\"}, {\"MoisturePercent\": 40.3, \"MilkTypeEn\": \"Cow\", \"FatLevel\": \"lower fat\"}, {\"MoisturePercent\": 30.0, \"MilkTypeEn\": \"Cow\", \"FatLevel\": \"lower fat\"}, {\"MoisturePercent\": 42.0, \"MilkTypeEn\": \"Cow\", \"FatLevel\": \"lower fat\"}, {\"MoisturePercent\": 43.0, \"MilkTypeEn\": \"Ewe\", \"FatLevel\": \"higher fat\"}, {\"MoisturePercent\": 45.0, \"MilkTypeEn\": \"Cow\", \"FatLevel\": \"higher fat\"}, {\"MoisturePercent\": 45.0, \"MilkTypeEn\": \"Cow\", \"FatLevel\": \"lower fat\"}, {\"MoisturePercent\": 52.0, \"MilkTypeEn\": \"Cow\", \"FatLevel\": \"higher fat\"}, {\"MoisturePercent\": 52.0, \"MilkTypeEn\": \"Cow\", \"FatLevel\": \"higher fat\"}, {\"MoisturePercent\": 45.0, \"MilkTypeEn\": \"Cow\", \"FatLevel\": \"higher fat\"}, {\"MoisturePercent\": 52.0, \"MilkTypeEn\": \"Cow\", \"FatLevel\": \"higher fat\"}, {\"MoisturePercent\": 50.0, \"MilkTypeEn\": \"Cow\", \"FatLevel\": \"lower fat\"}, {\"MoisturePercent\": 34.0, \"MilkTypeEn\": \"Cow\", \"FatLevel\": \"higher fat\"}, {\"MoisturePercent\": 50.0, \"MilkTypeEn\": \"Cow\", \"FatLevel\": \"lower fat\"}, {\"MoisturePercent\": 34.0, \"MilkTypeEn\": \"Cow\", \"FatLevel\": \"higher fat\"}, {\"MoisturePercent\": 83.0, \"MilkTypeEn\": \"Cow\", \"FatLevel\": \"lower fat\"}, {\"MoisturePercent\": 39.0, \"MilkTypeEn\": \"Cow\", \"FatLevel\": \"higher fat\"}, {\"MoisturePercent\": 52.0, \"MilkTypeEn\": \"Cow\", \"FatLevel\": \"lower fat\"}, {\"MoisturePercent\": 35.0, \"MilkTypeEn\": \"Cow\", \"FatLevel\": \"higher fat\"}, {\"MoisturePercent\": 39.0, \"MilkTypeEn\": \"Cow\", \"FatLevel\": \"higher fat\"}, {\"MoisturePercent\": 51.7, \"MilkTypeEn\": \"Cow\", \"FatLevel\": \"lower fat\"}, {\"MoisturePercent\": 47.9, \"MilkTypeEn\": \"Cow\", \"FatLevel\": \"lower fat\"}, {\"MoisturePercent\": 31.0, \"MilkTypeEn\": \"Cow\", \"FatLevel\": \"higher fat\"}, {\"MoisturePercent\": 42.0, \"MilkTypeEn\": \"Cow\", \"FatLevel\": \"lower fat\"}, {\"MoisturePercent\": 42.0, \"MilkTypeEn\": \"Cow\", \"FatLevel\": \"lower fat\"}, {\"MoisturePercent\": 42.0, \"MilkTypeEn\": \"Cow\", \"FatLevel\": \"lower fat\"}, {\"MoisturePercent\": 39.0, \"MilkTypeEn\": \"Cow\", \"FatLevel\": \"higher fat\"}, {\"MoisturePercent\": 39.0, \"MilkTypeEn\": \"Cow\", \"FatLevel\": \"higher fat\"}, {\"MoisturePercent\": 39.0, \"MilkTypeEn\": \"Cow\", \"FatLevel\": \"higher fat\"}, {\"MoisturePercent\": 39.0, \"MilkTypeEn\": \"Cow\", \"FatLevel\": \"higher fat\"}, {\"MoisturePercent\": 46.0, \"MilkTypeEn\": \"Cow\", \"FatLevel\": \"lower fat\"}, {\"MoisturePercent\": 39.0, \"MilkTypeEn\": \"Cow\", \"FatLevel\": \"higher fat\"}, {\"MoisturePercent\": 46.0, \"MilkTypeEn\": \"Cow\", \"FatLevel\": \"lower fat\"}, {\"MoisturePercent\": 39.0, \"MilkTypeEn\": \"Cow\", \"FatLevel\": \"higher fat\"}, {\"MoisturePercent\": 37.0, \"MilkTypeEn\": \"Cow\", \"FatLevel\": \"higher fat\"}, {\"MoisturePercent\": 37.0, \"MilkTypeEn\": \"Cow\", \"FatLevel\": \"higher fat\"}, {\"MoisturePercent\": 37.0, \"MilkTypeEn\": \"Cow\", \"FatLevel\": \"higher fat\"}, {\"MoisturePercent\": 48.0, \"MilkTypeEn\": \"Cow\", \"FatLevel\": \"lower fat\"}, {\"MoisturePercent\": 45.0, \"MilkTypeEn\": \"Cow\", \"FatLevel\": \"lower fat\"}, {\"MoisturePercent\": 48.0, \"MilkTypeEn\": \"Cow\", \"FatLevel\": \"lower fat\"}, {\"MoisturePercent\": 45.0, \"MilkTypeEn\": \"Ewe\", \"FatLevel\": \"higher fat\"}, {\"MoisturePercent\": 40.0, \"MilkTypeEn\": \"Cow\", \"FatLevel\": \"lower fat\"}, {\"MoisturePercent\": 39.0, \"MilkTypeEn\": \"Cow\", \"FatLevel\": \"higher fat\"}, {\"MoisturePercent\": 37.0, \"MilkTypeEn\": \"Cow\", \"FatLevel\": \"higher fat\"}, {\"MoisturePercent\": 47.0, \"MilkTypeEn\": \"Cow\", \"FatLevel\": \"lower fat\"}, {\"MoisturePercent\": 36.0, \"MilkTypeEn\": \"Cow\", \"FatLevel\": \"higher fat\"}, {\"MoisturePercent\": 39.0, \"MilkTypeEn\": \"Cow\", \"FatLevel\": \"higher fat\"}, {\"MoisturePercent\": 50.0, \"MilkTypeEn\": \"Cow\", \"FatLevel\": \"lower fat\"}, {\"MoisturePercent\": 44.0, \"MilkTypeEn\": \"Cow\", \"FatLevel\": \"lower fat\"}, {\"MoisturePercent\": 53.0, \"MilkTypeEn\": \"Cow\", \"FatLevel\": \"lower fat\"}, {\"MoisturePercent\": 42.0, \"MilkTypeEn\": \"Cow\", \"FatLevel\": \"lower fat\"}, {\"MoisturePercent\": 35.0, \"MilkTypeEn\": \"Cow\", \"FatLevel\": \"higher fat\"}, {\"MoisturePercent\": 35.0, \"MilkTypeEn\": \"Cow\", \"FatLevel\": \"higher fat\"}, {\"MoisturePercent\": 41.0, \"MilkTypeEn\": \"Cow\", \"FatLevel\": \"higher fat\"}, {\"MoisturePercent\": 44.0, \"MilkTypeEn\": \"Cow and Goat\", \"FatLevel\": \"lower fat\"}, {\"MoisturePercent\": 45.0, \"MilkTypeEn\": \"Cow\", \"FatLevel\": \"higher fat\"}, {\"MoisturePercent\": 42.0, \"MilkTypeEn\": \"Cow\", \"FatLevel\": \"lower fat\"}, {\"MoisturePercent\": 39.0, \"MilkTypeEn\": \"Cow\", \"FatLevel\": \"higher fat\"}, {\"MoisturePercent\": 50.0, \"MilkTypeEn\": \"Cow\", \"FatLevel\": \"lower fat\"}, {\"MoisturePercent\": 45.0, \"MilkTypeEn\": \"Cow\", \"FatLevel\": \"lower fat\"}, {\"MoisturePercent\": 39.0, \"MilkTypeEn\": \"Goat\", \"FatLevel\": \"higher fat\"}, {\"MoisturePercent\": 63.0, \"MilkTypeEn\": \"Goat\", \"FatLevel\": \"lower fat\"}, {\"MoisturePercent\": 40.0, \"MilkTypeEn\": \"Goat\", \"FatLevel\": \"higher fat\"}, {\"MoisturePercent\": 45.0, \"MilkTypeEn\": \"Goat\", \"FatLevel\": \"lower fat\"}, {\"MoisturePercent\": 58.0, \"MilkTypeEn\": \"Goat\", \"FatLevel\": \"lower fat\"}, {\"MoisturePercent\": 58.0, \"MilkTypeEn\": \"Goat\", \"FatLevel\": \"lower fat\"}, {\"MoisturePercent\": 45.0, \"MilkTypeEn\": \"Goat\", \"FatLevel\": \"lower fat\"}, {\"MoisturePercent\": 39.0, \"MilkTypeEn\": \"Cow\", \"FatLevel\": \"higher fat\"}, {\"MoisturePercent\": 39.0, \"MilkTypeEn\": \"Cow\", \"FatLevel\": \"higher fat\"}, {\"MoisturePercent\": 39.0, \"MilkTypeEn\": \"Cow\", \"FatLevel\": \"higher fat\"}, {\"MoisturePercent\": 45.0, \"MilkTypeEn\": \"Cow\", \"FatLevel\": \"lower fat\"}, {\"MoisturePercent\": 38.0, \"MilkTypeEn\": \"Goat\", \"FatLevel\": \"lower fat\"}, {\"MoisturePercent\": 33.0, \"MilkTypeEn\": \"Goat\", \"FatLevel\": \"higher fat\"}, {\"MoisturePercent\": 60.0, \"MilkTypeEn\": \"Ewe and Goat\", \"FatLevel\": \"lower fat\"}, {\"MoisturePercent\": 36.0, \"MilkTypeEn\": \"Ewe and Goat\", \"FatLevel\": \"higher fat\"}, {\"MoisturePercent\": 60.0, \"MilkTypeEn\": \"Goat\", \"FatLevel\": \"lower fat\"}, {\"MoisturePercent\": 33.0, \"MilkTypeEn\": \"Goat\", \"FatLevel\": \"higher fat\"}, {\"MoisturePercent\": 70.0, \"MilkTypeEn\": \"Goat\", \"FatLevel\": \"lower fat\"}, {\"MoisturePercent\": 70.0, \"MilkTypeEn\": \"Goat\", \"FatLevel\": \"lower fat\"}, {\"MoisturePercent\": 56.0, \"MilkTypeEn\": \"Goat\", \"FatLevel\": \"lower fat\"}, {\"MoisturePercent\": 48.0, \"MilkTypeEn\": \"Goat\", \"FatLevel\": \"lower fat\"}, {\"MoisturePercent\": 56.0, \"MilkTypeEn\": \"Goat\", \"FatLevel\": \"lower fat\"}, {\"MoisturePercent\": 45.0, \"MilkTypeEn\": \"Goat\", \"FatLevel\": \"lower fat\"}, {\"MoisturePercent\": 42.0, \"MilkTypeEn\": \"Goat\", \"FatLevel\": \"lower fat\"}, {\"MoisturePercent\": 46.0, \"MilkTypeEn\": \"Ewe and Cow\", \"FatLevel\": \"higher fat\"}, {\"MoisturePercent\": 52.0, \"MilkTypeEn\": \"Goat\", \"FatLevel\": \"lower fat\"}, {\"MoisturePercent\": 50.0, \"MilkTypeEn\": \"Cow\", \"FatLevel\": \"lower fat\"}, {\"MoisturePercent\": 50.0, \"MilkTypeEn\": \"Cow\", \"FatLevel\": \"higher fat\"}, {\"MoisturePercent\": 56.0, \"MilkTypeEn\": \"Cow\", \"FatLevel\": \"lower fat\"}, {\"MoisturePercent\": 37.0, \"MilkTypeEn\": \"Cow\", \"FatLevel\": \"higher fat\"}, {\"MoisturePercent\": 52.0, \"MilkTypeEn\": \"Goat\", \"FatLevel\": \"lower fat\"}, {\"MoisturePercent\": 60.0, \"MilkTypeEn\": \"Goat\", \"FatLevel\": \"lower fat\"}, {\"MoisturePercent\": 35.0, \"MilkTypeEn\": \"Goat\", \"FatLevel\": \"higher fat\"}, {\"MoisturePercent\": 46.0, \"MilkTypeEn\": \"Goat\", \"FatLevel\": \"higher fat\"}, {\"MoisturePercent\": 54.0, \"MilkTypeEn\": \"Cow\", \"FatLevel\": \"lower fat\"}, {\"MoisturePercent\": 52.0, \"MilkTypeEn\": \"Cow\", \"FatLevel\": \"higher fat\"}, {\"MoisturePercent\": 48.0, \"MilkTypeEn\": \"Cow\", \"FatLevel\": \"higher fat\"}, {\"MoisturePercent\": 50.0, \"MilkTypeEn\": \"Cow\", \"FatLevel\": \"lower fat\"}, {\"MoisturePercent\": 48.0, \"MilkTypeEn\": \"Cow\", \"FatLevel\": \"higher fat\"}, {\"MoisturePercent\": 45.0, \"MilkTypeEn\": \"Cow\", \"FatLevel\": \"higher fat\"}, {\"MoisturePercent\": 45.0, \"MilkTypeEn\": \"Cow\", \"FatLevel\": \"higher fat\"}, {\"MoisturePercent\": 55.0, \"MilkTypeEn\": \"Cow\", \"FatLevel\": \"lower fat\"}, {\"MoisturePercent\": 46.0, \"MilkTypeEn\": \"Cow\", \"FatLevel\": \"lower fat\"}, {\"MoisturePercent\": 48.0, \"MilkTypeEn\": \"Cow\", \"FatLevel\": \"lower fat\"}, {\"MoisturePercent\": 40.0, \"MilkTypeEn\": \"Cow\", \"FatLevel\": \"lower fat\"}, {\"MoisturePercent\": 46.0, \"MilkTypeEn\": \"Cow\", \"FatLevel\": \"lower fat\"}, {\"MoisturePercent\": 45.0, \"MilkTypeEn\": \"Cow\", \"FatLevel\": \"higher fat\"}, {\"MoisturePercent\": 46.0, \"MilkTypeEn\": \"Cow\", \"FatLevel\": \"lower fat\"}, {\"MoisturePercent\": 46.0, \"MilkTypeEn\": \"Cow\", \"FatLevel\": \"lower fat\"}, {\"MoisturePercent\": 40.0, \"MilkTypeEn\": \"Cow\", \"FatLevel\": \"lower fat\"}, {\"MoisturePercent\": 55.0, \"MilkTypeEn\": \"Cow\", \"FatLevel\": \"lower fat\"}, {\"MoisturePercent\": 48.0, \"MilkTypeEn\": \"Cow\", \"FatLevel\": \"higher fat\"}, {\"MoisturePercent\": 55.0, \"MilkTypeEn\": \"Cow\", \"FatLevel\": \"lower fat\"}, {\"MoisturePercent\": 52.0, \"MilkTypeEn\": \"Goat\", \"FatLevel\": \"lower fat\"}, {\"MoisturePercent\": 52.0, \"MilkTypeEn\": \"Goat\", \"FatLevel\": \"lower fat\"}, {\"MoisturePercent\": 54.0, \"MilkTypeEn\": \"Goat\", \"FatLevel\": \"lower fat\"}, {\"MoisturePercent\": 54.0, \"MilkTypeEn\": \"Goat\", \"FatLevel\": \"lower fat\"}, {\"MoisturePercent\": 54.0, \"MilkTypeEn\": \"Goat\", \"FatLevel\": \"lower fat\"}, {\"MoisturePercent\": 42.0, \"MilkTypeEn\": \"Cow and Goat\", \"FatLevel\": \"higher fat\"}, {\"MoisturePercent\": 80.0, \"MilkTypeEn\": \"Cow\", \"FatLevel\": \"lower fat\"}, {\"MoisturePercent\": 80.0, \"MilkTypeEn\": \"Cow\", \"FatLevel\": \"lower fat\"}, {\"MoisturePercent\": 45.0, \"MilkTypeEn\": \"Cow and Goat\", \"FatLevel\": \"lower fat\"}, {\"MoisturePercent\": 45.0, \"MilkTypeEn\": \"Cow\", \"FatLevel\": \"lower fat\"}, {\"MoisturePercent\": 39.0, \"MilkTypeEn\": \"Cow\", \"FatLevel\": \"higher fat\"}, {\"MoisturePercent\": 45.0, \"MilkTypeEn\": \"Goat\", \"FatLevel\": \"lower fat\"}, {\"MoisturePercent\": 50.0, \"MilkTypeEn\": \"Goat\", \"FatLevel\": \"lower fat\"}, {\"MoisturePercent\": 50.0, \"MilkTypeEn\": \"Cow\", \"FatLevel\": \"higher fat\"}, {\"MoisturePercent\": 50.0, \"MilkTypeEn\": \"Cow\", \"FatLevel\": \"higher fat\"}, {\"MoisturePercent\": 50.0, \"MilkTypeEn\": \"Cow\", \"FatLevel\": \"higher fat\"}, {\"MoisturePercent\": 50.0, \"MilkTypeEn\": \"Cow\", \"FatLevel\": \"higher fat\"}, {\"MoisturePercent\": 50.0, \"MilkTypeEn\": \"Cow\", \"FatLevel\": \"lower fat\"}, {\"MoisturePercent\": 50.0, \"MilkTypeEn\": \"Cow\", \"FatLevel\": \"higher fat\"}, {\"MoisturePercent\": 55.0, \"MilkTypeEn\": \"Goat\", \"FatLevel\": \"lower fat\"}, {\"MoisturePercent\": 50.0, \"MilkTypeEn\": \"Cow\", \"FatLevel\": \"higher fat\"}, {\"MoisturePercent\": 45.0, \"MilkTypeEn\": \"Cow\", \"FatLevel\": \"higher fat\"}, {\"MoisturePercent\": 50.0, \"MilkTypeEn\": \"Goat\", \"FatLevel\": \"lower fat\"}, {\"MoisturePercent\": 55.0, \"MilkTypeEn\": \"Cow and Goat\", \"FatLevel\": \"lower fat\"}, {\"MoisturePercent\": 50.0, \"MilkTypeEn\": \"Cow\", \"FatLevel\": \"higher fat\"}, {\"MoisturePercent\": 45.0, \"MilkTypeEn\": \"Goat\", \"FatLevel\": \"lower fat\"}, {\"MoisturePercent\": 50.0, \"MilkTypeEn\": \"Goat\", \"FatLevel\": \"lower fat\"}, {\"MoisturePercent\": 50.0, \"MilkTypeEn\": \"Cow\", \"FatLevel\": \"higher fat\"}, {\"MoisturePercent\": 50.0, \"MilkTypeEn\": \"Cow\", \"FatLevel\": \"higher fat\"}, {\"MoisturePercent\": 48.0, \"MilkTypeEn\": \"Goat\", \"FatLevel\": \"lower fat\"}, {\"MoisturePercent\": 39.0, \"MilkTypeEn\": \"Cow\", \"FatLevel\": \"higher fat\"}, {\"MoisturePercent\": 43.0, \"MilkTypeEn\": \"Cow\", \"FatLevel\": \"higher fat\"}, {\"MoisturePercent\": 43.0, \"MilkTypeEn\": \"Goat\", \"FatLevel\": \"lower fat\"}, {\"MoisturePercent\": 41.0, \"MilkTypeEn\": \"Ewe\", \"FatLevel\": \"higher fat\"}, {\"MoisturePercent\": 45.0, \"MilkTypeEn\": \"Cow\", \"FatLevel\": \"lower fat\"}, {\"MoisturePercent\": 41.0, \"MilkTypeEn\": \"Ewe\", \"FatLevel\": \"higher fat\"}, {\"MoisturePercent\": 41.0, \"MilkTypeEn\": \"Cow\", \"FatLevel\": \"higher fat\"}, {\"MoisturePercent\": 42.0, \"MilkTypeEn\": \"Cow\", \"FatLevel\": \"lower fat\"}, {\"MoisturePercent\": 42.0, \"MilkTypeEn\": \"Cow\", \"FatLevel\": \"lower fat\"}, {\"MoisturePercent\": 43.0, \"MilkTypeEn\": \"Cow\", \"FatLevel\": \"higher fat\"}, {\"MoisturePercent\": 55.0, \"MilkTypeEn\": \"Goat\", \"FatLevel\": \"lower fat\"}, {\"MoisturePercent\": 65.0, \"MilkTypeEn\": \"Cow\", \"FatLevel\": \"lower fat\"}, {\"MoisturePercent\": 40.0, \"MilkTypeEn\": \"Cow\", \"FatLevel\": \"lower fat\"}, {\"MoisturePercent\": 43.0, \"MilkTypeEn\": \"Goat\", \"FatLevel\": \"lower fat\"}, {\"MoisturePercent\": 76.0, \"MilkTypeEn\": \"Cow\", \"FatLevel\": \"lower fat\"}, {\"MoisturePercent\": 78.0, \"MilkTypeEn\": \"Cow\", \"FatLevel\": \"lower fat\"}, {\"MoisturePercent\": 50.0, \"MilkTypeEn\": \"Cow\", \"FatLevel\": \"lower fat\"}, {\"MoisturePercent\": 45.0, \"MilkTypeEn\": \"Cow\", \"FatLevel\": \"higher fat\"}, {\"MoisturePercent\": 56.0, \"MilkTypeEn\": \"Goat\", \"FatLevel\": \"lower fat\"}, {\"MoisturePercent\": 56.0, \"MilkTypeEn\": \"Goat\", \"FatLevel\": \"lower fat\"}, {\"MoisturePercent\": 56.0, \"MilkTypeEn\": \"Goat\", \"FatLevel\": \"lower fat\"}, {\"MoisturePercent\": 56.0, \"MilkTypeEn\": \"Goat\", \"FatLevel\": \"lower fat\"}, {\"MoisturePercent\": 50.0, \"MilkTypeEn\": \"Cow\", \"FatLevel\": \"lower fat\"}, {\"MoisturePercent\": 50.0, \"MilkTypeEn\": \"Cow\", \"FatLevel\": \"lower fat\"}, {\"MoisturePercent\": 55.0, \"MilkTypeEn\": \"Cow\", \"FatLevel\": \"lower fat\"}, {\"MoisturePercent\": 46.0, \"MilkTypeEn\": \"Cow\", \"FatLevel\": \"lower fat\"}, {\"MoisturePercent\": 47.0, \"MilkTypeEn\": \"Cow\", \"FatLevel\": \"lower fat\"}, {\"MoisturePercent\": 42.0, \"MilkTypeEn\": \"Cow\", \"FatLevel\": \"lower fat\"}, {\"MoisturePercent\": 55.0, \"MilkTypeEn\": \"Cow\", \"FatLevel\": \"lower fat\"}, {\"MoisturePercent\": 57.0, \"MilkTypeEn\": \"Cow\", \"FatLevel\": \"lower fat\"}, {\"MoisturePercent\": 42.0, \"MilkTypeEn\": \"Cow\", \"FatLevel\": \"lower fat\"}, {\"MoisturePercent\": 50.0, \"MilkTypeEn\": \"Cow\", \"FatLevel\": \"lower fat\"}, {\"MoisturePercent\": 55.0, \"MilkTypeEn\": \"Cow\", \"FatLevel\": \"lower fat\"}, {\"MoisturePercent\": 55.0, \"MilkTypeEn\": \"Goat\", \"FatLevel\": \"lower fat\"}, {\"MoisturePercent\": 58.0, \"MilkTypeEn\": \"Cow\", \"FatLevel\": \"lower fat\"}, {\"MoisturePercent\": 56.0, \"MilkTypeEn\": \"Cow\", \"FatLevel\": \"lower fat\"}, {\"MoisturePercent\": 57.0, \"MilkTypeEn\": \"Cow\", \"FatLevel\": \"lower fat\"}, {\"MoisturePercent\": 50.0, \"MilkTypeEn\": \"Cow\", \"FatLevel\": \"lower fat\"}, {\"MoisturePercent\": 56.0, \"MilkTypeEn\": \"Cow\", \"FatLevel\": \"lower fat\"}, {\"MoisturePercent\": 56.0, \"MilkTypeEn\": \"Cow\", \"FatLevel\": \"lower fat\"}, {\"MoisturePercent\": 56.0, \"MilkTypeEn\": \"Cow\", \"FatLevel\": \"lower fat\"}, {\"MoisturePercent\": 56.0, \"MilkTypeEn\": \"Cow and Goat\", \"FatLevel\": \"lower fat\"}, {\"MoisturePercent\": 50.0, \"MilkTypeEn\": \"Cow\", \"FatLevel\": \"lower fat\"}, {\"MoisturePercent\": 56.0, \"MilkTypeEn\": \"Cow\", \"FatLevel\": \"lower fat\"}, {\"MoisturePercent\": 50.0, \"MilkTypeEn\": \"Cow\", \"FatLevel\": \"lower fat\"}, {\"MoisturePercent\": 50.0, \"MilkTypeEn\": \"Cow\", \"FatLevel\": \"lower fat\"}, {\"MoisturePercent\": 56.0, \"MilkTypeEn\": \"Cow\", \"FatLevel\": \"lower fat\"}, {\"MoisturePercent\": 37.0, \"MilkTypeEn\": \"Cow\", \"FatLevel\": \"higher fat\"}, {\"MoisturePercent\": 50.0, \"MilkTypeEn\": \"Cow\", \"FatLevel\": \"lower fat\"}, {\"MoisturePercent\": 54.0, \"MilkTypeEn\": \"Cow\", \"FatLevel\": \"lower fat\"}, {\"MoisturePercent\": 54.0, \"MilkTypeEn\": \"Cow\", \"FatLevel\": \"lower fat\"}, {\"MoisturePercent\": 45.0, \"MilkTypeEn\": \"Cow\", \"FatLevel\": \"higher fat\"}, {\"MoisturePercent\": 54.0, \"MilkTypeEn\": \"Cow\", \"FatLevel\": \"lower fat\"}, {\"MoisturePercent\": 56.0, \"MilkTypeEn\": \"Cow\", \"FatLevel\": \"lower fat\"}, {\"MoisturePercent\": 52.0, \"MilkTypeEn\": \"Cow\", \"FatLevel\": \"lower fat\"}, {\"MoisturePercent\": 50.0, \"MilkTypeEn\": \"Cow\", \"FatLevel\": \"higher fat\"}, {\"MoisturePercent\": 45.0, \"MilkTypeEn\": \"Cow\", \"FatLevel\": \"higher fat\"}, {\"MoisturePercent\": 52.0, \"MilkTypeEn\": \"Cow\", \"FatLevel\": \"lower fat\"}, {\"MoisturePercent\": 40.0, \"MilkTypeEn\": \"Cow\", \"FatLevel\": \"lower fat\"}, {\"MoisturePercent\": 49.0, \"MilkTypeEn\": \"Cow\", \"FatLevel\": \"lower fat\"}, {\"MoisturePercent\": 42.0, \"MilkTypeEn\": \"Cow\", \"FatLevel\": \"lower fat\"}, {\"MoisturePercent\": 47.0, \"MilkTypeEn\": \"Cow\", \"FatLevel\": \"lower fat\"}, {\"MoisturePercent\": 45.0, \"MilkTypeEn\": \"Cow\", \"FatLevel\": \"higher fat\"}, {\"MoisturePercent\": 50.0, \"MilkTypeEn\": \"Cow\", \"FatLevel\": \"lower fat\"}, {\"MoisturePercent\": 42.0, \"MilkTypeEn\": \"Cow\", \"FatLevel\": \"higher fat\"}, {\"MoisturePercent\": 42.0, \"MilkTypeEn\": \"Cow\", \"FatLevel\": \"lower fat\"}, {\"MoisturePercent\": 42.0, \"MilkTypeEn\": \"Cow\", \"FatLevel\": \"lower fat\"}, {\"MoisturePercent\": 43.0, \"MilkTypeEn\": \"Cow\", \"FatLevel\": \"lower fat\"}, {\"MoisturePercent\": 43.0, \"MilkTypeEn\": \"Cow\", \"FatLevel\": \"lower fat\"}, {\"MoisturePercent\": 43.0, \"MilkTypeEn\": \"Cow\", \"FatLevel\": \"lower fat\"}, {\"MoisturePercent\": 43.0, \"MilkTypeEn\": \"Cow\", \"FatLevel\": \"lower fat\"}, {\"MoisturePercent\": 43.0, \"MilkTypeEn\": \"Cow\", \"FatLevel\": \"higher fat\"}, {\"MoisturePercent\": 51.0, \"MilkTypeEn\": \"Cow\", \"FatLevel\": \"lower fat\"}, {\"MoisturePercent\": 42.0, \"MilkTypeEn\": \"Cow\", \"FatLevel\": \"lower fat\"}, {\"MoisturePercent\": 43.0, \"MilkTypeEn\": \"Cow\", \"FatLevel\": \"lower fat\"}, {\"MoisturePercent\": 42.0, \"MilkTypeEn\": \"Goat\", \"FatLevel\": \"lower fat\"}, {\"MoisturePercent\": 55.0, \"MilkTypeEn\": \"Cow\", \"FatLevel\": \"lower fat\"}, {\"MoisturePercent\": 65.0, \"MilkTypeEn\": \"Cow\", \"FatLevel\": \"lower fat\"}, {\"MoisturePercent\": 50.0, \"MilkTypeEn\": \"Cow\", \"FatLevel\": \"lower fat\"}, {\"MoisturePercent\": 45.0, \"MilkTypeEn\": \"Goat\", \"FatLevel\": \"lower fat\"}, {\"MoisturePercent\": 65.0, \"MilkTypeEn\": \"Goat\", \"FatLevel\": \"lower fat\"}, {\"MoisturePercent\": 50.0, \"MilkTypeEn\": \"Goat\", \"FatLevel\": \"lower fat\"}, {\"MoisturePercent\": 60.0, \"MilkTypeEn\": \"Goat\", \"FatLevel\": \"lower fat\"}, {\"MoisturePercent\": 69.0, \"MilkTypeEn\": \"Goat\", \"FatLevel\": \"lower fat\"}, {\"MoisturePercent\": 42.0, \"MilkTypeEn\": \"Goat\", \"FatLevel\": \"lower fat\"}, {\"MoisturePercent\": 62.0, \"MilkTypeEn\": \"Goat\", \"FatLevel\": \"lower fat\"}, {\"MoisturePercent\": 42.0, \"MilkTypeEn\": \"Cow\", \"FatLevel\": \"lower fat\"}, {\"MoisturePercent\": 39.0, \"MilkTypeEn\": \"Cow\", \"FatLevel\": \"higher fat\"}, {\"MoisturePercent\": 39.0, \"MilkTypeEn\": \"Cow\", \"FatLevel\": \"higher fat\"}, {\"MoisturePercent\": 39.0, \"MilkTypeEn\": \"Cow\", \"FatLevel\": \"higher fat\"}, {\"MoisturePercent\": 39.0, \"MilkTypeEn\": \"Cow\", \"FatLevel\": \"higher fat\"}, {\"MoisturePercent\": 47.0, \"MilkTypeEn\": \"Cow\", \"FatLevel\": \"lower fat\"}, {\"MoisturePercent\": 49.0, \"MilkTypeEn\": \"Cow\", \"FatLevel\": \"lower fat\"}, {\"MoisturePercent\": 40.0, \"MilkTypeEn\": \"Cow\", \"FatLevel\": \"lower fat\"}, {\"MoisturePercent\": 50.0, \"MilkTypeEn\": \"Cow\", \"FatLevel\": \"lower fat\"}, {\"MoisturePercent\": 55.0, \"MilkTypeEn\": \"Cow\", \"FatLevel\": \"lower fat\"}, {\"MoisturePercent\": 50.0, \"MilkTypeEn\": \"Cow\", \"FatLevel\": \"lower fat\"}, {\"MoisturePercent\": 46.0, \"MilkTypeEn\": \"Cow\", \"FatLevel\": \"lower fat\"}, {\"MoisturePercent\": 40.0, \"MilkTypeEn\": \"Cow\", \"FatLevel\": \"lower fat\"}, {\"MoisturePercent\": 44.0, \"MilkTypeEn\": \"Cow\", \"FatLevel\": \"higher fat\"}, {\"MoisturePercent\": 50.0, \"MilkTypeEn\": \"Cow\", \"FatLevel\": \"lower fat\"}, {\"MoisturePercent\": 48.0, \"MilkTypeEn\": \"Cow\", \"FatLevel\": \"lower fat\"}, {\"MoisturePercent\": 40.0, \"MilkTypeEn\": \"Cow\", \"FatLevel\": \"lower fat\"}, {\"MoisturePercent\": 47.0, \"MilkTypeEn\": \"Cow\", \"FatLevel\": \"lower fat\"}, {\"MoisturePercent\": 26.0, \"MilkTypeEn\": \"Cow\", \"FatLevel\": \"higher fat\"}, {\"MoisturePercent\": 26.0, \"MilkTypeEn\": \"Cow\", \"FatLevel\": \"higher fat\"}, {\"MoisturePercent\": 41.0, \"MilkTypeEn\": \"Cow\", \"FatLevel\": \"higher fat\"}, {\"MoisturePercent\": 52.0, \"MilkTypeEn\": \"Goat\", \"FatLevel\": \"lower fat\"}, {\"MoisturePercent\": 68.0, \"MilkTypeEn\": \"Goat\", \"FatLevel\": \"lower fat\"}, {\"MoisturePercent\": 42.0, \"MilkTypeEn\": \"Goat\", \"FatLevel\": \"lower fat\"}, {\"MoisturePercent\": 51.0, \"MilkTypeEn\": \"Goat\", \"FatLevel\": \"lower fat\"}, {\"MoisturePercent\": 50.0, \"MilkTypeEn\": \"Cow\", \"FatLevel\": \"lower fat\"}, {\"MoisturePercent\": 50.0, \"MilkTypeEn\": \"Cow\", \"FatLevel\": \"lower fat\"}, {\"MoisturePercent\": 54.0, \"MilkTypeEn\": \"Cow\", \"FatLevel\": \"lower fat\"}, {\"MoisturePercent\": 50.0, \"MilkTypeEn\": \"Cow\", \"FatLevel\": \"lower fat\"}, {\"MoisturePercent\": 50.0, \"MilkTypeEn\": \"Cow\", \"FatLevel\": \"lower fat\"}, {\"MoisturePercent\": 43.0, \"MilkTypeEn\": \"Cow\", \"FatLevel\": \"lower fat\"}, {\"MoisturePercent\": 58.0, \"MilkTypeEn\": \"Goat\", \"FatLevel\": \"lower fat\"}, {\"MoisturePercent\": 50.0, \"MilkTypeEn\": \"Cow\", \"FatLevel\": \"higher fat\"}, {\"MoisturePercent\": 50.0, \"MilkTypeEn\": \"Cow\", \"FatLevel\": \"higher fat\"}, {\"MoisturePercent\": 50.0, \"MilkTypeEn\": \"Cow\", \"FatLevel\": \"higher fat\"}, {\"MoisturePercent\": 50.0, \"MilkTypeEn\": \"Cow\", \"FatLevel\": \"higher fat\"}, {\"MoisturePercent\": 50.0, \"MilkTypeEn\": \"Cow\", \"FatLevel\": \"higher fat\"}, {\"MoisturePercent\": 50.0, \"MilkTypeEn\": \"Cow\", \"FatLevel\": \"higher fat\"}, {\"MoisturePercent\": 50.0, \"MilkTypeEn\": \"Goat\", \"FatLevel\": \"lower fat\"}, {\"MoisturePercent\": 50.0, \"MilkTypeEn\": \"Cow\", \"FatLevel\": \"higher fat\"}, {\"MoisturePercent\": 59.0, \"MilkTypeEn\": \"Cow\", \"FatLevel\": \"lower fat\"}, {\"MoisturePercent\": 88.0, \"MilkTypeEn\": \"Cow\", \"FatLevel\": \"lower fat\"}, {\"MoisturePercent\": 68.0, \"MilkTypeEn\": \"Goat\", \"FatLevel\": \"higher fat\"}, {\"MoisturePercent\": 50.0, \"MilkTypeEn\": \"Cow\", \"FatLevel\": \"lower fat\"}, {\"MoisturePercent\": 50.0, \"MilkTypeEn\": \"Cow\", \"FatLevel\": \"lower fat\"}, {\"MoisturePercent\": 68.0, \"MilkTypeEn\": \"Goat\", \"FatLevel\": \"lower fat\"}, {\"MoisturePercent\": 52.0, \"MilkTypeEn\": \"Goat\", \"FatLevel\": \"lower fat\"}, {\"MoisturePercent\": 48.0, \"MilkTypeEn\": \"Cow\", \"FatLevel\": \"lower fat\"}, {\"MoisturePercent\": 43.0, \"MilkTypeEn\": \"Cow\", \"FatLevel\": \"lower fat\"}, {\"MoisturePercent\": 43.0, \"MilkTypeEn\": \"Goat\", \"FatLevel\": \"lower fat\"}, {\"MoisturePercent\": 50.0, \"MilkTypeEn\": \"Cow\", \"FatLevel\": \"lower fat\"}, {\"MoisturePercent\": 46.0, \"MilkTypeEn\": \"Cow\", \"FatLevel\": \"lower fat\"}, {\"MoisturePercent\": 50.0, \"MilkTypeEn\": \"Cow\", \"FatLevel\": \"lower fat\"}, {\"MoisturePercent\": 50.0, \"MilkTypeEn\": \"Cow\", \"FatLevel\": \"lower fat\"}, {\"MoisturePercent\": 50.0, \"MilkTypeEn\": \"Cow\", \"FatLevel\": \"lower fat\"}, {\"MoisturePercent\": 50.0, \"MilkTypeEn\": \"Cow\", \"FatLevel\": \"higher fat\"}, {\"MoisturePercent\": 50.0, \"MilkTypeEn\": \"Cow\", \"FatLevel\": \"higher fat\"}, {\"MoisturePercent\": 50.0, \"MilkTypeEn\": \"Cow\", \"FatLevel\": \"lower fat\"}, {\"MoisturePercent\": 43.0, \"MilkTypeEn\": \"Cow\", \"FatLevel\": \"lower fat\"}, {\"MoisturePercent\": 50.0, \"MilkTypeEn\": \"Goat\", \"FatLevel\": \"lower fat\"}, {\"MoisturePercent\": 56.0, \"MilkTypeEn\": \"Cow\", \"FatLevel\": \"lower fat\"}, {\"MoisturePercent\": 68.0, \"MilkTypeEn\": \"Goat\", \"FatLevel\": \"lower fat\"}, {\"MoisturePercent\": 74.0, \"MilkTypeEn\": \"Cow\", \"FatLevel\": \"lower fat\"}, {\"MoisturePercent\": 60.0, \"MilkTypeEn\": \"Cow\", \"FatLevel\": \"lower fat\"}, {\"MoisturePercent\": 55.0, \"MilkTypeEn\": \"Cow\", \"FatLevel\": \"lower fat\"}, {\"MoisturePercent\": 50.0, \"MilkTypeEn\": \"Cow\", \"FatLevel\": \"lower fat\"}, {\"MoisturePercent\": 54.0, \"MilkTypeEn\": \"Cow\", \"FatLevel\": \"lower fat\"}, {\"MoisturePercent\": 50.0, \"MilkTypeEn\": \"Cow\", \"FatLevel\": \"lower fat\"}, {\"MoisturePercent\": 55.0, \"MilkTypeEn\": \"Cow\", \"FatLevel\": \"lower fat\"}, {\"MoisturePercent\": 45.0, \"MilkTypeEn\": \"Cow\", \"FatLevel\": \"lower fat\"}, {\"MoisturePercent\": 48.0, \"MilkTypeEn\": \"Cow\", \"FatLevel\": \"lower fat\"}, {\"MoisturePercent\": 55.0, \"MilkTypeEn\": \"Cow\", \"FatLevel\": \"lower fat\"}, {\"MoisturePercent\": 52.0, \"MilkTypeEn\": \"Cow and Goat\", \"FatLevel\": \"higher fat\"}, {\"MoisturePercent\": 50.0, \"MilkTypeEn\": \"Cow\", \"FatLevel\": \"higher fat\"}, {\"MoisturePercent\": 46.0, \"MilkTypeEn\": \"Cow\", \"FatLevel\": \"lower fat\"}, {\"MoisturePercent\": 50.0, \"MilkTypeEn\": \"Cow\", \"FatLevel\": \"lower fat\"}, {\"MoisturePercent\": 50.0, \"MilkTypeEn\": \"Cow\", \"FatLevel\": \"higher fat\"}, {\"MoisturePercent\": 50.0, \"MilkTypeEn\": \"Cow\", \"FatLevel\": \"lower fat\"}, {\"MoisturePercent\": 50.0, \"MilkTypeEn\": \"Cow\", \"FatLevel\": \"lower fat\"}, {\"MoisturePercent\": 44.0, \"MilkTypeEn\": \"Cow\", \"FatLevel\": \"lower fat\"}, {\"MoisturePercent\": 50.0, \"MilkTypeEn\": \"Cow\", \"FatLevel\": \"lower fat\"}, {\"MoisturePercent\": 55.0, \"MilkTypeEn\": \"Goat\", \"FatLevel\": \"lower fat\"}, {\"MoisturePercent\": 39.0, \"MilkTypeEn\": \"Ewe\", \"FatLevel\": \"lower fat\"}, {\"MoisturePercent\": 60.0, \"MilkTypeEn\": \"Goat\", \"FatLevel\": \"lower fat\"}, {\"MoisturePercent\": 60.0, \"MilkTypeEn\": \"Goat\", \"FatLevel\": \"lower fat\"}, {\"MoisturePercent\": 60.0, \"MilkTypeEn\": \"Goat\", \"FatLevel\": \"lower fat\"}, {\"MoisturePercent\": 42.0, \"MilkTypeEn\": \"Goat\", \"FatLevel\": \"lower fat\"}, {\"MoisturePercent\": 55.0, \"MilkTypeEn\": \"Goat\", \"FatLevel\": \"lower fat\"}, {\"MoisturePercent\": 50.0, \"MilkTypeEn\": \"Cow\", \"FatLevel\": \"lower fat\"}, {\"MoisturePercent\": 50.0, \"MilkTypeEn\": \"Cow and Goat\", \"FatLevel\": \"lower fat\"}, {\"MoisturePercent\": 50.0, \"MilkTypeEn\": \"Cow\", \"FatLevel\": \"lower fat\"}, {\"MoisturePercent\": null, \"MilkTypeEn\": \"Cow\", \"FatLevel\": \"lower fat\"}, {\"MoisturePercent\": 48.0, \"MilkTypeEn\": \"Cow\", \"FatLevel\": \"lower fat\"}, {\"MoisturePercent\": 48.0, \"MilkTypeEn\": \"Cow\", \"FatLevel\": \"lower fat\"}, {\"MoisturePercent\": 48.0, \"MilkTypeEn\": \"Cow\", \"FatLevel\": \"lower fat\"}, {\"MoisturePercent\": 50.0, \"MilkTypeEn\": \"Goat\", \"FatLevel\": \"lower fat\"}, {\"MoisturePercent\": 48.0, \"MilkTypeEn\": \"Cow\", \"FatLevel\": \"lower fat\"}, {\"MoisturePercent\": 50.0, \"MilkTypeEn\": \"Cow\", \"FatLevel\": \"lower fat\"}, {\"MoisturePercent\": 50.0, \"MilkTypeEn\": \"Cow\", \"FatLevel\": \"lower fat\"}, {\"MoisturePercent\": 50.0, \"MilkTypeEn\": \"Cow\", \"FatLevel\": \"lower fat\"}, {\"MoisturePercent\": 40.0, \"MilkTypeEn\": \"Cow\", \"FatLevel\": \"lower fat\"}, {\"MoisturePercent\": 48.0, \"MilkTypeEn\": \"Cow\", \"FatLevel\": \"lower fat\"}, {\"MoisturePercent\": 50.0, \"MilkTypeEn\": \"Cow\", \"FatLevel\": \"lower fat\"}, {\"MoisturePercent\": 50.0, \"MilkTypeEn\": \"Cow\", \"FatLevel\": \"lower fat\"}, {\"MoisturePercent\": 48.0, \"MilkTypeEn\": \"Cow\", \"FatLevel\": \"lower fat\"}, {\"MoisturePercent\": 48.0, \"MilkTypeEn\": \"Cow\", \"FatLevel\": \"lower fat\"}, {\"MoisturePercent\": 50.0, \"MilkTypeEn\": \"Cow\", \"FatLevel\": \"lower fat\"}, {\"MoisturePercent\": 44.0, \"MilkTypeEn\": \"Cow\", \"FatLevel\": \"lower fat\"}, {\"MoisturePercent\": 47.0, \"MilkTypeEn\": \"Cow\", \"FatLevel\": \"lower fat\"}, {\"MoisturePercent\": 48.0, \"MilkTypeEn\": \"Goat\", \"FatLevel\": \"lower fat\"}, {\"MoisturePercent\": 31.0, \"MilkTypeEn\": \"Cow\", \"FatLevel\": \"higher fat\"}, {\"MoisturePercent\": 44.0, \"MilkTypeEn\": \"Cow\", \"FatLevel\": \"higher fat\"}, {\"MoisturePercent\": 29.0, \"MilkTypeEn\": \"Cow\", \"FatLevel\": \"higher fat\"}, {\"MoisturePercent\": 43.0, \"MilkTypeEn\": \"Cow\", \"FatLevel\": \"higher fat\"}, {\"MoisturePercent\": 48.0, \"MilkTypeEn\": \"Cow\", \"FatLevel\": \"lower fat\"}, {\"MoisturePercent\": 39.0, \"MilkTypeEn\": \"Cow\", \"FatLevel\": \"higher fat\"}, {\"MoisturePercent\": 39.0, \"MilkTypeEn\": \"Cow\", \"FatLevel\": \"higher fat\"}, {\"MoisturePercent\": 39.0, \"MilkTypeEn\": \"Cow\", \"FatLevel\": \"higher fat\"}, {\"MoisturePercent\": 39.0, \"MilkTypeEn\": \"Cow\", \"FatLevel\": \"higher fat\"}, {\"MoisturePercent\": null, \"MilkTypeEn\": \"Cow\", \"FatLevel\": \"lower fat\"}, {\"MoisturePercent\": 40.0, \"MilkTypeEn\": \"Cow\", \"FatLevel\": \"lower fat\"}, {\"MoisturePercent\": 55.0, \"MilkTypeEn\": \"Ewe\", \"FatLevel\": \"lower fat\"}, {\"MoisturePercent\": 55.0, \"MilkTypeEn\": \"Ewe\", \"FatLevel\": \"lower fat\"}, {\"MoisturePercent\": 45.0, \"MilkTypeEn\": \"Ewe and Cow\", \"FatLevel\": \"higher fat\"}, {\"MoisturePercent\": 44.0, \"MilkTypeEn\": \"Cow\", \"FatLevel\": \"higher fat\"}, {\"MoisturePercent\": 47.0, \"MilkTypeEn\": \"Cow\", \"FatLevel\": \"lower fat\"}, {\"MoisturePercent\": 70.0, \"MilkTypeEn\": \"Ewe\", \"FatLevel\": \"lower fat\"}, {\"MoisturePercent\": 48.0, \"MilkTypeEn\": \"Ewe\", \"FatLevel\": \"lower fat\"}, {\"MoisturePercent\": 58.0, \"MilkTypeEn\": \"Ewe\", \"FatLevel\": \"lower fat\"}, {\"MoisturePercent\": 50.0, \"MilkTypeEn\": \"Ewe\", \"FatLevel\": \"higher fat\"}, {\"MoisturePercent\": 60.0, \"MilkTypeEn\": \"Ewe\", \"FatLevel\": \"lower fat\"}, {\"MoisturePercent\": 50.0, \"MilkTypeEn\": \"Ewe\", \"FatLevel\": \"lower fat\"}, {\"MoisturePercent\": 48.0, \"MilkTypeEn\": \"Ewe\", \"FatLevel\": \"lower fat\"}, {\"MoisturePercent\": 58.0, \"MilkTypeEn\": \"Ewe\", \"FatLevel\": \"lower fat\"}, {\"MoisturePercent\": 54.0, \"MilkTypeEn\": \"Ewe\", \"FatLevel\": \"lower fat\"}, {\"MoisturePercent\": 42.0, \"MilkTypeEn\": \"Cow\", \"FatLevel\": \"lower fat\"}, {\"MoisturePercent\": 52.0, \"MilkTypeEn\": \"Cow\", \"FatLevel\": \"lower fat\"}, {\"MoisturePercent\": 39.0, \"MilkTypeEn\": \"Cow\", \"FatLevel\": \"lower fat\"}, {\"MoisturePercent\": 39.0, \"MilkTypeEn\": \"Cow\", \"FatLevel\": \"higher fat\"}, {\"MoisturePercent\": 39.0, \"MilkTypeEn\": \"Cow\", \"FatLevel\": \"higher fat\"}, {\"MoisturePercent\": 39.0, \"MilkTypeEn\": \"Cow\", \"FatLevel\": \"higher fat\"}, {\"MoisturePercent\": 39.0, \"MilkTypeEn\": \"Cow\", \"FatLevel\": \"higher fat\"}, {\"MoisturePercent\": 39.0, \"MilkTypeEn\": \"Cow\", \"FatLevel\": \"higher fat\"}, {\"MoisturePercent\": 41.0, \"MilkTypeEn\": \"Cow\", \"FatLevel\": \"lower fat\"}, {\"MoisturePercent\": 40.0, \"MilkTypeEn\": \"Cow\", \"FatLevel\": \"lower fat\"}, {\"MoisturePercent\": 39.0, \"MilkTypeEn\": \"Cow\", \"FatLevel\": \"higher fat\"}, {\"MoisturePercent\": 40.0, \"MilkTypeEn\": \"Cow\", \"FatLevel\": \"lower fat\"}, {\"MoisturePercent\": 40.0, \"MilkTypeEn\": \"Cow\", \"FatLevel\": \"higher fat\"}, {\"MoisturePercent\": 24.0, \"MilkTypeEn\": \"Cow\", \"FatLevel\": \"higher fat\"}, {\"MoisturePercent\": 50.0, \"MilkTypeEn\": \"Cow\", \"FatLevel\": \"lower fat\"}, {\"MoisturePercent\": 50.0, \"MilkTypeEn\": \"Cow\", \"FatLevel\": \"lower fat\"}, {\"MoisturePercent\": 45.0, \"MilkTypeEn\": \"Cow\", \"FatLevel\": \"lower fat\"}, {\"MoisturePercent\": 48.0, \"MilkTypeEn\": \"Goat\", \"FatLevel\": \"lower fat\"}, {\"MoisturePercent\": 48.0, \"MilkTypeEn\": \"Goat\", \"FatLevel\": \"lower fat\"}, {\"MoisturePercent\": 57.0, \"MilkTypeEn\": \"Goat\", \"FatLevel\": \"higher fat\"}, {\"MoisturePercent\": 35.0, \"MilkTypeEn\": \"Cow\", \"FatLevel\": \"higher fat\"}, {\"MoisturePercent\": 41.0, \"MilkTypeEn\": \"Cow\", \"FatLevel\": \"higher fat\"}, {\"MoisturePercent\": 41.0, \"MilkTypeEn\": \"Cow\", \"FatLevel\": \"higher fat\"}, {\"MoisturePercent\": 40.0, \"MilkTypeEn\": \"Cow\", \"FatLevel\": \"lower fat\"}, {\"MoisturePercent\": 40.0, \"MilkTypeEn\": \"Cow\", \"FatLevel\": \"lower fat\"}, {\"MoisturePercent\": 45.0, \"MilkTypeEn\": \"Ewe and Cow\", \"FatLevel\": \"lower fat\"}, {\"MoisturePercent\": 55.0, \"MilkTypeEn\": \"Ewe\", \"FatLevel\": \"lower fat\"}, {\"MoisturePercent\": 55.0, \"MilkTypeEn\": \"Goat\", \"FatLevel\": \"lower fat\"}, {\"MoisturePercent\": 60.0, \"MilkTypeEn\": \"Cow\", \"FatLevel\": \"lower fat\"}, {\"MoisturePercent\": 76.0, \"MilkTypeEn\": \"Cow\", \"FatLevel\": \"lower fat\"}, {\"MoisturePercent\": 60.0, \"MilkTypeEn\": \"Cow\", \"FatLevel\": \"lower fat\"}, {\"MoisturePercent\": 52.0, \"MilkTypeEn\": \"Cow\", \"FatLevel\": \"lower fat\"}, {\"MoisturePercent\": 52.0, \"MilkTypeEn\": \"Cow\", \"FatLevel\": \"lower fat\"}, {\"MoisturePercent\": 52.0, \"MilkTypeEn\": \"Cow\", \"FatLevel\": \"lower fat\"}, {\"MoisturePercent\": 39.0, \"MilkTypeEn\": \"Cow\", \"FatLevel\": \"higher fat\"}, {\"MoisturePercent\": 45.0, \"MilkTypeEn\": \"Cow\", \"FatLevel\": \"lower fat\"}, {\"MoisturePercent\": 45.0, \"MilkTypeEn\": \"Cow\", \"FatLevel\": \"lower fat\"}, {\"MoisturePercent\": 45.0, \"MilkTypeEn\": \"Cow\", \"FatLevel\": \"lower fat\"}, {\"MoisturePercent\": 60.0, \"MilkTypeEn\": \"Cow\", \"FatLevel\": \"lower fat\"}, {\"MoisturePercent\": 52.0, \"MilkTypeEn\": \"Cow\", \"FatLevel\": \"lower fat\"}, {\"MoisturePercent\": 50.0, \"MilkTypeEn\": \"Cow\", \"FatLevel\": \"lower fat\"}, {\"MoisturePercent\": 60.0, \"MilkTypeEn\": \"Cow\", \"FatLevel\": \"lower fat\"}, {\"MoisturePercent\": 60.0, \"MilkTypeEn\": \"Cow\", \"FatLevel\": \"lower fat\"}, {\"MoisturePercent\": 55.0, \"MilkTypeEn\": \"Cow\", \"FatLevel\": \"lower fat\"}, {\"MoisturePercent\": 45.0, \"MilkTypeEn\": \"Cow\", \"FatLevel\": \"lower fat\"}, {\"MoisturePercent\": 65.0, \"MilkTypeEn\": \"Cow\", \"FatLevel\": \"lower fat\"}, {\"MoisturePercent\": 50.0, \"MilkTypeEn\": \"Cow\", \"FatLevel\": \"higher fat\"}, {\"MoisturePercent\": 45.0, \"MilkTypeEn\": \"Cow\", \"FatLevel\": \"higher fat\"}, {\"MoisturePercent\": 50.0, \"MilkTypeEn\": \"Cow\", \"FatLevel\": \"lower fat\"}, {\"MoisturePercent\": 39.0, \"MilkTypeEn\": \"Cow\", \"FatLevel\": \"higher fat\"}, {\"MoisturePercent\": 39.0, \"MilkTypeEn\": \"Cow\", \"FatLevel\": \"higher fat\"}, {\"MoisturePercent\": 55.0, \"MilkTypeEn\": \"Goat\", \"FatLevel\": \"lower fat\"}, {\"MoisturePercent\": 40.0, \"MilkTypeEn\": \"Goat\", \"FatLevel\": \"lower fat\"}, {\"MoisturePercent\": 63.0, \"MilkTypeEn\": \"Goat\", \"FatLevel\": \"lower fat\"}, {\"MoisturePercent\": 43.0, \"MilkTypeEn\": \"Goat\", \"FatLevel\": \"lower fat\"}, {\"MoisturePercent\": 43.0, \"MilkTypeEn\": \"Goat\", \"FatLevel\": \"lower fat\"}, {\"MoisturePercent\": 47.0, \"MilkTypeEn\": \"Cow\", \"FatLevel\": \"higher fat\"}, {\"MoisturePercent\": 56.0, \"MilkTypeEn\": \"Goat\", \"FatLevel\": \"lower fat\"}, {\"MoisturePercent\": 48.0, \"MilkTypeEn\": \"Cow\", \"FatLevel\": \"lower fat\"}, {\"MoisturePercent\": 49.0, \"MilkTypeEn\": \"Cow\", \"FatLevel\": \"lower fat\"}, {\"MoisturePercent\": 48.0, \"MilkTypeEn\": \"Cow\", \"FatLevel\": \"lower fat\"}, {\"MoisturePercent\": 49.0, \"MilkTypeEn\": \"Goat\", \"FatLevel\": \"lower fat\"}, {\"MoisturePercent\": 55.0, \"MilkTypeEn\": \"Goat\", \"FatLevel\": \"higher fat\"}, {\"MoisturePercent\": 72.0, \"MilkTypeEn\": \"Goat\", \"FatLevel\": \"lower fat\"}, {\"MoisturePercent\": 43.0, \"MilkTypeEn\": \"Goat\", \"FatLevel\": \"lower fat\"}, {\"MoisturePercent\": 42.0, \"MilkTypeEn\": \"Goat\", \"FatLevel\": \"lower fat\"}, {\"MoisturePercent\": 42.0, \"MilkTypeEn\": \"Goat\", \"FatLevel\": \"lower fat\"}, {\"MoisturePercent\": 62.0, \"MilkTypeEn\": \"Goat\", \"FatLevel\": \"lower fat\"}, {\"MoisturePercent\": 43.0, \"MilkTypeEn\": \"Goat\", \"FatLevel\": \"lower fat\"}, {\"MoisturePercent\": 58.0, \"MilkTypeEn\": \"Goat\", \"FatLevel\": \"lower fat\"}, {\"MoisturePercent\": 52.0, \"MilkTypeEn\": \"Goat\", \"FatLevel\": \"lower fat\"}, {\"MoisturePercent\": 55.0, \"MilkTypeEn\": \"Goat\", \"FatLevel\": \"lower fat\"}, {\"MoisturePercent\": 58.0, \"MilkTypeEn\": \"Goat\", \"FatLevel\": \"lower fat\"}, {\"MoisturePercent\": 63.0, \"MilkTypeEn\": \"Goat\", \"FatLevel\": \"lower fat\"}, {\"MoisturePercent\": 65.0, \"MilkTypeEn\": \"Goat\", \"FatLevel\": \"lower fat\"}, {\"MoisturePercent\": 40.0, \"MilkTypeEn\": \"Goat\", \"FatLevel\": \"lower fat\"}, {\"MoisturePercent\": 40.0, \"MilkTypeEn\": \"Goat\", \"FatLevel\": \"lower fat\"}, {\"MoisturePercent\": 41.0, \"MilkTypeEn\": \"Goat\", \"FatLevel\": \"lower fat\"}, {\"MoisturePercent\": 43.0, \"MilkTypeEn\": \"Goat\", \"FatLevel\": \"lower fat\"}, {\"MoisturePercent\": 43.0, \"MilkTypeEn\": \"Goat\", \"FatLevel\": \"lower fat\"}, {\"MoisturePercent\": 63.0, \"MilkTypeEn\": \"Goat\", \"FatLevel\": \"lower fat\"}, {\"MoisturePercent\": 57.0, \"MilkTypeEn\": \"Goat\", \"FatLevel\": \"lower fat\"}, {\"MoisturePercent\": 42.0, \"MilkTypeEn\": \"Cow\", \"FatLevel\": \"lower fat\"}, {\"MoisturePercent\": 39.0, \"MilkTypeEn\": \"Cow\", \"FatLevel\": \"higher fat\"}, {\"MoisturePercent\": 39.0, \"MilkTypeEn\": \"Ewe\", \"FatLevel\": \"higher fat\"}, {\"MoisturePercent\": 39.0, \"MilkTypeEn\": \"Cow\", \"FatLevel\": \"higher fat\"}, {\"MoisturePercent\": 40.0, \"MilkTypeEn\": \"Cow\", \"FatLevel\": \"higher fat\"}, {\"MoisturePercent\": 39.0, \"MilkTypeEn\": \"Cow\", \"FatLevel\": \"higher fat\"}, {\"MoisturePercent\": 39.0, \"MilkTypeEn\": \"Cow\", \"FatLevel\": \"higher fat\"}, {\"MoisturePercent\": 39.0, \"MilkTypeEn\": \"Cow\", \"FatLevel\": \"higher fat\"}, {\"MoisturePercent\": 39.0, \"MilkTypeEn\": \"Cow\", \"FatLevel\": \"higher fat\"}, {\"MoisturePercent\": 42.0, \"MilkTypeEn\": \"Cow\", \"FatLevel\": \"lower fat\"}, {\"MoisturePercent\": 40.0, \"MilkTypeEn\": \"Cow\", \"FatLevel\": \"lower fat\"}, {\"MoisturePercent\": null, \"MilkTypeEn\": \"Cow\", \"FatLevel\": \"lower fat\"}, {\"MoisturePercent\": 41.0, \"MilkTypeEn\": \"Cow\", \"FatLevel\": \"higher fat\"}, {\"MoisturePercent\": 41.0, \"MilkTypeEn\": \"Cow\", \"FatLevel\": \"higher fat\"}, {\"MoisturePercent\": 41.0, \"MilkTypeEn\": \"Cow\", \"FatLevel\": \"higher fat\"}, {\"MoisturePercent\": 41.0, \"MilkTypeEn\": \"Cow\", \"FatLevel\": \"higher fat\"}, {\"MoisturePercent\": 41.0, \"MilkTypeEn\": \"Cow\", \"FatLevel\": \"higher fat\"}, {\"MoisturePercent\": 40.0, \"MilkTypeEn\": \"Cow\", \"FatLevel\": \"lower fat\"}, {\"MoisturePercent\": 40.0, \"MilkTypeEn\": \"Cow\", \"FatLevel\": \"lower fat\"}, {\"MoisturePercent\": 40.0, \"MilkTypeEn\": \"Cow\", \"FatLevel\": \"lower fat\"}, {\"MoisturePercent\": 40.0, \"MilkTypeEn\": \"Cow\", \"FatLevel\": \"lower fat\"}, {\"MoisturePercent\": 40.0, \"MilkTypeEn\": \"Cow\", \"FatLevel\": \"lower fat\"}, {\"MoisturePercent\": 41.0, \"MilkTypeEn\": \"Cow\", \"FatLevel\": \"lower fat\"}, {\"MoisturePercent\": 46.0, \"MilkTypeEn\": \"Cow\", \"FatLevel\": \"lower fat\"}, {\"MoisturePercent\": 40.0, \"MilkTypeEn\": \"Cow\", \"FatLevel\": \"lower fat\"}, {\"MoisturePercent\": 40.0, \"MilkTypeEn\": \"Ewe\", \"FatLevel\": \"lower fat\"}, {\"MoisturePercent\": 65.0, \"MilkTypeEn\": \"Goat\", \"FatLevel\": \"lower fat\"}, {\"MoisturePercent\": 45.0, \"MilkTypeEn\": \"Goat\", \"FatLevel\": \"lower fat\"}, {\"MoisturePercent\": 60.0, \"MilkTypeEn\": \"Goat\", \"FatLevel\": \"lower fat\"}, {\"MoisturePercent\": 68.0, \"MilkTypeEn\": \"Goat\", \"FatLevel\": \"lower fat\"}, {\"MoisturePercent\": 60.0, \"MilkTypeEn\": \"Goat\", \"FatLevel\": \"lower fat\"}, {\"MoisturePercent\": 56.0, \"MilkTypeEn\": \"Goat\", \"FatLevel\": \"lower fat\"}, {\"MoisturePercent\": 48.0, \"MilkTypeEn\": \"Goat\", \"FatLevel\": \"lower fat\"}, {\"MoisturePercent\": 35.0, \"MilkTypeEn\": \"Goat\", \"FatLevel\": \"lower fat\"}, {\"MoisturePercent\": 12.0, \"MilkTypeEn\": \"Goat\", \"FatLevel\": \"higher fat\"}, {\"MoisturePercent\": 74.0, \"MilkTypeEn\": \"Goat\", \"FatLevel\": \"lower fat\"}, {\"MoisturePercent\": 59.0, \"MilkTypeEn\": \"Goat\", \"FatLevel\": \"lower fat\"}, {\"MoisturePercent\": 46.0, \"MilkTypeEn\": \"Goat\", \"FatLevel\": \"lower fat\"}, {\"MoisturePercent\": 70.0, \"MilkTypeEn\": \"Goat\", \"FatLevel\": \"lower fat\"}, {\"MoisturePercent\": 35.0, \"MilkTypeEn\": \"Goat\", \"FatLevel\": \"lower fat\"}, {\"MoisturePercent\": 65.0, \"MilkTypeEn\": \"Goat\", \"FatLevel\": \"lower fat\"}, {\"MoisturePercent\": 35.0, \"MilkTypeEn\": \"Goat\", \"FatLevel\": \"lower fat\"}, {\"MoisturePercent\": 65.0, \"MilkTypeEn\": \"Goat\", \"FatLevel\": \"lower fat\"}, {\"MoisturePercent\": 44.0, \"MilkTypeEn\": \"Cow\", \"FatLevel\": \"higher fat\"}, {\"MoisturePercent\": 44.0, \"MilkTypeEn\": \"Cow\", \"FatLevel\": \"lower fat\"}, {\"MoisturePercent\": 39.0, \"MilkTypeEn\": \"Cow\", \"FatLevel\": \"higher fat\"}, {\"MoisturePercent\": 39.0, \"MilkTypeEn\": \"Cow\", \"FatLevel\": \"higher fat\"}, {\"MoisturePercent\": 35.0, \"MilkTypeEn\": \"Cow\", \"FatLevel\": \"higher fat\"}, {\"MoisturePercent\": 42.0, \"MilkTypeEn\": \"Cow\", \"FatLevel\": \"higher fat\"}, {\"MoisturePercent\": 54.0, \"MilkTypeEn\": \"Cow\", \"FatLevel\": \"lower fat\"}, {\"MoisturePercent\": 50.0, \"MilkTypeEn\": \"Cow\", \"FatLevel\": \"lower fat\"}, {\"MoisturePercent\": 50.0, \"MilkTypeEn\": \"Cow\", \"FatLevel\": \"lower fat\"}, {\"MoisturePercent\": 50.0, \"MilkTypeEn\": \"Cow\", \"FatLevel\": \"lower fat\"}, {\"MoisturePercent\": 55.0, \"MilkTypeEn\": \"Cow\", \"FatLevel\": \"lower fat\"}, {\"MoisturePercent\": 50.0, \"MilkTypeEn\": \"Cow\", \"FatLevel\": \"lower fat\"}, {\"MoisturePercent\": 57.0, \"MilkTypeEn\": \"Cow\", \"FatLevel\": \"lower fat\"}, {\"MoisturePercent\": 57.0, \"MilkTypeEn\": \"Cow\", \"FatLevel\": \"lower fat\"}, {\"MoisturePercent\": 60.0, \"MilkTypeEn\": \"Cow\", \"FatLevel\": \"lower fat\"}, {\"MoisturePercent\": 50.0, \"MilkTypeEn\": \"Cow\", \"FatLevel\": \"lower fat\"}, {\"MoisturePercent\": 50.0, \"MilkTypeEn\": \"Cow\", \"FatLevel\": \"lower fat\"}, {\"MoisturePercent\": 50.0, \"MilkTypeEn\": \"Cow\", \"FatLevel\": \"lower fat\"}, {\"MoisturePercent\": 52.0, \"MilkTypeEn\": \"Cow\", \"FatLevel\": \"lower fat\"}, {\"MoisturePercent\": 50.0, \"MilkTypeEn\": \"Cow\", \"FatLevel\": \"lower fat\"}, {\"MoisturePercent\": 50.0, \"MilkTypeEn\": \"Cow\", \"FatLevel\": \"lower fat\"}, {\"MoisturePercent\": 50.0, \"MilkTypeEn\": \"Cow\", \"FatLevel\": \"lower fat\"}, {\"MoisturePercent\": 50.0, \"MilkTypeEn\": \"Cow\", \"FatLevel\": \"lower fat\"}, {\"MoisturePercent\": 50.0, \"MilkTypeEn\": \"Cow\", \"FatLevel\": \"lower fat\"}, {\"MoisturePercent\": 52.0, \"MilkTypeEn\": \"Cow\", \"FatLevel\": \"lower fat\"}, {\"MoisturePercent\": 38.0, \"MilkTypeEn\": \"Cow\", \"FatLevel\": \"lower fat\"}, {\"MoisturePercent\": 65.0, \"MilkTypeEn\": \"Goat\", \"FatLevel\": \"lower fat\"}, {\"MoisturePercent\": 55.0, \"MilkTypeEn\": \"Goat\", \"FatLevel\": \"lower fat\"}, {\"MoisturePercent\": 55.0, \"MilkTypeEn\": \"Goat\", \"FatLevel\": \"lower fat\"}, {\"MoisturePercent\": 50.0, \"MilkTypeEn\": \"Goat\", \"FatLevel\": \"lower fat\"}, {\"MoisturePercent\": 43.0, \"MilkTypeEn\": \"Goat\", \"FatLevel\": \"lower fat\"}, {\"MoisturePercent\": 39.0, \"MilkTypeEn\": \"Cow\", \"FatLevel\": \"higher fat\"}, {\"MoisturePercent\": 39.0, \"MilkTypeEn\": \"Cow\", \"FatLevel\": \"higher fat\"}, {\"MoisturePercent\": 39.0, \"MilkTypeEn\": \"Cow\", \"FatLevel\": \"higher fat\"}, {\"MoisturePercent\": 39.0, \"MilkTypeEn\": \"Cow\", \"FatLevel\": \"higher fat\"}, {\"MoisturePercent\": 39.0, \"MilkTypeEn\": \"Cow\", \"FatLevel\": \"higher fat\"}, {\"MoisturePercent\": 45.0, \"MilkTypeEn\": \"Cow\", \"FatLevel\": \"lower fat\"}, {\"MoisturePercent\": 40.0, \"MilkTypeEn\": \"Cow\", \"FatLevel\": \"lower fat\"}, {\"MoisturePercent\": 45.0, \"MilkTypeEn\": \"Cow\", \"FatLevel\": \"higher fat\"}, {\"MoisturePercent\": 35.0, \"MilkTypeEn\": \"Cow\", \"FatLevel\": \"lower fat\"}, {\"MoisturePercent\": 45.0, \"MilkTypeEn\": \"Cow\", \"FatLevel\": \"lower fat\"}, {\"MoisturePercent\": 45.0, \"MilkTypeEn\": \"Cow\", \"FatLevel\": \"higher fat\"}, {\"MoisturePercent\": 42.0, \"MilkTypeEn\": \"Cow\", \"FatLevel\": \"lower fat\"}, {\"MoisturePercent\": 39.0, \"MilkTypeEn\": \"Cow\", \"FatLevel\": \"higher fat\"}, {\"MoisturePercent\": 39.0, \"MilkTypeEn\": \"Cow\", \"FatLevel\": \"higher fat\"}, {\"MoisturePercent\": 39.0, \"MilkTypeEn\": \"Cow\", \"FatLevel\": \"higher fat\"}, {\"MoisturePercent\": 42.0, \"MilkTypeEn\": \"Cow\", \"FatLevel\": \"lower fat\"}, {\"MoisturePercent\": 42.0, \"MilkTypeEn\": \"Cow\", \"FatLevel\": \"lower fat\"}, {\"MoisturePercent\": 42.0, \"MilkTypeEn\": \"Cow\", \"FatLevel\": \"lower fat\"}, {\"MoisturePercent\": 42.0, \"MilkTypeEn\": \"Cow\", \"FatLevel\": \"higher fat\"}, {\"MoisturePercent\": 54.0, \"MilkTypeEn\": \"Cow\", \"FatLevel\": \"lower fat\"}, {\"MoisturePercent\": 54.0, \"MilkTypeEn\": \"Cow\", \"FatLevel\": \"lower fat\"}, {\"MoisturePercent\": 42.0, \"MilkTypeEn\": \"Cow\", \"FatLevel\": \"lower fat\"}, {\"MoisturePercent\": 42.0, \"MilkTypeEn\": \"Cow\", \"FatLevel\": \"lower fat\"}, {\"MoisturePercent\": 45.0, \"MilkTypeEn\": \"Cow\", \"FatLevel\": \"lower fat\"}, {\"MoisturePercent\": 42.0, \"MilkTypeEn\": \"Cow\", \"FatLevel\": \"lower fat\"}, {\"MoisturePercent\": 36.0, \"MilkTypeEn\": \"Cow\", \"FatLevel\": \"higher fat\"}, {\"MoisturePercent\": 36.0, \"MilkTypeEn\": \"Cow\", \"FatLevel\": \"higher fat\"}, {\"MoisturePercent\": 48.0, \"MilkTypeEn\": \"Cow\", \"FatLevel\": \"lower fat\"}, {\"MoisturePercent\": 44.0, \"MilkTypeEn\": \"Cow\", \"FatLevel\": \"lower fat\"}, {\"MoisturePercent\": 42.0, \"MilkTypeEn\": \"Cow\", \"FatLevel\": \"lower fat\"}, {\"MoisturePercent\": 45.0, \"MilkTypeEn\": \"Cow\", \"FatLevel\": \"higher fat\"}, {\"MoisturePercent\": 40.0, \"MilkTypeEn\": \"Cow\", \"FatLevel\": \"higher fat\"}, {\"MoisturePercent\": 45.0, \"MilkTypeEn\": \"Cow\", \"FatLevel\": \"higher fat\"}, {\"MoisturePercent\": 48.0, \"MilkTypeEn\": \"Goat\", \"FatLevel\": \"lower fat\"}, {\"MoisturePercent\": 72.0, \"MilkTypeEn\": \"Cow\", \"FatLevel\": \"lower fat\"}, {\"MoisturePercent\": null, \"MilkTypeEn\": \"Cow\", \"FatLevel\": \"lower fat\"}, {\"MoisturePercent\": null, \"MilkTypeEn\": \"Cow\", \"FatLevel\": \"lower fat\"}, {\"MoisturePercent\": 50.0, \"MilkTypeEn\": \"Cow\", \"FatLevel\": \"lower fat\"}, {\"MoisturePercent\": 55.0, \"MilkTypeEn\": \"Cow\", \"FatLevel\": \"lower fat\"}, {\"MoisturePercent\": 57.0, \"MilkTypeEn\": \"Cow\", \"FatLevel\": \"lower fat\"}, {\"MoisturePercent\": 50.0, \"MilkTypeEn\": \"Cow\", \"FatLevel\": \"lower fat\"}, {\"MoisturePercent\": 48.0, \"MilkTypeEn\": \"Cow\", \"FatLevel\": \"lower fat\"}, {\"MoisturePercent\": 39.0, \"MilkTypeEn\": \"Cow\", \"FatLevel\": \"higher fat\"}, {\"MoisturePercent\": 39.0, \"MilkTypeEn\": \"Cow\", \"FatLevel\": \"higher fat\"}, {\"MoisturePercent\": 39.0, \"MilkTypeEn\": \"Cow\", \"FatLevel\": \"higher fat\"}, {\"MoisturePercent\": 39.0, \"MilkTypeEn\": \"Cow\", \"FatLevel\": \"higher fat\"}, {\"MoisturePercent\": 39.0, \"MilkTypeEn\": \"Cow\", \"FatLevel\": \"higher fat\"}, {\"MoisturePercent\": 39.0, \"MilkTypeEn\": \"Cow\", \"FatLevel\": \"higher fat\"}, {\"MoisturePercent\": 35.0, \"MilkTypeEn\": \"Cow\", \"FatLevel\": \"higher fat\"}, {\"MoisturePercent\": 42.0, \"MilkTypeEn\": \"Cow\", \"FatLevel\": \"lower fat\"}, {\"MoisturePercent\": 44.0, \"MilkTypeEn\": \"Cow\", \"FatLevel\": \"lower fat\"}, {\"MoisturePercent\": 40.0, \"MilkTypeEn\": \"Cow\", \"FatLevel\": \"lower fat\"}, {\"MoisturePercent\": 70.0, \"MilkTypeEn\": \"Goat\", \"FatLevel\": \"lower fat\"}, {\"MoisturePercent\": 45.0, \"MilkTypeEn\": \"Cow\", \"FatLevel\": \"higher fat\"}, {\"MoisturePercent\": 45.0, \"MilkTypeEn\": \"Cow\", \"FatLevel\": \"higher fat\"}, {\"MoisturePercent\": 45.0, \"MilkTypeEn\": \"Cow\", \"FatLevel\": \"higher fat\"}, {\"MoisturePercent\": 52.0, \"MilkTypeEn\": \"Cow\", \"FatLevel\": \"lower fat\"}, {\"MoisturePercent\": 38.0, \"MilkTypeEn\": \"Cow\", \"FatLevel\": \"higher fat\"}, {\"MoisturePercent\": 45.0, \"MilkTypeEn\": \"Cow\", \"FatLevel\": \"lower fat\"}, {\"MoisturePercent\": 39.0, \"MilkTypeEn\": \"Cow\", \"FatLevel\": \"higher fat\"}, {\"MoisturePercent\": 39.0, \"MilkTypeEn\": \"Cow\", \"FatLevel\": \"higher fat\"}, {\"MoisturePercent\": 39.0, \"MilkTypeEn\": \"Cow\", \"FatLevel\": \"higher fat\"}, {\"MoisturePercent\": 39.0, \"MilkTypeEn\": \"Cow\", \"FatLevel\": \"higher fat\"}, {\"MoisturePercent\": 39.0, \"MilkTypeEn\": \"Cow\", \"FatLevel\": \"higher fat\"}, {\"MoisturePercent\": 52.0, \"MilkTypeEn\": \"Cow\", \"FatLevel\": \"lower fat\"}, {\"MoisturePercent\": 32.0, \"MilkTypeEn\": \"Cow\", \"FatLevel\": \"higher fat\"}, {\"MoisturePercent\": 40.0, \"MilkTypeEn\": \"Cow\", \"FatLevel\": \"lower fat\"}, {\"MoisturePercent\": 52.0, \"MilkTypeEn\": \"Cow\", \"FatLevel\": \"lower fat\"}, {\"MoisturePercent\": 55.0, \"MilkTypeEn\": \"Cow\", \"FatLevel\": \"lower fat\"}, {\"MoisturePercent\": 65.0, \"MilkTypeEn\": \"Cow\", \"FatLevel\": \"lower fat\"}, {\"MoisturePercent\": 33.0, \"MilkTypeEn\": \"Cow\", \"FatLevel\": \"higher fat\"}, {\"MoisturePercent\": 52.0, \"MilkTypeEn\": \"Cow\", \"FatLevel\": \"lower fat\"}, {\"MoisturePercent\": 55.0, \"MilkTypeEn\": \"Cow\", \"FatLevel\": \"lower fat\"}, {\"MoisturePercent\": 33.0, \"MilkTypeEn\": \"Cow\", \"FatLevel\": \"higher fat\"}, {\"MoisturePercent\": 40.0, \"MilkTypeEn\": \"Cow\", \"FatLevel\": \"lower fat\"}, {\"MoisturePercent\": 48.0, \"MilkTypeEn\": \"Cow\", \"FatLevel\": \"higher fat\"}, {\"MoisturePercent\": 44.0, \"MilkTypeEn\": \"Cow\", \"FatLevel\": \"higher fat\"}, {\"MoisturePercent\": 55.0, \"MilkTypeEn\": \"Goat\", \"FatLevel\": \"lower fat\"}, {\"MoisturePercent\": 42.0, \"MilkTypeEn\": \"Cow\", \"FatLevel\": \"lower fat\"}, {\"MoisturePercent\": 42.0, \"MilkTypeEn\": \"Cow\", \"FatLevel\": \"lower fat\"}, {\"MoisturePercent\": 42.0, \"MilkTypeEn\": \"Cow\", \"FatLevel\": \"lower fat\"}, {\"MoisturePercent\": 42.0, \"MilkTypeEn\": \"Cow\", \"FatLevel\": \"lower fat\"}, {\"MoisturePercent\": 44.0, \"MilkTypeEn\": \"Cow\", \"FatLevel\": \"lower fat\"}, {\"MoisturePercent\": 35.0, \"MilkTypeEn\": \"Cow\", \"FatLevel\": \"higher fat\"}, {\"MoisturePercent\": 35.0, \"MilkTypeEn\": \"Cow\", \"FatLevel\": \"higher fat\"}, {\"MoisturePercent\": 55.0, \"MilkTypeEn\": \"Cow\", \"FatLevel\": \"lower fat\"}, {\"MoisturePercent\": 52.0, \"MilkTypeEn\": \"Cow\", \"FatLevel\": \"lower fat\"}, {\"MoisturePercent\": 38.0, \"MilkTypeEn\": \"Goat\", \"FatLevel\": \"lower fat\"}, {\"MoisturePercent\": 55.0, \"MilkTypeEn\": \"Goat\", \"FatLevel\": \"higher fat\"}, {\"MoisturePercent\": 76.0, \"MilkTypeEn\": \"Cow\", \"FatLevel\": \"lower fat\"}, {\"MoisturePercent\": 52.0, \"MilkTypeEn\": \"Cow\", \"FatLevel\": \"lower fat\"}, {\"MoisturePercent\": 50.0, \"MilkTypeEn\": \"Cow\", \"FatLevel\": \"lower fat\"}, {\"MoisturePercent\": 39.0, \"MilkTypeEn\": \"Cow\", \"FatLevel\": \"higher fat\"}, {\"MoisturePercent\": 47.0, \"MilkTypeEn\": \"Cow\", \"FatLevel\": \"lower fat\"}, {\"MoisturePercent\": 40.0, \"MilkTypeEn\": \"Cow\", \"FatLevel\": \"higher fat\"}, {\"MoisturePercent\": 52.0, \"MilkTypeEn\": \"Cow\", \"FatLevel\": \"lower fat\"}, {\"MoisturePercent\": 27.0, \"MilkTypeEn\": \"Cow\", \"FatLevel\": \"lower fat\"}, {\"MoisturePercent\": 35.0, \"MilkTypeEn\": \"Cow\", \"FatLevel\": \"higher fat\"}, {\"MoisturePercent\": 35.0, \"MilkTypeEn\": \"Cow\", \"FatLevel\": \"higher fat\"}, {\"MoisturePercent\": 36.0, \"MilkTypeEn\": \"Cow\", \"FatLevel\": \"higher fat\"}, {\"MoisturePercent\": 37.0, \"MilkTypeEn\": \"Cow\", \"FatLevel\": \"higher fat\"}, {\"MoisturePercent\": 29.0, \"MilkTypeEn\": \"Cow\", \"FatLevel\": \"higher fat\"}, {\"MoisturePercent\": 65.0, \"MilkTypeEn\": \"Ewe\", \"FatLevel\": \"higher fat\"}, {\"MoisturePercent\": 37.0, \"MilkTypeEn\": \"Cow\", \"FatLevel\": \"higher fat\"}, {\"MoisturePercent\": 39.0, \"MilkTypeEn\": \"Cow\", \"FatLevel\": \"higher fat\"}, {\"MoisturePercent\": 45.0, \"MilkTypeEn\": \"Goat\", \"FatLevel\": \"lower fat\"}, {\"MoisturePercent\": 55.0, \"MilkTypeEn\": \"Goat\", \"FatLevel\": \"lower fat\"}, {\"MoisturePercent\": 50.0, \"MilkTypeEn\": \"Goat\", \"FatLevel\": \"lower fat\"}, {\"MoisturePercent\": 78.0, \"MilkTypeEn\": \"Goat\", \"FatLevel\": \"lower fat\"}, {\"MoisturePercent\": 45.0, \"MilkTypeEn\": \"Goat\", \"FatLevel\": \"lower fat\"}, {\"MoisturePercent\": 62.0, \"MilkTypeEn\": \"Goat\", \"FatLevel\": \"lower fat\"}, {\"MoisturePercent\": 60.0, \"MilkTypeEn\": \"Goat\", \"FatLevel\": \"lower fat\"}, {\"MoisturePercent\": 56.0, \"MilkTypeEn\": \"Cow\", \"FatLevel\": \"lower fat\"}, {\"MoisturePercent\": 47.0, \"MilkTypeEn\": \"Cow\", \"FatLevel\": \"lower fat\"}, {\"MoisturePercent\": 64.0, \"MilkTypeEn\": \"Ewe\", \"FatLevel\": \"lower fat\"}, {\"MoisturePercent\": 54.0, \"MilkTypeEn\": \"Goat\", \"FatLevel\": \"lower fat\"}, {\"MoisturePercent\": 41.0, \"MilkTypeEn\": \"Goat\", \"FatLevel\": \"higher fat\"}, {\"MoisturePercent\": 54.0, \"MilkTypeEn\": \"Cow\", \"FatLevel\": \"lower fat\"}, {\"MoisturePercent\": 69.0, \"MilkTypeEn\": \"Goat\", \"FatLevel\": \"lower fat\"}, {\"MoisturePercent\": 39.0, \"MilkTypeEn\": \"Ewe\", \"FatLevel\": \"higher fat\"}, {\"MoisturePercent\": 56.0, \"MilkTypeEn\": \"Goat\", \"FatLevel\": \"lower fat\"}, {\"MoisturePercent\": 41.0, \"MilkTypeEn\": \"Ewe\", \"FatLevel\": \"higher fat\"}, {\"MoisturePercent\": 70.0, \"MilkTypeEn\": \"Cow\", \"FatLevel\": \"lower fat\"}, {\"MoisturePercent\": 56.0, \"MilkTypeEn\": \"Cow\", \"FatLevel\": \"lower fat\"}, {\"MoisturePercent\": 56.0, \"MilkTypeEn\": \"Ewe\", \"FatLevel\": \"lower fat\"}, {\"MoisturePercent\": 54.0, \"MilkTypeEn\": \"Ewe\", \"FatLevel\": \"lower fat\"}, {\"MoisturePercent\": 41.0, \"MilkTypeEn\": \"Cow\", \"FatLevel\": \"higher fat\"}, {\"MoisturePercent\": 39.0, \"MilkTypeEn\": \"Cow\", \"FatLevel\": \"higher fat\"}, {\"MoisturePercent\": 35.0, \"MilkTypeEn\": \"Goat\", \"FatLevel\": \"higher fat\"}, {\"MoisturePercent\": 64.0, \"MilkTypeEn\": \"Goat\", \"FatLevel\": \"lower fat\"}, {\"MoisturePercent\": 41.0, \"MilkTypeEn\": \"Goat\", \"FatLevel\": \"higher fat\"}, {\"MoisturePercent\": 64.0, \"MilkTypeEn\": \"Cow\", \"FatLevel\": \"lower fat\"}, {\"MoisturePercent\": 41.0, \"MilkTypeEn\": \"Cow\", \"FatLevel\": \"higher fat\"}, {\"MoisturePercent\": 42.0, \"MilkTypeEn\": \"Cow\", \"FatLevel\": \"lower fat\"}, {\"MoisturePercent\": 34.0, \"MilkTypeEn\": \"Cow\", \"FatLevel\": \"higher fat\"}, {\"MoisturePercent\": 50.0, \"MilkTypeEn\": \"Cow\", \"FatLevel\": \"lower fat\"}, {\"MoisturePercent\": 46.0, \"MilkTypeEn\": \"Cow\", \"FatLevel\": \"lower fat\"}, {\"MoisturePercent\": 50.0, \"MilkTypeEn\": \"Cow\", \"FatLevel\": \"higher fat\"}, {\"MoisturePercent\": 50.0, \"MilkTypeEn\": \"Cow\", \"FatLevel\": \"lower fat\"}, {\"MoisturePercent\": 48.0, \"MilkTypeEn\": \"Cow\", \"FatLevel\": \"higher fat\"}, {\"MoisturePercent\": 57.0, \"MilkTypeEn\": \"Goat\", \"FatLevel\": \"lower fat\"}, {\"MoisturePercent\": 41.0, \"MilkTypeEn\": \"Cow\", \"FatLevel\": \"higher fat\"}, {\"MoisturePercent\": 65.0, \"MilkTypeEn\": \"Ewe\", \"FatLevel\": \"lower fat\"}, {\"MoisturePercent\": 35.0, \"MilkTypeEn\": \"Cow\", \"FatLevel\": \"higher fat\"}, {\"MoisturePercent\": 43.0, \"MilkTypeEn\": \"Goat\", \"FatLevel\": \"lower fat\"}, {\"MoisturePercent\": 50.0, \"MilkTypeEn\": \"Cow\", \"FatLevel\": \"lower fat\"}, {\"MoisturePercent\": 42.8, \"MilkTypeEn\": \"Cow\", \"FatLevel\": \"lower fat\"}, {\"MoisturePercent\": 64.0, \"MilkTypeEn\": \"Buffalo Cow\", \"FatLevel\": \"lower fat\"}, {\"MoisturePercent\": 80.0, \"MilkTypeEn\": \"Buffalo Cow\", \"FatLevel\": \"lower fat\"}, {\"MoisturePercent\": 48.0, \"MilkTypeEn\": \"Cow and Goat\", \"FatLevel\": \"higher fat\"}, {\"MoisturePercent\": 70.0, \"MilkTypeEn\": \"Goat\", \"FatLevel\": \"lower fat\"}, {\"MoisturePercent\": 50.0, \"MilkTypeEn\": \"Cow\", \"FatLevel\": \"higher fat\"}, {\"MoisturePercent\": 45.0, \"MilkTypeEn\": \"Cow\", \"FatLevel\": \"lower fat\"}, {\"MoisturePercent\": 55.0, \"MilkTypeEn\": \"Goat\", \"FatLevel\": \"lower fat\"}, {\"MoisturePercent\": 23.0, \"MilkTypeEn\": \"Ewe\", \"FatLevel\": \"higher fat\"}, {\"MoisturePercent\": 52.0, \"MilkTypeEn\": \"Cow\", \"FatLevel\": \"lower fat\"}, {\"MoisturePercent\": 20.0, \"MilkTypeEn\": \"Cow\", \"FatLevel\": \"higher fat\"}, {\"MoisturePercent\": 52.0, \"MilkTypeEn\": \"Cow\", \"FatLevel\": \"higher fat\"}, {\"MoisturePercent\": 45.0, \"MilkTypeEn\": \"Cow\", \"FatLevel\": \"higher fat\"}, {\"MoisturePercent\": 37.0, \"MilkTypeEn\": \"Cow\", \"FatLevel\": \"higher fat\"}, {\"MoisturePercent\": 48.0, \"MilkTypeEn\": \"Cow\", \"FatLevel\": \"lower fat\"}, {\"MoisturePercent\": 40.0, \"MilkTypeEn\": \"Cow\", \"FatLevel\": \"lower fat\"}, {\"MoisturePercent\": 39.0, \"MilkTypeEn\": \"Cow\", \"FatLevel\": \"higher fat\"}, {\"MoisturePercent\": 52.0, \"MilkTypeEn\": \"Cow\", \"FatLevel\": \"lower fat\"}, {\"MoisturePercent\": 50.0, \"MilkTypeEn\": \"Cow\", \"FatLevel\": \"higher fat\"}, {\"MoisturePercent\": 38.0, \"MilkTypeEn\": \"Cow\", \"FatLevel\": \"higher fat\"}, {\"MoisturePercent\": 42.0, \"MilkTypeEn\": \"Cow\", \"FatLevel\": \"lower fat\"}, {\"MoisturePercent\": 42.0, \"MilkTypeEn\": \"Goat\", \"FatLevel\": \"lower fat\"}, {\"MoisturePercent\": 37.0, \"MilkTypeEn\": \"Goat\", \"FatLevel\": \"higher fat\"}, {\"MoisturePercent\": 46.0, \"MilkTypeEn\": \"Cow\", \"FatLevel\": \"lower fat\"}, {\"MoisturePercent\": 40.0, \"MilkTypeEn\": \"Cow\", \"FatLevel\": \"lower fat\"}, {\"MoisturePercent\": 65.0, \"MilkTypeEn\": \"Goat\", \"FatLevel\": \"lower fat\"}, {\"MoisturePercent\": 46.0, \"MilkTypeEn\": \"Goat\", \"FatLevel\": \"lower fat\"}, {\"MoisturePercent\": 40.0, \"MilkTypeEn\": \"Goat\", \"FatLevel\": \"higher fat\"}, {\"MoisturePercent\": 46.0, \"MilkTypeEn\": \"Cow\", \"FatLevel\": \"lower fat\"}, {\"MoisturePercent\": 46.0, \"MilkTypeEn\": \"Cow\", \"FatLevel\": \"lower fat\"}, {\"MoisturePercent\": 63.0, \"MilkTypeEn\": \"Ewe\", \"FatLevel\": \"lower fat\"}, {\"MoisturePercent\": 48.0, \"MilkTypeEn\": \"Cow\", \"FatLevel\": \"higher fat\"}, {\"MoisturePercent\": 50.0, \"MilkTypeEn\": \"Cow and Goat\", \"FatLevel\": \"lower fat\"}, {\"MoisturePercent\": 44.0, \"MilkTypeEn\": \"Cow\", \"FatLevel\": \"lower fat\"}, {\"MoisturePercent\": 55.0, \"MilkTypeEn\": \"Cow\", \"FatLevel\": \"lower fat\"}, {\"MoisturePercent\": 61.0, \"MilkTypeEn\": \"Cow\", \"FatLevel\": \"lower fat\"}, {\"MoisturePercent\": 37.0, \"MilkTypeEn\": \"Cow\", \"FatLevel\": \"higher fat\"}, {\"MoisturePercent\": 50.0, \"MilkTypeEn\": \"Cow\", \"FatLevel\": \"higher fat\"}, {\"MoisturePercent\": 50.0, \"MilkTypeEn\": \"Cow\", \"FatLevel\": \"lower fat\"}, {\"MoisturePercent\": 50.0, \"MilkTypeEn\": \"Cow\", \"FatLevel\": \"lower fat\"}, {\"MoisturePercent\": 42.0, \"MilkTypeEn\": \"Cow\", \"FatLevel\": \"higher fat\"}, {\"MoisturePercent\": 48.0, \"MilkTypeEn\": \"Cow\", \"FatLevel\": \"lower fat\"}, {\"MoisturePercent\": 43.0, \"MilkTypeEn\": \"Cow\", \"FatLevel\": \"higher fat\"}, {\"MoisturePercent\": 38.0, \"MilkTypeEn\": \"Cow\", \"FatLevel\": \"higher fat\"}, {\"MoisturePercent\": 43.0, \"MilkTypeEn\": \"Cow\", \"FatLevel\": \"higher fat\"}, {\"MoisturePercent\": 48.0, \"MilkTypeEn\": \"Cow\", \"FatLevel\": \"lower fat\"}, {\"MoisturePercent\": 46.0, \"MilkTypeEn\": \"Cow\", \"FatLevel\": \"lower fat\"}, {\"MoisturePercent\": 46.0, \"MilkTypeEn\": \"Cow\", \"FatLevel\": \"lower fat\"}, {\"MoisturePercent\": 45.0, \"MilkTypeEn\": \"Cow\", \"FatLevel\": \"lower fat\"}, {\"MoisturePercent\": 48.0, \"MilkTypeEn\": \"Cow\", \"FatLevel\": \"lower fat\"}, {\"MoisturePercent\": 45.0, \"MilkTypeEn\": \"Cow\", \"FatLevel\": \"higher fat\"}, {\"MoisturePercent\": 39.0, \"MilkTypeEn\": \"Cow\", \"FatLevel\": \"higher fat\"}, {\"MoisturePercent\": 41.0, \"MilkTypeEn\": \"Cow\", \"FatLevel\": \"higher fat\"}, {\"MoisturePercent\": 43.0, \"MilkTypeEn\": \"Cow\", \"FatLevel\": \"higher fat\"}, {\"MoisturePercent\": 54.0, \"MilkTypeEn\": \"Cow\", \"FatLevel\": \"lower fat\"}, {\"MoisturePercent\": 46.0, \"MilkTypeEn\": \"Cow\", \"FatLevel\": \"lower fat\"}, {\"MoisturePercent\": 55.0, \"MilkTypeEn\": \"Cow\", \"FatLevel\": \"lower fat\"}, {\"MoisturePercent\": 45.0, \"MilkTypeEn\": \"Cow\", \"FatLevel\": \"lower fat\"}, {\"MoisturePercent\": 39.0, \"MilkTypeEn\": \"Cow\", \"FatLevel\": \"higher fat\"}, {\"MoisturePercent\": 44.0, \"MilkTypeEn\": \"Cow\", \"FatLevel\": \"higher fat\"}, {\"MoisturePercent\": 68.0, \"MilkTypeEn\": \"Cow\", \"FatLevel\": \"lower fat\"}, {\"MoisturePercent\": 40.0, \"MilkTypeEn\": \"Cow\", \"FatLevel\": \"lower fat\"}, {\"MoisturePercent\": 44.0, \"MilkTypeEn\": \"Cow\", \"FatLevel\": \"lower fat\"}, {\"MoisturePercent\": 46.0, \"MilkTypeEn\": \"Cow\", \"FatLevel\": \"lower fat\"}, {\"MoisturePercent\": 53.0, \"MilkTypeEn\": \"Cow\", \"FatLevel\": \"lower fat\"}, {\"MoisturePercent\": 50.0, \"MilkTypeEn\": \"Cow and Goat\", \"FatLevel\": \"lower fat\"}, {\"MoisturePercent\": 38.0, \"MilkTypeEn\": \"Cow\", \"FatLevel\": \"higher fat\"}, {\"MoisturePercent\": 43.0, \"MilkTypeEn\": \"Ewe\", \"FatLevel\": \"higher fat\"}, {\"MoisturePercent\": 43.0, \"MilkTypeEn\": \"Ewe\", \"FatLevel\": \"higher fat\"}, {\"MoisturePercent\": 50.0, \"MilkTypeEn\": \"Goat\", \"FatLevel\": \"lower fat\"}, {\"MoisturePercent\": 39.0, \"MilkTypeEn\": \"Goat\", \"FatLevel\": \"higher fat\"}, {\"MoisturePercent\": 55.0, \"MilkTypeEn\": \"Goat\", \"FatLevel\": \"lower fat\"}, {\"MoisturePercent\": 60.0, \"MilkTypeEn\": \"Goat\", \"FatLevel\": \"lower fat\"}, {\"MoisturePercent\": 52.0, \"MilkTypeEn\": \"Goat\", \"FatLevel\": \"lower fat\"}, {\"MoisturePercent\": 42.0, \"MilkTypeEn\": \"Goat\", \"FatLevel\": \"lower fat\"}, {\"MoisturePercent\": 40.0, \"MilkTypeEn\": \"Ewe\", \"FatLevel\": \"lower fat\"}, {\"MoisturePercent\": 50.0, \"MilkTypeEn\": \"Goat\", \"FatLevel\": \"lower fat\"}, {\"MoisturePercent\": 50.0, \"MilkTypeEn\": \"Cow, Goat and Ewe\", \"FatLevel\": \"lower fat\"}, {\"MoisturePercent\": 40.0, \"MilkTypeEn\": \"Goat\", \"FatLevel\": \"lower fat\"}, {\"MoisturePercent\": 41.0, \"MilkTypeEn\": \"Goat\", \"FatLevel\": \"lower fat\"}, {\"MoisturePercent\": 55.0, \"MilkTypeEn\": \"Cow\", \"FatLevel\": \"lower fat\"}, {\"MoisturePercent\": 42.0, \"MilkTypeEn\": \"Ewe\", \"FatLevel\": \"higher fat\"}, {\"MoisturePercent\": 45.0, \"MilkTypeEn\": \"Cow\", \"FatLevel\": \"higher fat\"}, {\"MoisturePercent\": 42.0, \"MilkTypeEn\": \"Cow\", \"FatLevel\": \"higher fat\"}, {\"MoisturePercent\": 48.0, \"MilkTypeEn\": \"Cow\", \"FatLevel\": \"lower fat\"}, {\"MoisturePercent\": 45.0, \"MilkTypeEn\": \"Cow\", \"FatLevel\": \"higher fat\"}, {\"MoisturePercent\": 50.0, \"MilkTypeEn\": \"Goat\", \"FatLevel\": \"lower fat\"}, {\"MoisturePercent\": 42.6, \"MilkTypeEn\": \"Goat\", \"FatLevel\": \"lower fat\"}, {\"MoisturePercent\": null, \"MilkTypeEn\": \"Ewe\", \"FatLevel\": \"lower fat\"}, {\"MoisturePercent\": 75.0, \"MilkTypeEn\": \"Ewe\", \"FatLevel\": \"lower fat\"}, {\"MoisturePercent\": 52.0, \"MilkTypeEn\": \"Cow\", \"FatLevel\": \"lower fat\"}, {\"MoisturePercent\": 45.0, \"MilkTypeEn\": \"Cow\", \"FatLevel\": \"lower fat\"}, {\"MoisturePercent\": 42.0, \"MilkTypeEn\": \"Cow\", \"FatLevel\": \"lower fat\"}, {\"MoisturePercent\": 43.0, \"MilkTypeEn\": \"Cow\", \"FatLevel\": \"higher fat\"}, {\"MoisturePercent\": 39.0, \"MilkTypeEn\": \"Cow\", \"FatLevel\": \"higher fat\"}, {\"MoisturePercent\": 60.0, \"MilkTypeEn\": \"Cow\", \"FatLevel\": \"lower fat\"}, {\"MoisturePercent\": 40.0, \"MilkTypeEn\": \"Cow\", \"FatLevel\": \"lower fat\"}, {\"MoisturePercent\": 37.0, \"MilkTypeEn\": \"Cow\", \"FatLevel\": \"higher fat\"}, {\"MoisturePercent\": 46.0, \"MilkTypeEn\": \"Cow\", \"FatLevel\": \"lower fat\"}, {\"MoisturePercent\": 42.0, \"MilkTypeEn\": \"Cow\", \"FatLevel\": \"lower fat\"}, {\"MoisturePercent\": 60.0, \"MilkTypeEn\": \"Goat\", \"FatLevel\": \"lower fat\"}, {\"MoisturePercent\": 37.0, \"MilkTypeEn\": \"Cow\", \"FatLevel\": \"higher fat\"}, {\"MoisturePercent\": 21.0, \"MilkTypeEn\": \"Ewe\", \"FatLevel\": \"higher fat\"}, {\"MoisturePercent\": 46.0, \"MilkTypeEn\": \"Cow\", \"FatLevel\": \"lower fat\"}, {\"MoisturePercent\": 38.0, \"MilkTypeEn\": \"Cow\", \"FatLevel\": \"lower fat\"}, {\"MoisturePercent\": 39.0, \"MilkTypeEn\": \"Cow\", \"FatLevel\": \"higher fat\"}, {\"MoisturePercent\": 50.0, \"MilkTypeEn\": \"Cow\", \"FatLevel\": \"higher fat\"}, {\"MoisturePercent\": 50.0, \"MilkTypeEn\": \"Cow\", \"FatLevel\": \"higher fat\"}, {\"MoisturePercent\": 86.0, \"MilkTypeEn\": \"Cow\", \"FatLevel\": \"lower fat\"}, {\"MoisturePercent\": 50.0, \"MilkTypeEn\": \"Cow\", \"FatLevel\": \"higher fat\"}, {\"MoisturePercent\": 38.0, \"MilkTypeEn\": \"Cow\", \"FatLevel\": \"higher fat\"}, {\"MoisturePercent\": 26.0, \"MilkTypeEn\": \"Cow\", \"FatLevel\": \"higher fat\"}, {\"MoisturePercent\": 25.0, \"MilkTypeEn\": \"Cow\", \"FatLevel\": \"higher fat\"}, {\"MoisturePercent\": 40.0, \"MilkTypeEn\": \"Cow\", \"FatLevel\": \"lower fat\"}, {\"MoisturePercent\": 36.0, \"MilkTypeEn\": \"Cow\", \"FatLevel\": \"higher fat\"}, {\"MoisturePercent\": 40.0, \"MilkTypeEn\": \"Cow\", \"FatLevel\": \"higher fat\"}, {\"MoisturePercent\": 54.0, \"MilkTypeEn\": \"Cow\", \"FatLevel\": \"lower fat\"}, {\"MoisturePercent\": 42.0, \"MilkTypeEn\": \"Cow\", \"FatLevel\": \"lower fat\"}, {\"MoisturePercent\": 72.0, \"MilkTypeEn\": \"Goat\", \"FatLevel\": \"lower fat\"}, {\"MoisturePercent\": 42.0, \"MilkTypeEn\": \"Goat\", \"FatLevel\": \"lower fat\"}, {\"MoisturePercent\": 47.0, \"MilkTypeEn\": \"Cow\", \"FatLevel\": \"higher fat\"}, {\"MoisturePercent\": 32.0, \"MilkTypeEn\": \"Cow\", \"FatLevel\": \"lower fat\"}, {\"MoisturePercent\": 54.0, \"MilkTypeEn\": \"Cow\", \"FatLevel\": \"lower fat\"}, {\"MoisturePercent\": 33.0, \"MilkTypeEn\": \"Ewe\", \"FatLevel\": \"higher fat\"}, {\"MoisturePercent\": 41.0, \"MilkTypeEn\": \"Ewe\", \"FatLevel\": \"lower fat\"}, {\"MoisturePercent\": 30.0, \"MilkTypeEn\": \"Cow\", \"FatLevel\": \"higher fat\"}, {\"MoisturePercent\": 42.0, \"MilkTypeEn\": \"Goat\", \"FatLevel\": \"lower fat\"}, {\"MoisturePercent\": 50.0, \"MilkTypeEn\": \"Goat\", \"FatLevel\": \"lower fat\"}, {\"MoisturePercent\": 50.0, \"MilkTypeEn\": \"Goat\", \"FatLevel\": \"lower fat\"}, {\"MoisturePercent\": 50.0, \"MilkTypeEn\": \"Goat\", \"FatLevel\": \"lower fat\"}, {\"MoisturePercent\": 50.0, \"MilkTypeEn\": \"Goat\", \"FatLevel\": \"lower fat\"}, {\"MoisturePercent\": 50.0, \"MilkTypeEn\": \"Goat\", \"FatLevel\": \"lower fat\"}, {\"MoisturePercent\": 50.0, \"MilkTypeEn\": \"Goat\", \"FatLevel\": \"lower fat\"}, {\"MoisturePercent\": 50.0, \"MilkTypeEn\": \"Goat\", \"FatLevel\": \"lower fat\"}, {\"MoisturePercent\": 50.0, \"MilkTypeEn\": \"Goat\", \"FatLevel\": \"lower fat\"}, {\"MoisturePercent\": 50.0, \"MilkTypeEn\": \"Goat\", \"FatLevel\": \"lower fat\"}, {\"MoisturePercent\": 50.0, \"MilkTypeEn\": \"Goat\", \"FatLevel\": \"lower fat\"}, {\"MoisturePercent\": 50.0, \"MilkTypeEn\": \"Goat\", \"FatLevel\": \"lower fat\"}, {\"MoisturePercent\": 50.0, \"MilkTypeEn\": \"Goat\", \"FatLevel\": \"lower fat\"}, {\"MoisturePercent\": 50.0, \"MilkTypeEn\": \"Goat\", \"FatLevel\": \"lower fat\"}, {\"MoisturePercent\": 50.0, \"MilkTypeEn\": \"Goat\", \"FatLevel\": \"lower fat\"}, {\"MoisturePercent\": 33.0, \"MilkTypeEn\": \"Cow\", \"FatLevel\": \"higher fat\"}, {\"MoisturePercent\": 42.0, \"MilkTypeEn\": \"Cow\", \"FatLevel\": \"higher fat\"}, {\"MoisturePercent\": 50.0, \"MilkTypeEn\": \"Ewe\", \"FatLevel\": \"lower fat\"}, {\"MoisturePercent\": 35.0, \"MilkTypeEn\": \"Goat\", \"FatLevel\": \"lower fat\"}, {\"MoisturePercent\": 44.0, \"MilkTypeEn\": \"Cow\", \"FatLevel\": \"lower fat\"}, {\"MoisturePercent\": 42.0, \"MilkTypeEn\": \"Cow\", \"FatLevel\": \"lower fat\"}, {\"MoisturePercent\": 39.0, \"MilkTypeEn\": \"Cow\", \"FatLevel\": \"higher fat\"}, {\"MoisturePercent\": 44.0, \"MilkTypeEn\": \"Cow\", \"FatLevel\": \"lower fat\"}, {\"MoisturePercent\": 43.0, \"MilkTypeEn\": \"Cow\", \"FatLevel\": \"lower fat\"}, {\"MoisturePercent\": 55.0, \"MilkTypeEn\": \"Cow\", \"FatLevel\": \"lower fat\"}, {\"MoisturePercent\": 52.0, \"MilkTypeEn\": \"Cow\", \"FatLevel\": \"lower fat\"}, {\"MoisturePercent\": 40.0, \"MilkTypeEn\": \"Cow\", \"FatLevel\": \"lower fat\"}, {\"MoisturePercent\": 39.0, \"MilkTypeEn\": \"Cow\", \"FatLevel\": \"higher fat\"}, {\"MoisturePercent\": 40.0, \"MilkTypeEn\": \"Cow\", \"FatLevel\": \"lower fat\"}, {\"MoisturePercent\": 52.0, \"MilkTypeEn\": \"Cow\", \"FatLevel\": \"lower fat\"}, {\"MoisturePercent\": 55.0, \"MilkTypeEn\": \"Cow\", \"FatLevel\": \"lower fat\"}, {\"MoisturePercent\": 43.0, \"MilkTypeEn\": \"Cow\", \"FatLevel\": \"lower fat\"}, {\"MoisturePercent\": 50.0, \"MilkTypeEn\": \"Cow\", \"FatLevel\": \"lower fat\"}, {\"MoisturePercent\": 35.0, \"MilkTypeEn\": \"Cow\", \"FatLevel\": \"higher fat\"}, {\"MoisturePercent\": 67.0, \"MilkTypeEn\": \"Cow\", \"FatLevel\": \"lower fat\"}, {\"MoisturePercent\": 35.0, \"MilkTypeEn\": \"Ewe\", \"FatLevel\": \"higher fat\"}, {\"MoisturePercent\": 43.0, \"MilkTypeEn\": \"Ewe\", \"FatLevel\": \"lower fat\"}, {\"MoisturePercent\": 61.0, \"MilkTypeEn\": \"Ewe\", \"FatLevel\": \"lower fat\"}, {\"MoisturePercent\": 72.0, \"MilkTypeEn\": \"Ewe\", \"FatLevel\": \"lower fat\"}, {\"MoisturePercent\": 47.0, \"MilkTypeEn\": \"Ewe\", \"FatLevel\": \"lower fat\"}, {\"MoisturePercent\": 43.0, \"MilkTypeEn\": \"Ewe\", \"FatLevel\": \"lower fat\"}, {\"MoisturePercent\": 58.0, \"MilkTypeEn\": \"Cow\", \"FatLevel\": \"lower fat\"}, {\"MoisturePercent\": 34.0, \"MilkTypeEn\": \"Cow\", \"FatLevel\": \"higher fat\"}, {\"MoisturePercent\": 50.0, \"MilkTypeEn\": \"Cow\", \"FatLevel\": \"higher fat\"}, {\"MoisturePercent\": 50.0, \"MilkTypeEn\": \"Cow\", \"FatLevel\": \"higher fat\"}, {\"MoisturePercent\": 60.0, \"MilkTypeEn\": \"Cow and Goat\", \"FatLevel\": \"lower fat\"}, {\"MoisturePercent\": 60.0, \"MilkTypeEn\": \"Cow\", \"FatLevel\": \"lower fat\"}, {\"MoisturePercent\": 38.0, \"MilkTypeEn\": \"Cow\", \"FatLevel\": \"higher fat\"}, {\"MoisturePercent\": 38.0, \"MilkTypeEn\": \"Cow\", \"FatLevel\": \"higher fat\"}, {\"MoisturePercent\": 40.0, \"MilkTypeEn\": \"Cow\", \"FatLevel\": \"higher fat\"}, {\"MoisturePercent\": 55.0, \"MilkTypeEn\": \"Cow\", \"FatLevel\": \"lower fat\"}, {\"MoisturePercent\": 42.0, \"MilkTypeEn\": \"Cow\", \"FatLevel\": \"higher fat\"}, {\"MoisturePercent\": 42.0, \"MilkTypeEn\": \"Cow\", \"FatLevel\": \"higher fat\"}, {\"MoisturePercent\": 39.0, \"MilkTypeEn\": \"Cow\", \"FatLevel\": \"higher fat\"}, {\"MoisturePercent\": 39.0, \"MilkTypeEn\": \"Cow\", \"FatLevel\": \"higher fat\"}, {\"MoisturePercent\": 41.0, \"MilkTypeEn\": \"Cow\", \"FatLevel\": \"higher fat\"}, {\"MoisturePercent\": 39.0, \"MilkTypeEn\": \"Cow\", \"FatLevel\": \"higher fat\"}, {\"MoisturePercent\": 39.0, \"MilkTypeEn\": \"Cow\", \"FatLevel\": \"higher fat\"}, {\"MoisturePercent\": 39.0, \"MilkTypeEn\": \"Cow\", \"FatLevel\": \"higher fat\"}, {\"MoisturePercent\": 39.0, \"MilkTypeEn\": \"Cow\", \"FatLevel\": \"higher fat\"}, {\"MoisturePercent\": 43.0, \"MilkTypeEn\": \"Cow\", \"FatLevel\": \"higher fat\"}, {\"MoisturePercent\": 40.0, \"MilkTypeEn\": \"Cow\", \"FatLevel\": \"lower fat\"}, {\"MoisturePercent\": 39.0, \"MilkTypeEn\": \"Cow\", \"FatLevel\": \"higher fat\"}, {\"MoisturePercent\": 75.0, \"MilkTypeEn\": \"Cow\", \"FatLevel\": \"lower fat\"}, {\"MoisturePercent\": 50.0, \"MilkTypeEn\": \"Cow\", \"FatLevel\": \"lower fat\"}, {\"MoisturePercent\": 58.0, \"MilkTypeEn\": \"Cow\", \"FatLevel\": \"lower fat\"}, {\"MoisturePercent\": 56.0, \"MilkTypeEn\": \"Cow\", \"FatLevel\": \"lower fat\"}, {\"MoisturePercent\": 42.0, \"MilkTypeEn\": \"Cow\", \"FatLevel\": \"lower fat\"}, {\"MoisturePercent\": 45.0, \"MilkTypeEn\": \"Cow\", \"FatLevel\": \"higher fat\"}, {\"MoisturePercent\": 50.0, \"MilkTypeEn\": \"Ewe\", \"FatLevel\": \"higher fat\"}, {\"MoisturePercent\": 40.0, \"MilkTypeEn\": \"Ewe\", \"FatLevel\": \"lower fat\"}, {\"MoisturePercent\": 50.0, \"MilkTypeEn\": \"Cow\", \"FatLevel\": \"lower fat\"}, {\"MoisturePercent\": 55.0, \"MilkTypeEn\": \"Cow\", \"FatLevel\": \"lower fat\"}, {\"MoisturePercent\": 46.0, \"MilkTypeEn\": \"Cow\", \"FatLevel\": \"lower fat\"}, {\"MoisturePercent\": 41.0, \"MilkTypeEn\": \"Cow\", \"FatLevel\": \"lower fat\"}, {\"MoisturePercent\": 42.0, \"MilkTypeEn\": \"Cow\", \"FatLevel\": \"lower fat\"}, {\"MoisturePercent\": 39.0, \"MilkTypeEn\": \"Cow\", \"FatLevel\": \"higher fat\"}, {\"MoisturePercent\": 40.0, \"MilkTypeEn\": \"Cow\", \"FatLevel\": \"lower fat\"}, {\"MoisturePercent\": 46.0, \"MilkTypeEn\": \"Cow\", \"FatLevel\": \"lower fat\"}, {\"MoisturePercent\": 40.0, \"MilkTypeEn\": \"Ewe\", \"FatLevel\": \"lower fat\"}, {\"MoisturePercent\": 50.0, \"MilkTypeEn\": \"Goat\", \"FatLevel\": \"lower fat\"}, {\"MoisturePercent\": 50.0, \"MilkTypeEn\": \"Goat\", \"FatLevel\": \"lower fat\"}, {\"MoisturePercent\": 68.0, \"MilkTypeEn\": \"Ewe\", \"FatLevel\": \"higher fat\"}, {\"MoisturePercent\": 55.0, \"MilkTypeEn\": \"Goat\", \"FatLevel\": \"lower fat\"}, {\"MoisturePercent\": 39.0, \"MilkTypeEn\": \"Cow\", \"FatLevel\": \"higher fat\"}, {\"MoisturePercent\": 43.0, \"MilkTypeEn\": \"Cow\", \"FatLevel\": \"lower fat\"}, {\"MoisturePercent\": 17.0, \"MilkTypeEn\": \"Cow\", \"FatLevel\": \"higher fat\"}, {\"MoisturePercent\": 31.0, \"MilkTypeEn\": \"Cow\", \"FatLevel\": \"higher fat\"}, {\"MoisturePercent\": 31.0, \"MilkTypeEn\": \"Cow\", \"FatLevel\": \"higher fat\"}, {\"MoisturePercent\": 42.0, \"MilkTypeEn\": null, \"FatLevel\": \"higher fat\"}, {\"MoisturePercent\": 40.0, \"MilkTypeEn\": \"Cow\", \"FatLevel\": \"higher fat\"}, {\"MoisturePercent\": 50.0, \"MilkTypeEn\": \"Goat\", \"FatLevel\": \"lower fat\"}, {\"MoisturePercent\": 50.0, \"MilkTypeEn\": \"Goat\", \"FatLevel\": \"lower fat\"}, {\"MoisturePercent\": 50.0, \"MilkTypeEn\": \"Goat\", \"FatLevel\": \"lower fat\"}, {\"MoisturePercent\": 50.0, \"MilkTypeEn\": \"Goat\", \"FatLevel\": \"lower fat\"}, {\"MoisturePercent\": 50.0, \"MilkTypeEn\": \"Goat\", \"FatLevel\": \"lower fat\"}, {\"MoisturePercent\": 50.0, \"MilkTypeEn\": \"Goat\", \"FatLevel\": \"lower fat\"}, {\"MoisturePercent\": 37.0, \"MilkTypeEn\": \"Cow\", \"FatLevel\": \"higher fat\"}, {\"MoisturePercent\": 46.0, \"MilkTypeEn\": \"Cow\", \"FatLevel\": \"lower fat\"}, {\"MoisturePercent\": 40.0, \"MilkTypeEn\": \"Ewe\", \"FatLevel\": \"higher fat\"}, {\"MoisturePercent\": 34.0, \"MilkTypeEn\": \"Ewe\", \"FatLevel\": \"higher fat\"}, {\"MoisturePercent\": 31.5, \"MilkTypeEn\": \"Cow\", \"FatLevel\": \"higher fat\"}], \"data-dccfaccee657b7106d467063939d4c07\": [{\"text\": \"Figure 2: This chart shows the distribution of moisture percentages in Canadian cheeses.\"}], \"data-7b004f8769b3931440487b8e23fbb683\": [{\"text\": \"Figure 1: This chart shows the count of cheeses by milk type.\"}], \"data-2295bef09bc7f3174f35dec0c4ac38b5\": [{\"text\": \"Figure 4: This chart shows the moisture percentage distribution by fat level.\"}]}}, {\"mode\": \"vega-lite\"});\n",
       "</script>"
      ],
      "text/plain": [
       "alt.VConcatChart(...)"
      ]
     },
     "execution_count": 12,
     "metadata": {},
     "output_type": "execute_result"
    }
   ],
   "source": [
    "# Dashboard\n",
    "dashboard = alt.hconcat(\n",
    "    moisture_distribution_chart,\n",
    "    milk_types_distribution_chart\n",
    ").resolve_scale(\n",
    "    color='independent'  # Use independent scales for the y-axis\n",
    ")\n",
    "\n",
    "# Add the other charts to the dashboard vertically\n",
    "distribution_dashboard = alt.vconcat(\n",
    "    dashboard,\n",
    "    alt.hconcat(\n",
    "        fat_level_distribution,\n",
    "        moisture_vs_fat_chart\n",
    "    ).resolve_scale(\n",
    "    color='independent'\n",
    "    )\n",
    ")\n",
    "\n",
    "distribution_dashboard = distribution_dashboard.properties(\n",
    "    title='Visualizing Features and Target Distributions'\n",
    ").configure_title(\n",
    "    anchor='middle',  # Center the title\n",
    "    fontWeight='bold'  # Make the title bold\n",
    ")\n",
    "distribution_dashboard"
   ]
  },
  {
   "cell_type": "markdown",
   "metadata": {},
   "source": [
    "**Figure 5**: Dashboard of all the Data Visualization figures. "
   ]
  },
  {
   "cell_type": "markdown",
   "metadata": {},
   "source": [
    "#### Data Description\n",
    "**Missing Data**\n",
    "* There are some missing values in the features. As of my currently observation (at this current iteration of running the Jupyter notebook code) there are **14** rows out of a total of **833** data points that contains at least one missing value. \n",
    "* **MoisturePercent** has 13 missing values\n",
    "* **MilkTypeEn** has 1 missing value\n",
    "\n",
    "**Data Distribution**\n",
    "* The **\"Distribution of Moisture Percentage in Canadian Cheeses\"** chart has a distribution similar to the normal distribution. It may benefit from scaling during the preprocessing step to enhance model performance\n",
    "* **Distribution of Fat Level** chart suggests that there are more lower-fat than higher-fat cheese\n",
    "* **Moisture Percentage by Fat Level** box plot shows the lower fat cheeses generally have a higher moisture percentage compared to the higher fat cheeses\n",
    "* The box plot indicates that the median moisture percentage for lower fat cheeses is significantly higher, with a median around 50%, while the median for higher fat cheeses is around 40%\n",
    "\n",
    "**Class Imbalance**\n",
    "* **FatLevel** has some degree of class imbalance. To address this, I plan to utilize the scikit-learn's class_weights feature in my modeling approach\n",
    "\n",
    "#### Metrics for Success Evaluation\n",
    "I will be using **classification matrix** and **F1-score** as metrics to evaluate the model's success.\n",
    "\n",
    "There is class imbalance in the target variable so accuracy is not a reliable metric. It may give a misleading impression of model performance. I will instead use the F1-score, which balances both precision and recall which gives a more comprehensive evaluation. Since the dataset is imbalanced, I will use the sample-weighted F1-score so that all classes are properly accounted for in the evaluation.\n",
    "\n"
   ]
  },
  {
   "cell_type": "markdown",
   "metadata": {},
   "source": [
    "# Preprocessing"
   ]
  },
  {
   "cell_type": "markdown",
   "metadata": {},
   "source": [
    "#### Cleaning the data\n",
    "\n",
    "Before splitting the features from the target, I’ll take care of any missing data. Since there are very few rows with missing values, I’m just going to drop any rows in both the training and test sets that have NaN values. I'm not using impuration because the small number of missing rows won't affect the data much."
   ]
  },
  {
   "cell_type": "code",
   "execution_count": 13,
   "metadata": {},
   "outputs": [
    {
     "data": {
      "text/html": [
       "<div>\n",
       "<style scoped>\n",
       "    .dataframe tbody tr th:only-of-type {\n",
       "        vertical-align: middle;\n",
       "    }\n",
       "\n",
       "    .dataframe tbody tr th {\n",
       "        vertical-align: top;\n",
       "    }\n",
       "\n",
       "    .dataframe thead th {\n",
       "        text-align: right;\n",
       "    }\n",
       "</style>\n",
       "<table border=\"1\" class=\"dataframe\">\n",
       "  <thead>\n",
       "    <tr style=\"text-align: right;\">\n",
       "      <th></th>\n",
       "      <th>MoisturePercent</th>\n",
       "      <th>MilkTypeEn</th>\n",
       "      <th>FatLevel</th>\n",
       "    </tr>\n",
       "  </thead>\n",
       "  <tbody>\n",
       "    <tr>\n",
       "      <th>431</th>\n",
       "      <td>50.0</td>\n",
       "      <td>Cow</td>\n",
       "      <td>lower fat</td>\n",
       "    </tr>\n",
       "    <tr>\n",
       "      <th>511</th>\n",
       "      <td>54.0</td>\n",
       "      <td>Ewe</td>\n",
       "      <td>lower fat</td>\n",
       "    </tr>\n",
       "    <tr>\n",
       "      <th>635</th>\n",
       "      <td>35.0</td>\n",
       "      <td>Goat</td>\n",
       "      <td>lower fat</td>\n",
       "    </tr>\n",
       "    <tr>\n",
       "      <th>119</th>\n",
       "      <td>42.0</td>\n",
       "      <td>Cow</td>\n",
       "      <td>lower fat</td>\n",
       "    </tr>\n",
       "    <tr>\n",
       "      <th>28</th>\n",
       "      <td>42.0</td>\n",
       "      <td>Cow</td>\n",
       "      <td>lower fat</td>\n",
       "    </tr>\n",
       "    <tr>\n",
       "      <th>...</th>\n",
       "      <td>...</td>\n",
       "      <td>...</td>\n",
       "      <td>...</td>\n",
       "    </tr>\n",
       "    <tr>\n",
       "      <th>91</th>\n",
       "      <td>26.0</td>\n",
       "      <td>Ewe and Cow</td>\n",
       "      <td>higher fat</td>\n",
       "    </tr>\n",
       "    <tr>\n",
       "      <th>895</th>\n",
       "      <td>42.0</td>\n",
       "      <td>Ewe</td>\n",
       "      <td>higher fat</td>\n",
       "    </tr>\n",
       "    <tr>\n",
       "      <th>814</th>\n",
       "      <td>42.8</td>\n",
       "      <td>Cow</td>\n",
       "      <td>lower fat</td>\n",
       "    </tr>\n",
       "    <tr>\n",
       "      <th>182</th>\n",
       "      <td>37.0</td>\n",
       "      <td>Cow</td>\n",
       "      <td>higher fat</td>\n",
       "    </tr>\n",
       "    <tr>\n",
       "      <th>457</th>\n",
       "      <td>50.0</td>\n",
       "      <td>Cow</td>\n",
       "      <td>lower fat</td>\n",
       "    </tr>\n",
       "  </tbody>\n",
       "</table>\n",
       "<p>824 rows × 3 columns</p>\n",
       "</div>"
      ],
      "text/plain": [
       "     MoisturePercent   MilkTypeEn    FatLevel\n",
       "431             50.0          Cow   lower fat\n",
       "511             54.0          Ewe   lower fat\n",
       "635             35.0         Goat   lower fat\n",
       "119             42.0          Cow   lower fat\n",
       "28              42.0          Cow   lower fat\n",
       "..               ...          ...         ...\n",
       "91              26.0  Ewe and Cow  higher fat\n",
       "895             42.0          Ewe  higher fat\n",
       "814             42.8          Cow   lower fat\n",
       "182             37.0          Cow  higher fat\n",
       "457             50.0          Cow   lower fat\n",
       "\n",
       "[824 rows x 3 columns]"
      ]
     },
     "execution_count": 13,
     "metadata": {},
     "output_type": "execute_result"
    }
   ],
   "source": [
    "# Remove rows with missing data\n",
    "cheese_train = cheese_train.dropna()\n",
    "cheese_test = cheese_test.dropna()\n",
    "cheese_train"
   ]
  },
  {
   "cell_type": "markdown",
   "metadata": {},
   "source": [
    "**Table 5**: Cheese data with dropped NaN values."
   ]
  },
  {
   "cell_type": "code",
   "execution_count": 14,
   "metadata": {},
   "outputs": [],
   "source": [
    "# Separate features (X) from the target variable (y) for training and test sets\n",
    "X_train = cheese_train.drop(columns='FatLevel')\n",
    "y_train = cheese_train['FatLevel']\n",
    "X_test = cheese_test.drop(columns='FatLevel')\n",
    "y_test = cheese_test['FatLevel']\n"
   ]
  },
  {
   "cell_type": "code",
   "execution_count": 15,
   "metadata": {},
   "outputs": [
    {
     "name": "stdout",
     "output_type": "stream",
     "text": [
      "['MilkTypeEn'] ['MoisturePercent']\n"
     ]
    }
   ],
   "source": [
    "# Define categorical and numerical features\n",
    "categorical_features = ['MilkTypeEn']\n",
    "numerical_features = ['MoisturePercent']\n",
    "\n",
    "print(categorical_features, numerical_features)"
   ]
  },
  {
   "cell_type": "markdown",
   "metadata": {},
   "source": [
    "#### Column Transformer\n",
    "\n",
    "For the numerical columns, I use the StandardScaler to normalize the data. For the categorical columns, I use the OneHotEncoder since all categorical columns are nominal"
   ]
  },
  {
   "cell_type": "code",
   "execution_count": 16,
   "metadata": {},
   "outputs": [],
   "source": [
    "# Pipeline for numerical features\n",
    "numerical_pipeline = make_pipeline(StandardScaler())\n",
    "\n",
    "# Pipeline for categorical features\n",
    "categorical_pipeline = make_pipeline(\n",
    "    SimpleImputer(strategy='most_frequent'),\n",
    "    OneHotEncoder(dtype=int, handle_unknown='ignore'),\n",
    ")\n",
    "\n",
    "# Column transformer\n",
    "preprocessing_pipeline = make_column_transformer(\n",
    "    (numerical_pipeline, numerical_features), \n",
    "    (categorical_pipeline, categorical_features)\n",
    ")"
   ]
  },
  {
   "cell_type": "markdown",
   "metadata": {},
   "source": [
    "# Methods & Results"
   ]
  },
  {
   "cell_type": "markdown",
   "metadata": {},
   "source": [
    "#### Baseline Model\n",
    "Let us begin with a baseline model using DummyClassifier as a reference point for future comparisons."
   ]
  },
  {
   "cell_type": "code",
   "execution_count": 17,
   "metadata": {},
   "outputs": [
    {
     "name": "stdout",
     "output_type": "stream",
     "text": [
      "fit_time       0.001699\n",
      "score_time     0.000845\n",
      "test_score     0.555758\n",
      "train_score    0.543381\n",
      "dtype: float64\n"
     ]
    }
   ],
   "source": [
    "baseline_model = DummyClassifier(strategy=\"stratified\")\n",
    "baseline_model.fit(X_train, y_train)\n",
    "baseline_score = pd.DataFrame(cross_validate(baseline_model, X_train, y_train, return_train_score=True))\n",
    "# Display\n",
    "print(baseline_score.mean())"
   ]
  },
  {
   "cell_type": "markdown",
   "metadata": {},
   "source": [
    "#### Linear Model\n",
    "Linear logistic regression model using LogisticRegression and perform a 5-fold cross-validation."
   ]
  },
  {
   "cell_type": "code",
   "execution_count": 18,
   "metadata": {},
   "outputs": [
    {
     "name": "stdout",
     "output_type": "stream",
     "text": [
      "fit_time       0.032499\n",
      "score_time     0.011009\n",
      "test_score     0.765809\n",
      "train_score    0.768511\n",
      "dtype: float64\n"
     ]
    }
   ],
   "source": [
    "logistic_pipeline = make_pipeline(preprocessing_pipeline, LogisticRegression())\n",
    "\n",
    "# 5-fold cross-validation\n",
    "logistic_cv_results = pd.DataFrame(\n",
    "    cross_validate(logistic_pipeline, X_train, y_train, return_train_score=True)\n",
    ")\n",
    "print(logistic_cv_results.mean())"
   ]
  },
  {
   "cell_type": "markdown",
   "metadata": {},
   "source": [
    "#### Additional Supervised Machine Learning Models\n",
    "My first additional model of choice is the **RandomForestClassifier**. I will create a pipeline that includes the preprocessing steps, transforming the numerical and categorical columns using the preprocessing_pipeline. Then, I will perform 5-fold cross-validation on the training data.\n",
    "\n",
    "Second additional model is the **Support Vector Machine classifier** from scikit-learn's **SVC**. The pipeline includes the preprocessing steps, transforming the numerical and categorical columns using the preprocessing_pipeline. Then a 5-fold cross-validation on the training data with the mean() printed out.\n",
    "\n",
    "The third and last additional model is the **K-Nearest Neighbors (KNN)** classifier. The pipeline includes the preprocessing steps, transforming the numerical and categorical columns using the preprocessing_pipeline. Then a 5-fold cross-validation on the training data with the mean() printed out."
   ]
  },
  {
   "cell_type": "code",
   "execution_count": 19,
   "metadata": {},
   "outputs": [
    {
     "name": "stdout",
     "output_type": "stream",
     "text": [
      "Random Forest Classifier model:\n",
      "fit_time       0.252692\n",
      "score_time     0.023567\n",
      "test_score     0.821633\n",
      "train_score    0.854674\n",
      "dtype: float64 \n",
      "\n",
      "Support Vector Classifier (SVC):\n",
      "fit_time       0.026134\n",
      "score_time     0.008883\n",
      "test_score     0.804619\n",
      "train_score    0.808252\n",
      "dtype: float64 \n",
      "\n",
      "K-Nearest Neighbors Classifier (KNN):\n",
      "fit_time       0.013853\n",
      "score_time     0.018371\n",
      "test_score     0.802247\n",
      "train_score    0.835558\n",
      "dtype: float64\n"
     ]
    }
   ],
   "source": [
    "# Random Forest Classifier model\n",
    "random_forest_pipeline = make_pipeline(preprocessing_pipeline, RandomForestClassifier(random_state=42))\n",
    "rf_cv_results = pd.DataFrame(\n",
    "    cross_validate(random_forest_pipeline, X_train, y_train, cv=5, return_train_score=True)\n",
    ")\n",
    "print(\"Random Forest Classifier model:\")\n",
    "print(rf_cv_results.mean(),\"\\n\")\n",
    "\n",
    "# Support Vector Classifier (SVC)\n",
    "svc_pipeline = make_pipeline(preprocessing_pipeline, SVC(random_state=42))\n",
    "svc_cv_results = pd.DataFrame(\n",
    "    cross_validate(svc_pipeline, X_train, y_train, cv=5, return_train_score=True)\n",
    ")\n",
    "print(\"Support Vector Classifier (SVC):\")\n",
    "print(svc_cv_results.mean(),\"\\n\")\n",
    "\n",
    "\n",
    "# K-Nearest Neighbors (KNN)\n",
    "knn_pipeline = make_pipeline(preprocessing_pipeline, KNeighborsClassifier())\n",
    "knn_cv_results = pd.DataFrame(\n",
    "    cross_validate(knn_pipeline, X_train, y_train, cv=5, return_train_score=True)\n",
    ")\n",
    "print(\"K-Nearest Neighbors Classifier (KNN):\")\n",
    "print(knn_cv_results.mean())\n"
   ]
  },
  {
   "cell_type": "markdown",
   "metadata": {},
   "source": [
    "#### Training Score For The 5 Models"
   ]
  },
  {
   "cell_type": "code",
   "execution_count": 20,
   "metadata": {},
   "outputs": [
    {
     "name": "stdout",
     "output_type": "stream",
     "text": [
      "Model Training Scores:\n",
      "\n",
      "Dummy Classifier:  0.5433811560215202\n",
      "Logistic Regression:  0.7685105991631029\n",
      "Random Forest Classifier:  0.8546742079367269\n",
      "Support Vector Classifier (SVC):  0.8082521727134777\n",
      "K-Nearest Neighbors Classifier (KNN):  0.8355584678346439\n"
     ]
    }
   ],
   "source": [
    "# Dictionary of models and their training scores\n",
    "print_dict = {\n",
    "    'Dummy Classifier: ': baseline_score['train_score'],\n",
    "    'Logistic Regression: ': logistic_cv_results['train_score'],\n",
    "    'Random Forest Classifier: ': rf_cv_results['train_score'],\n",
    "    'Support Vector Classifier (SVC): ': svc_cv_results['train_score'],\n",
    "    'K-Nearest Neighbors Classifier (KNN): ': knn_cv_results['train_score']\n",
    "}\n",
    "\n",
    "# Print the mean training scores for each model\n",
    "print('Model Training Scores:\\n')\n",
    "for model_name, train_scores in print_dict.items():\n",
    "    print(model_name, train_scores.mean())"
   ]
  },
  {
   "cell_type": "markdown",
   "metadata": {},
   "source": [
    "I observe that the **Random Forest Classifier** and **K-Nearest Neighbors Classifier (KNN)** has the highest training score, while the **Dummy Classifier** is performing at baseline level as expected."
   ]
  },
  {
   "cell_type": "markdown",
   "metadata": {},
   "source": [
    "### Hyperparameter"
   ]
  },
  {
   "cell_type": "markdown",
   "metadata": {},
   "source": [
    "#### Random Forest Classifier\n",
    "We will now be using hyperparameters for tuning on the two best models: <br>**Random Forest Classifier** and **KNN Classifier**\n",
    "\n",
    "To further improve the performance of the Random Forest Classifier, I use RandomizedSearchCV to find the optimal value for n_estimators."
   ]
  },
  {
   "cell_type": "code",
   "execution_count": 21,
   "metadata": {},
   "outputs": [
    {
     "name": "stdout",
     "output_type": "stream",
     "text": [
      "Fitting 5 folds for each of 5 candidates, totalling 25 fits\n",
      "[CV] END ..............randomforestclassifier__max_depth=111; total time=   0.3s\n",
      "[CV] END ..............randomforestclassifier__max_depth=111; total time=   0.3s\n",
      "[CV] END ..............randomforestclassifier__max_depth=111; total time=   0.3s\n",
      "[CV] END ..............randomforestclassifier__max_depth=111; total time=   0.3s\n",
      "[CV] END ..............randomforestclassifier__max_depth=111; total time=   0.3s\n",
      "[CV] END ...............randomforestclassifier__max_depth=61; total time=   0.3s\n",
      "[CV] END ...............randomforestclassifier__max_depth=61; total time=   0.2s\n",
      "[CV] END ...............randomforestclassifier__max_depth=61; total time=   0.2s\n",
      "[CV] END ...............randomforestclassifier__max_depth=61; total time=   0.3s\n",
      "[CV] END ...............randomforestclassifier__max_depth=61; total time=   0.3s\n",
      "[CV] END ..............randomforestclassifier__max_depth=131; total time=   0.3s\n",
      "[CV] END ..............randomforestclassifier__max_depth=131; total time=   0.3s\n",
      "[CV] END ..............randomforestclassifier__max_depth=131; total time=   0.2s\n",
      "[CV] END ..............randomforestclassifier__max_depth=131; total time=   0.3s\n",
      "[CV] END ..............randomforestclassifier__max_depth=131; total time=   0.3s\n",
      "[CV] END ................randomforestclassifier__max_depth=1; total time=   0.2s\n",
      "[CV] END ................randomforestclassifier__max_depth=1; total time=   0.2s\n",
      "[CV] END ................randomforestclassifier__max_depth=1; total time=   0.2s\n",
      "[CV] END ................randomforestclassifier__max_depth=1; total time=   0.2s\n",
      "[CV] END ................randomforestclassifier__max_depth=1; total time=   0.2s\n",
      "[CV] END ...............randomforestclassifier__max_depth=41; total time=   0.3s\n",
      "[CV] END ...............randomforestclassifier__max_depth=41; total time=   0.2s\n",
      "[CV] END ...............randomforestclassifier__max_depth=41; total time=   0.2s\n",
      "[CV] END ...............randomforestclassifier__max_depth=41; total time=   0.2s\n",
      "[CV] END ...............randomforestclassifier__max_depth=41; total time=   0.2s\n",
      "Best max_depth: 111\n",
      "Best cross-validation score: 0.8216334072431634\n"
     ]
    }
   ],
   "source": [
    "parameters = {\"randomforestclassifier__max_depth\": range(1, 151, 10)}\n",
    "depth_search = RandomizedSearchCV(\n",
    "    random_forest_pipeline, \n",
    "    parameters, \n",
    "    cv=5,\n",
    "    n_iter=5,\n",
    "    return_train_score=True, \n",
    "    verbose=2\n",
    ")\n",
    "depth_search.fit(X_train, y_train)\n",
    "print(f'Best max_depth: {depth_search.best_params_[\"randomforestclassifier__max_depth\"]}')\n",
    "print(f'Best cross-validation score: {depth_search.best_score_}')"
   ]
  },
  {
   "cell_type": "code",
   "execution_count": 22,
   "metadata": {},
   "outputs": [
    {
     "name": "stdout",
     "output_type": "stream",
     "text": [
      "Optimal n_estimators:  111\n"
     ]
    }
   ],
   "source": [
    "# Convert the cross-validation results into a DataFrame\n",
    "cv_df = pd.DataFrame(depth_search.cv_results_)\n",
    "\n",
    "# Select and sort relevant columns from the cross-validation\n",
    "grid_results = cv_df.loc[\n",
    "    :,\n",
    "    [\n",
    "        'mean_test_score',\n",
    "        'param_randomforestclassifier__max_depth',\n",
    "        'mean_fit_time',\n",
    "        'rank_test_score',\n",
    "    ],\n",
    "].sort_values('rank_test_score')\n",
    "\n",
    "# Best max_depth value found by RandomizedSearchCV\n",
    "best_depth = depth_search.best_params_['randomforestclassifier__max_depth']\n",
    "print(\"Optimal n_estimators: \", best_depth)"
   ]
  },
  {
   "cell_type": "markdown",
   "metadata": {},
   "source": [
    "#### K-Nearest Neighbors Classifier (KNN)"
   ]
  },
  {
   "cell_type": "code",
   "execution_count": 23,
   "metadata": {},
   "outputs": [
    {
     "data": {
      "text/plain": [
       "{'n_neighbors': [2, 4, 6, 8, 10, 12, 14, 16, 18],\n",
       " 'mean_train_score': [0.7897475513863982,\n",
       "  0.8085607210189913,\n",
       "  0.8158389662942016,\n",
       "  0.8297930749068836,\n",
       "  0.8279725939210006,\n",
       "  0.8352558973651538,\n",
       "  0.8349528670621235,\n",
       "  0.8343458867889822,\n",
       "  0.8349519473950429],\n",
       " 'mean_cv_score': [0.7548558758314856,\n",
       "  0.7828085735402808,\n",
       "  0.792490761271249,\n",
       "  0.8192387287509237,\n",
       "  0.8228750923872875,\n",
       "  0.8337767923133776,\n",
       "  0.8325572801182556,\n",
       "  0.828920916481892,\n",
       "  0.8289061345158906]}"
      ]
     },
     "execution_count": 23,
     "metadata": {},
     "output_type": "execute_result"
    }
   ],
   "source": [
    "results_dict = {'n_neighbors': [], 'mean_train_score': [], 'mean_cv_score': []}\n",
    "\n",
    "# Iterate through values of n_neighbors from 2 to 20 (increment by 2)\n",
    "for k in range(2, 20, 2):\n",
    "    knn_pipeline = make_pipeline(preprocessing_pipeline, KNeighborsClassifier(n_neighbors=k))\n",
    "    score = cross_validate(knn_pipeline, X_train, y_train, cv=5, return_train_score=True)\n",
    "    results_dict['n_neighbors'].append(k)\n",
    "    results_dict['mean_cv_score'].append(score['test_score'].mean())\n",
    "    results_dict['mean_train_score'].append(score['train_score'].mean())\n",
    "\n",
    "results_dict\n"
   ]
  },
  {
   "cell_type": "code",
   "execution_count": 24,
   "metadata": {},
   "outputs": [
    {
     "name": "stdout",
     "output_type": "stream",
     "text": [
      "Optimal n_neighbors:  12\n"
     ]
    }
   ],
   "source": [
    "results_df = pd.DataFrame(results_dict)\n",
    "best_k = int(results_df.loc[results_df['mean_cv_score'].idxmax()]['n_neighbors'])\n",
    "print('Optimal n_neighbors: ', best_k)"
   ]
  },
  {
   "cell_type": "markdown",
   "metadata": {},
   "source": [
    "## Comparing Models\n",
    "\n",
    "I now have the optimal hyperparameters for both the **Random Forest Classifier** and the **K-Nearest Neighbors Classifier**. Now, I will create new pipelines using the same preprocessing_pipeline, and pass the optimized hyperparameters to the classifiers. I will score it to compare the models and select the final one"
   ]
  },
  {
   "cell_type": "code",
   "execution_count": 25,
   "metadata": {},
   "outputs": [
    {
     "name": "stdout",
     "output_type": "stream",
     "text": [
      "Random Forest Classifier training score:  0.8519417475728155\n",
      "KNN Classifier training score:  0.8021844660194175\n"
     ]
    }
   ],
   "source": [
    "# Random Forest Classifier with optimized hyperparameters\n",
    "best_rfc = make_pipeline(preprocessing_pipeline, RandomForestClassifier(max_depth=best_depth, random_state=8))\n",
    "rfc_train = best_rfc.fit(X_train, y_train).score(X_train, y_train)\n",
    "print('Random Forest Classifier training score: ', rfc_train)\n",
    "\n",
    "# KNN Classifier with optimized hyperparameters\n",
    "best_knn = make_pipeline(preprocessing_pipeline, KNeighborsClassifier(n_neighbors=best_k)).fit(X_train, y_train)\n",
    "knn_train = best_knn.score(X_train, y_train)\n",
    "print('KNN Classifier training score: ', knn_train)\n"
   ]
  },
  {
   "cell_type": "markdown",
   "metadata": {},
   "source": [
    "#### Scoring on Test Set\n",
    "Comparing the training scores of an unbalanced Random Forest Classifier and a balanced Random Forest Classifier."
   ]
  },
  {
   "cell_type": "code",
   "execution_count": 26,
   "metadata": {},
   "outputs": [
    {
     "name": "stdout",
     "output_type": "stream",
     "text": [
      "Unbalanced training score: 0.8519417475728155\n",
      "Balanced training score: 0.8434466019417476\n"
     ]
    }
   ],
   "source": [
    "# Unbalanced Random Forest Classifier (from previous step)\n",
    "rfc_train = best_rfc.fit(X_train, y_train).score(X_train, y_train)\n",
    "\n",
    "# Balanced Random Forest Classifier\n",
    "rfc_balanced = make_pipeline(\n",
    "    preprocessing_pipeline, \n",
    "    RandomForestClassifier(n_estimators=101, class_weight='balanced', random_state=8)\n",
    ")\n",
    "# Fit\n",
    "balanced_score = rfc_balanced.fit(X_train, y_train).score(X_train, y_train)\n",
    "\n",
    "print('Unbalanced training score:', rfc_train)\n",
    "print('Balanced training score:', balanced_score)\n"
   ]
  },
  {
   "cell_type": "markdown",
   "metadata": {},
   "source": [
    "The **Unbalanced Random Forest Classifier** is selected as the final model because it has the better score."
   ]
  },
  {
   "cell_type": "code",
   "execution_count": 27,
   "metadata": {},
   "outputs": [
    {
     "data": {
      "image/png": "[encoded data removed]",
      "text/plain": [
       "<Figure size 432x288 with 2 Axes>"
      ]
     },
     "metadata": {
      "needs_background": "light"
     },
     "output_type": "display_data"
    }
   ],
   "source": [
    "y_pred = best_rfc.predict(X_test)\n",
    "\n",
    "# Confusion matrix without normalization\n",
    "cm = confusion_matrix(y_test, y_pred)\n",
    "\n",
    "# Normalized confusion matrix\n",
    "cm_normalized = confusion_matrix(y_test, y_pred, normalize='true')\n",
    "\n",
    "cmatrix_normalized = ConfusionMatrixDisplay(confusion_matrix=cm_normalized, display_labels=best_rfc.classes_)\n",
    "\n",
    "# Plot\n",
    "cmatrix_normalized.plot(xticks_rotation='vertical', cmap=plt.cm.Blues)\n",
    "plt.title('Normalized Confusion Matrix of the Optimized Random Forest Classifier')\n",
    "plt.show()\n"
   ]
  },
  {
   "cell_type": "markdown",
   "metadata": {},
   "source": [
    "**Figure 6**: Normalized Confusion Matrix of the Optimized Random Forest Classifier. The matrix is normalized, displaying the proportion of true positive, false positive, true negative, and false negative predictions.\n",
    "\n",
    "The values within the matrix cells represent the probabilities of correct and incorrect classifications:\n",
    "* **0.95: True positive.** The model correctly predicts 92% of the lower fat samples.\n",
    "* **0.6: True negative.** The model correctly predicts 60% of the higher fat samples.\n",
    "* **0.4: False positive.** The model incorrectly predicts 40% of the higher fat samples as lower fat.\n",
    "* **0.055: False negative.** The model misclassifies approximately 7.9% of the lower fat samples as higher fat.\n",
    "\n"
   ]
  },
  {
   "cell_type": "markdown",
   "metadata": {},
   "source": [
    "#### Classification Report"
   ]
  },
  {
   "cell_type": "code",
   "execution_count": 28,
   "metadata": {},
   "outputs": [
    {
     "name": "stdout",
     "output_type": "stream",
     "text": [
      "              precision    recall  f1-score   support\n",
      "\n",
      "  higher fat       0.85      0.55      0.67        62\n",
      "   lower fat       0.83      0.96      0.89       141\n",
      "\n",
      "    accuracy                           0.83       203\n",
      "   macro avg       0.84      0.75      0.78       203\n",
      "weighted avg       0.83      0.83      0.82       203\n",
      "\n",
      "Sample-Weighted F1 Score: 0.82\n"
     ]
    }
   ],
   "source": [
    "y_pred = best_rfc.predict(X_test)\n",
    "report = classification_report(y_test, y_pred, target_names=best_rfc.classes_)\n",
    "print(report)\n",
    "\n",
    "# Calculate the sample-weighted F1 score\n",
    "weighted_f1 = f1_score(y_test, y_pred, average='weighted')\n",
    "print(f\"Sample-Weighted F1 Score: {weighted_f1:.2f}\")"
   ]
  },
  {
   "cell_type": "markdown",
   "metadata": {},
   "source": [
    "## Writing\n",
    "\n",
    "Given the dataset's characteristics, we focused on two primary features: MoisturePercent and MilkTypeEn. The rationale behind my decision-making is that these two features provide the best quality data with the least missing information. Based on educated guesses, there is a potential relationship relevant to classifying cheese. MoisturePercent is a continuous variable that directly affects the texture and quality of cheese, while MilkTypeEn is a categorical variable that describes the source of milk used, which can significantly influence the fat content of cheeses.\n",
    "\n",
    "For exploring additional models, I selected a Random Forest Classifier, a Support Vector Classifier, and a K-Neighbors Classifier. I chose the Random Forest Classifier because of the class imbalance observed during the exploratory data analysis (EDA), and it is known to perform well against such imbalances. Interestingly, the unbalanced Random Forest model performed better than its balanced counterpart. Given the small dataset, which is free of significant outliers, the K-Neighbors Classifier was also a suitable choice.\n",
    "\n",
    "The Random Forest Classifier emerged as the best fit, achieving a score of approximately 0.8456, followed by the K-Neighbors Classifier at around 0.8302 and the Support Vector Classifier with a score of approximately 0.8007. The Random Forest Classifier's superior performance can likely be attributed to its robustness against class imbalance and its ability to generalize better compared to the other models.\n",
    "\n",
    "## Discussion\n",
    "\n",
    "This project aimed to develop a supervised machine learning model to classify cheeses as lower-fat or higher-fat based on milk type and moisture content. We achieved a solid F1-score of 0.83, indicating that the model effectively distinguishes between the two cheese types. This is great for the cheese industry, as it means our model can help improve the accuracy of cheese labeling, which in turn assists consumers who are increasingly conscious of fat content in their diets.\n",
    "\n",
    "The Random Forest Classifier turned out to be the best performer, thanks to its strength in handling class imbalance and its ability to combine insights from multiple trees. When we looked at feature importance, MoisturePercent was the standout predictor, followed by MilkTypeEn. This makes sense since moisture levels significantly influence how fatty a cheese is. That said, we could definitely improve the model by adding more features. For example, including rind type, manufacturing processes, or extracting key flavor characteristics could yield even better results.\n",
    "\n",
    "We also need to consider potential biases in our data. If our dataset doesn't fully represent all the different cheese types available, that could skew our model results. We would have to adjust data that are overrepresented or underrepresented.\n",
    "\n",
    "Future analyses could benefit from experimenting with more advanced methods, like data augmentation or count vectorization, to enhance model performance. Implementing these features could greatly improve performance and interpretability, making the model even more reliable."
   ]
  },
  {
   "cell_type": "markdown",
   "metadata": {},
   "source": [
    "## References\n",
    "\n",
    "* Pedregosa, F., Varoquaux, G., Gramfort, A., Michel, V., Thirion, B., Boureau, Y., ... & Duchesnay, É. (2011). Scikit-learn: Machine Learning in Python. Journal of Machine Learning Research, 12, 2825-2830. Retrieved from http://www.jmlr.org/papers/volume12/pedregosa11a/pedregosa11a.pdf\n",
    "\n",
    "* McKinney, W. (2010). Pandas: Data Structures for Statistical Computing in Python. In Proceedings of the 9th Python in Science Conference (Vol. 445, pp. 51-56). Retrieved from https://conference.scipy.org/proceedings/scipy2010/mckinney.html\n",
    "\n",
    "* Van der Walt, S., Colbert, S. C., & Varoquaux, G. (2011). NumPy: A Fundamental Package for Scientific Computing with Python. In Proceedings of the 9th Python in Science Conference (Vol. 156, pp. 1-7). Retrieved from https://conference.scipy.org/proceedings/scipy2011/vanderwalt.html\n",
    "\n",
    "* Hunter, J. D. (2007). Matplotlib: A 2D Graphics Environment. Computing in Science & Engineering, 9(3), 90-95. doi:10.1109/MCSE.2007.55\n",
    "\n",
    "* VanderPlas, J., & others. (2018). Altair: A Declarative Visualization Library for Python. IEEE Transactions on Visualization and Computer Graphics, 24(1), 366-375. doi:10.1109/TVCG.2017.2745258"
   ]
  }
 ],
 "metadata": {
  "kernelspec": {
   "display_name": "Python 3",
   "language": "python",
   "name": "python3"
  },
  "language_info": {
   "codemirror_mode": {
    "name": "ipython",
    "version": 3
   },
   "file_extension": ".py",
   "mimetype": "text/x-python",
   "name": "python",
   "nbconvert_exporter": "python",
   "pygments_lexer": "ipython3",
   "version": "3.8.5"
  }
 },
 "nbformat": 4,
 "nbformat_minor": 4
}
